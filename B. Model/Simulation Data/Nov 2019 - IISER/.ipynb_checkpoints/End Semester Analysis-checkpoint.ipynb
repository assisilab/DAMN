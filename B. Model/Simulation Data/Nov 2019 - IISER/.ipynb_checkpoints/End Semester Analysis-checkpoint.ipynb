{
 "cells": [
  {
   "cell_type": "code",
   "execution_count": 1,
   "metadata": {},
   "outputs": [],
   "source": [
    "import os\n",
    "import numpy as np\n",
    "import matplotlib.pyplot as plt\n",
    "%matplotlib qt4"
   ]
  },
  {
   "cell_type": "code",
   "execution_count": 7,
   "metadata": {},
   "outputs": [
    {
     "name": "stdout",
     "output_type": "stream",
     "text": [
      "OdorC_D2000_Locust_B_0\n",
      "OdorC_D1000_Locust_A_0\n",
      "OdorB_D2000_Locust_B_0\n",
      "OdorB_D1000_Locust_B_0\n",
      "OdorC_D2000_Locust_A_0\n",
      "OdorA_D1000_Locust_B_0\n",
      "OdorA_D1000_Locust_A_1\n",
      "OdorA_D2000_Locust_A_0\n",
      "OdorB_D2000_Locust_A_0\n",
      "OdorB_D1000_Locust_A_0\n",
      "OdorA_D1000_Locust_A_0\n",
      "OdorA_D2000_Locust_B_0\n",
      "OdorC_D1000_Locust_B_0\n"
     ]
    }
   ],
   "source": [
    "for i in filter(lambda v: \".\" not in v,os.listdir()):\n",
    "    print(i)"
   ]
  },
  {
   "cell_type": "code",
   "execution_count": 9,
   "metadata": {},
   "outputs": [],
   "source": [
    "orns={}\n",
    "for i in filter(lambda v: \".\" not in v,os.listdir()):\n",
    "    orns[i] = np.load(i+\"/ORN Firing Data.npy\")"
   ]
  },
  {
   "cell_type": "code",
   "execution_count": 10,
   "metadata": {},
   "outputs": [],
   "source": [
    "al_in={}\n",
    "for i in filter(lambda v: \".\" not in v,os.listdir()):\n",
    "    al_in[i] = np.load(i+\"/current_input.npy\")"
   ]
  },
  {
   "cell_type": "code",
   "execution_count": null,
   "metadata": {},
   "outputs": [],
   "source": []
  }
 ],
 "metadata": {
  "kernelspec": {
   "display_name": "Python 3",
   "language": "python",
   "name": "python3"
  },
  "language_info": {
   "codemirror_mode": {
    "name": "ipython",
    "version": 3
   },
   "file_extension": ".py",
   "mimetype": "text/x-python",
   "name": "python",
   "nbconvert_exporter": "python",
   "pygments_lexer": "ipython3",
   "version": "3.6.6"
  }
 },
 "nbformat": 4,
 "nbformat_minor": 2
}
