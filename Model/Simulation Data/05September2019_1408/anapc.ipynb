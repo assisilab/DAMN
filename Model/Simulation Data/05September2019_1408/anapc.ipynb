{
 "cells": [
  {
   "cell_type": "code",
   "execution_count": 7,
   "metadata": {},
   "outputs": [
    {
     "name": "stdout",
     "output_type": "stream",
     "text": [
      "batch1_part_1.npy\n",
      "batch2_part_1.npy\n",
      "batch3_part_1.npy\n",
      "batch4_part_1.npy\n",
      "batch5_part_1.npy\n",
      "batch6_part_1.npy\n",
      "Concatenated\n"
     ]
    }
   ],
   "source": [
    "%matplotlib qt\n",
    "\n",
    "import numpy as np\n",
    "import matplotlib.pyplot as plt\n",
    "import seaborn as sns\n",
    "import pickle \n",
    "import os\n",
    "\n",
    "n_splits = len(list(filter(lambda v: 'batch' in v, os.listdir())))\n",
    "n_batch = 1\n",
    "\n",
    "overall_state = []\n",
    "\n",
    "# Iterate over the generated output files\n",
    "for n,i in enumerate([\"batch\"+str(x+1) for x in range(n_splits)]):\n",
    "    for m,j in enumerate([\"_part_\"+str(x+1)+\".npy\" for x in range(n_batch)]):\n",
    "        # Since the first element in the series was the last output, we remove them\n",
    "        if n>0 and m>0:\n",
    "            overall_state.append(np.load(i+j)[1:,:120])\n",
    "        else:\n",
    "            overall_state.append(np.load(i+j)[:,:120])\n",
    "        print(i+j)\n",
    "\n",
    "# Concatenate all the matrix to get a single state matrix\n",
    "overall_state = np.concatenate(overall_state)\n",
    "\n",
    "print(\"Concatenated\")\n"
   ]
  },
  {
   "cell_type": "code",
   "execution_count": null,
   "metadata": {},
   "outputs": [],
   "source": [
    "plt.figure(figsize=(18,18))\n",
    "for i in range(int(0.75*overall_state.shape[1])):\n",
    "    plt.plot(np.linspace(0,6,overall_state[::100,i].shape[0]),i*(overall_state.max()-overall_state.min())+overall_state[::100,i])"
   ]
  },
  {
   "cell_type": "code",
   "execution_count": null,
   "metadata": {},
   "outputs": [],
   "source": [
    "plt.figure(figsize=(18,6))\n",
    "for i in range(int(0.25*overall_state.shape[1])):\n",
    "    plt.plot(np.linspace(0,6,overall_state[::100,90+i].shape[0]),i*(overall_state.max()-overall_state.min())+overall_state[::100,90+i])"
   ]
  },
  {
   "cell_type": "code",
   "execution_count": 8,
   "metadata": {},
   "outputs": [],
   "source": [
    "from sklearn.decomposition import PCA\n",
    "model = PCA(n_components=2)\n",
    "p = model.fit_transform(overall_state[:,:90])"
   ]
  },
  {
   "cell_type": "code",
   "execution_count": 9,
   "metadata": {},
   "outputs": [
    {
     "data": {
      "text/plain": [
       "<matplotlib.colorbar.Colorbar at 0x7fa4168cfa90>"
      ]
     },
     "execution_count": 9,
     "metadata": {},
     "output_type": "execute_result"
    }
   ],
   "source": [
    "plt.scatter(p[::100,0],p[::100,1],c=np.arange(int(p.shape[0]/100 +1)),alpha=0.5)\n",
    "plt.colorbar()"
   ]
  },
  {
   "cell_type": "code",
   "execution_count": 11,
   "metadata": {},
   "outputs": [
    {
     "data": {
      "text/plain": [
       "[<mpl_toolkits.mplot3d.art3d.Line3D at 0x7fa3f012c208>]"
      ]
     },
     "execution_count": 11,
     "metadata": {},
     "output_type": "execute_result"
    }
   ],
   "source": [
    "temp = np.array(np.hsplit(overall_state[:-5,:90].T,overall_state[:-5,:90].T.shape[1]/20000)).mean(axis=2)\n",
    "\n",
    "model = PCA(n_components=3)\n",
    "PC = model.fit_transform(temp)\n",
    "\n",
    "from mpl_toolkits.mplot3d import Axes3D\n",
    "\n",
    "fig = plt.figure()\n",
    "ax = fig.add_subplot(111, projection='3d')\n",
    "\n",
    "ax.scatter(PC[:,0],PC[:,1],PC[:,2],c=range(PC.shape[0]))\n",
    "ax.scatter(PC[50000:450000,0],PC[50000:450000,1],PC[50000:450000,2],c='r')\n",
    "ax.plot(PC[:,0],PC[:,1],PC[:,2])\n",
    "\n"
   ]
  },
  {
   "cell_type": "code",
   "execution_count": null,
   "metadata": {},
   "outputs": [],
   "source": [
    "overall_state[:-5,:90].shape"
   ]
  },
  {
   "cell_type": "code",
   "execution_count": null,
   "metadata": {},
   "outputs": [],
   "source": [
    "%matplotlib nbagg"
   ]
  },
  {
   "cell_type": "code",
   "execution_count": null,
   "metadata": {},
   "outputs": [],
   "source": []
  }
 ],
 "metadata": {
  "kernelspec": {
   "display_name": "Python 3",
   "language": "python",
   "name": "python3"
  },
  "language_info": {
   "codemirror_mode": {
    "name": "ipython",
    "version": 3
   },
   "file_extension": ".py",
   "mimetype": "text/x-python",
   "name": "python",
   "nbconvert_exporter": "python",
   "pygments_lexer": "ipython3",
   "version": "3.6.6"
  }
 },
 "nbformat": 4,
 "nbformat_minor": 2
}
