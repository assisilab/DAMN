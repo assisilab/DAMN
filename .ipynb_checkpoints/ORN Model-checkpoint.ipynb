{
 "cells": [
  {
   "cell_type": "code",
   "execution_count": 1,
   "metadata": {},
   "outputs": [],
   "source": [
    "import numpy as np\n",
    "import matplotlib.pyplot as plt\n",
    "%matplotlib qt4"
   ]
  },
  {
   "cell_type": "code",
   "execution_count": null,
   "metadata": {},
   "outputs": [],
   "source": [
    "# All timings are in milliseconds (ms)\n",
    "l_odorspace = 5\n",
    "\n",
    "def generate_orn(duration,resolution,odorVec,odorStart,odorEnd):\n",
    "    \n",
    "    trace = np.zeros(duration/resolution)\n",
    "    rec_field = np.random.uniform(-1,1,l_odorspace)\n",
    "    \n",
    "    latency = np.random.uniform(0,200)\n",
    "    t_rise = np.random.uniform(0,600)\n",
    "    tuning = np.random.uniform(1,15)\n",
    "    \n",
    "    def sigmoid(a1=15,a2=0.8):\n",
    "        return 1/(1+np.exp(-a1*(x-a2)))\n",
    "    \n",
    "    odorMag = np.linalg.norm(odorVec)\n",
    "    cosSim = np.dot(odorVec,rec_field)/(np.linalg.norm(odorVec)*np.linalg.norm(rec_field))\n",
    "    \n",
    "    if np.arccos(cosSim) < 1.43117:\n",
    "        res_strength = sigmoid(odorMag*cosSim**tuning)\n",
    "    else\n",
    "        res_strength = 0\n",
    "    \n",
    "    if np.random.uniform()<0.5: # Sharp Response\n",
    "        rise = np.arange(0,t_rise,resolution)\n",
    "        rise = res_strength*"
   ]
  }
 ],
 "metadata": {
  "kernelspec": {
   "display_name": "Python 3",
   "language": "python",
   "name": "python3"
  },
  "language_info": {
   "codemirror_mode": {
    "name": "ipython",
    "version": 3
   },
   "file_extension": ".py",
   "mimetype": "text/x-python",
   "name": "python",
   "nbconvert_exporter": "python",
   "pygments_lexer": "ipython3",
   "version": "3.6.6"
  }
 },
 "nbformat": 4,
 "nbformat_minor": 2
}
