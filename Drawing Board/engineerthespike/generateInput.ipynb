{
 "cells": [
  {
   "cell_type": "code",
   "execution_count": 85,
   "metadata": {},
   "outputs": [],
   "source": [
    "import numpy as np\n",
    "import matplotlib.pyplot as plt\n",
    "import polarTools as pt\n",
    "\n",
    "## Implementation of Raman et. al. 2010 ORN Model ##\n",
    "\n",
    "l_odorspace = 2\t\t# Number of Parameters that define Odorants\n",
    "\n",
    "# More parameters generally means a sparser response by ORNs \n",
    "\n",
    "odor = pt.generateUniform(1,l_odorspace) # Odorant Identity in Odor Space\n",
    "\n",
    "# The Magnitude of Odor Vector is proportional to Concentration"
   ]
  },
  {
   "cell_type": "code",
   "execution_count": 97,
   "metadata": {},
   "outputs": [],
   "source": [
    "def generate_orn(duration,resolution,odorVec,odorStart,odorEnd): # Function to generate single ORN Trace\n",
    "    \n",
    "    baseline = 0.2 # Baseline Firing Rate\n",
    "    trace = baseline*np.ones(int(duration/resolution))\n",
    "    rec_field = pt.generateUniform(1,l_odorspace) # Receptive Field of ORNs in Odor Space\n",
    "    \n",
    "    latency = np.random.uniform(0,200) # Latency of Response to Odor Presentation\n",
    "    t_rise = np.random.uniform(0,600) # Time to Rise to Peak\n",
    "    t_fall = np.random.uniform(0,1200) # Response Decay Time\n",
    "    tuning = np.random.uniform(1,15) # Odor Tuning-width / Sensitivity\n",
    "    \n",
    "    \n",
    "    def sigmoid(x,a1=15,a2=0.8):\t# Sigmoid for Response\n",
    "        return 1/(1+np.exp(-a1*(x-a2)))\n",
    "    \n",
    "    odorMag = np.linalg.norm(odorVec) # Odor Concentration\n",
    "    cosSim = np.dot(odorVec,rec_field)/(np.linalg.norm(odorVec)*np.linalg.norm(rec_field)) # Cosine Similarity wrt Odor\n",
    "    \n",
    "\n",
    "    if np.arccos(cosSim) < np.pi*60/180:\t# Minimum Response Threshhold\n",
    "        res_strength = (1-baseline)*sigmoid(odorMag*np.cos(np.arccos(cosSim)/2)**tuning)\n",
    "    else:\n",
    "        res_strength = -baseline\n",
    "    \n",
    "    \n",
    "    if np.random.uniform()<0.5:\n",
    "        \n",
    "        response_type='sharp' # Sharp Response to Odor\n",
    "        \n",
    "        # Generate Sharp Trace\n",
    "\n",
    "        rise = np.arange(0,t_rise/2,resolution)\n",
    "        rise = baseline+res_strength*2*np.exp(1)/t_rise*rise*np.exp(-2*rise/t_rise)\n",
    "        \n",
    "        riseStartIndex = int((odorStart+latency)/resolution)\n",
    "        riseEndIndex = riseStartIndex+rise.shape[0]\n",
    "        \n",
    "        trace[riseStartIndex:riseEndIndex] = rise\n",
    "        \n",
    "        peak = rise[-1]\n",
    "        \n",
    "        fall = np.linspace(0,duration-riseEndIndex*resolution,trace.shape[0]-riseEndIndex)\n",
    "        fall = (peak-baseline)*np.exp(-fall/t_fall)+baseline\n",
    "        \n",
    "        fallStartIndex = riseEndIndex\n",
    "        trace[fallStartIndex:] = fall\n",
    "    \n",
    "    else:\n",
    "        \n",
    "        response_type='broad' # Broad Response to Odor\n",
    "        \n",
    "        # Generate Broad Trace\n",
    "\n",
    "        rise = np.arange(0,t_rise,resolution)\n",
    "        rise = baseline+res_strength*np.exp(1)/t_rise*rise*np.exp(-rise/t_rise)\n",
    "        \n",
    "        riseStartIndex = int((odorStart+latency)/resolution)\n",
    "        riseEndIndex = int((odorStart+latency)/resolution)+rise.shape[0]\n",
    "        \n",
    "        trace[riseStartIndex:riseEndIndex] = rise\n",
    "        \n",
    "        peak_1 = rise[-1]\n",
    "        \n",
    "        adaptation_rate = np.random.uniform(0.1,1) # Amplitude of Adaptation-related Decay\n",
    "        t_adaptation = np.random.uniform(0,1200) # Odor Adaptation Time\n",
    "        \n",
    "        adaptation = np.arange(0,(int(odorEnd/resolution)-riseEndIndex)*resolution,resolution)\n",
    "\n",
    "#         if res_strength>0:\n",
    "#             #adaptation = np.linspace(peak_1,adaptation_rate*res_strength,adaptation.shape[0],endpoint=False)\n",
    "#             #adaptation = (peak_1-(adaptation_rate*res_strength+baseline))*np.exp(-adaptation/t_adaptation)+(adaptation_rate*res_strength+baseline)\n",
    "#         else:\n",
    "#             adaptation = np.zeros(adaptation.shape)\n",
    "        adaptation = (peak_1-(adaptation_rate*res_strength+baseline))*np.exp(-adaptation/t_adaptation)+(adaptation_rate*res_strength+baseline)\n",
    "        \n",
    "        adaptationStartIndex = riseEndIndex\n",
    "        adaptationEndIndex = adaptationStartIndex+adaptation.shape[0]\n",
    "        \n",
    "        trace[adaptationStartIndex:adaptationEndIndex] = adaptation\n",
    "        \n",
    "        peak_2 = adaptation[-1]\n",
    "        \n",
    "        fall = np.arange(0,(trace.shape[0]-adaptationEndIndex)*resolution,resolution)\n",
    "        fall = (peak_2-baseline)*np.exp(-fall/t_fall) + baseline\n",
    "        \n",
    "#         fall = baseline*np.ones(fall.shape)\n",
    "        \n",
    "        fallStartIndex = adaptationEndIndex\n",
    "        \n",
    "        trace[fallStartIndex:] = fall\n",
    "    \n",
    "    time = np.arange(0,duration,resolution)\n",
    "    \n",
    "    return time,trace\n",
    "\n",
    "# Generate Odor Response\n",
    "\n",
    "orns = []\n",
    "\n",
    "for i in range(100):\t# Generate 100 ORN types\n",
    "    time,trace = generate_orn(6000,0.01,odor,500,2500)\n",
    "    orns.append(trace)\n",
    "\n",
    "orns = np.array(orns*10)*25 # Make 10 replicates of each ORN\n",
    "\n",
    "# Plot ORN Responses\n",
    "plt.figure()\n",
    "order = np.argsort(orns.max(axis=1))\n",
    "plt.imshow(orns[order[::-1],::100], aspect='auto')\n",
    "plt.colorbar()\n",
    "plt.xlabel('Time (in ms)')\n",
    "plt.ylabel('Neuron Number')\n",
    "plt.title('ORN Response')\n",
    "plt.show()\n",
    "\n",
    "plt.figure()\n",
    "order = np.argsort(orns.mean(axis=1))\n",
    "plt.plot(orns[:100,::100].T)\n",
    "plt.xlabel('Time (in ms)')\n",
    "plt.ylabel('Neuron Number')\n",
    "plt.title('ORN Response')\n",
    "plt.show()\n",
    "\n",
    "# Plot EAD\n",
    "plt.figure()\n",
    "plt.plot(np.matmul(orns.T,np.ones((1000,1)))/1000)\n",
    "plt.xlabel('Time (in ms)')\n",
    "plt.ylabel('Mean Firing Rate')\n",
    "plt.title('EAG Response')\n",
    "plt.show()"
   ]
  },
  {
   "cell_type": "code",
   "execution_count": 95,
   "metadata": {
    "scrolled": false
   },
   "outputs": [],
   "source": [
    "# Generate ORN-AL Connectivity (1000 ORNs to 90 PNs and 30 LNs)\n",
    "\n",
    "ORN_AL = np.zeros((1000,120))\n",
    "\n",
    "p_PN = 0.05\n",
    "p_LN = 0.7\n",
    "\n",
    "n_PN = int(100*p_PN)\n",
    "n_LN = int(1000*p_LN)\n",
    "\n",
    "pn = []\n",
    "for i in range(90):\n",
    "    x = [1]*n_PN+[0]*(100-n_PN)\n",
    "    np.random.shuffle(x)\n",
    "    pn.append(x)\n",
    "ORN_AL[:,:90] = np.array(list(np.array(pn).T)*10)\n",
    "# ORN_AL[:,:90] = np.array(list(np.random.choice([0,1],size=(100,90),p=[1-p_PN,p_PN]))*10)\n",
    "\n",
    "ln = []\n",
    "for i in range(30):\n",
    "    x = [1]*n_LN+[0]*(1000-n_LN)\n",
    "    np.random.shuffle(x)\n",
    "    ln.append(x)\n",
    "ORN_AL[:,90:] = np.array(ln).T\n",
    "# ORN_AL[:,90:] = np.random.choice([0,1],size=(1000,30),p=[1-p_LN,p_LN])\n",
    "\n",
    "# Generate Antennal Output\n",
    "\n",
    "ORN_Output = np.matmul(orns.T,ORN_AL).T\n",
    "\n",
    "PN_current = 10\n",
    "LN_current = 8\n",
    "\n",
    "PN_scale = PN_current/ORN_Output[:90,50000:150000].max() # PN Scaling Factor\n",
    "LN_scale = LN_current/ORN_Output[90:,50000:150000].max() # LN Scaling Factor\n",
    "\n",
    "# Scale ORN Output to AL Input\n",
    "ORN_Output[:90,:] = (ORN_Output[:90,:] * PN_scale)\n",
    "ORN_Output[90:,:] = (ORN_Output[90:,:] * LN_scale)\n",
    "\n",
    "plt.figure()\n",
    "order = np.argsort(ORN_Output[:90,:].max(axis=1))\n",
    "plt.imshow(ORN_Output[order[::-1],::100], aspect='auto')\n",
    "plt.colorbar()\n",
    "plt.xlabel('Time (in ms)')\n",
    "plt.ylabel('Neuron Number')\n",
    "plt.show()\n",
    "\n",
    "plt.figure()\n",
    "order = np.argsort(ORN_Output[90:120,:].max(axis=1))\n",
    "plt.imshow(ORN_Output[90+order[::-1],::100], aspect='auto')\n",
    "plt.colorbar()\n",
    "plt.xlabel('Time (in ms)')\n",
    "plt.ylabel('Neuron Number')\n",
    "plt.show()\n"
   ]
  },
  {
   "cell_type": "code",
   "execution_count": 92,
   "metadata": {},
   "outputs": [],
   "source": [
    "plt.figure()\n",
    "plt.plot(ORN_Output[90:120,::100].T)\n",
    "plt.xlabel('Time (in ms)')\n",
    "plt.ylabel('Neuron Number')\n",
    "plt.show()"
   ]
  },
  {
   "cell_type": "code",
   "execution_count": 93,
   "metadata": {},
   "outputs": [],
   "source": [
    "plt.figure()\n",
    "plt.plot(ORN_Output[:90,::100].T)\n",
    "plt.xlabel('Time (in ms)')\n",
    "plt.ylabel('Neuron Number')\n",
    "plt.show()"
   ]
  },
  {
   "cell_type": "code",
   "execution_count": 6,
   "metadata": {},
   "outputs": [],
   "source": [
    "np.save('current_input',ORN_Output)"
   ]
  },
  {
   "cell_type": "code",
   "execution_count": 7,
   "metadata": {},
   "outputs": [],
   "source": [
    "from sklearn.decomposition import PCA"
   ]
  },
  {
   "cell_type": "code",
   "execution_count": 8,
   "metadata": {},
   "outputs": [],
   "source": [
    "model = PCA(n_components=2)"
   ]
  },
  {
   "cell_type": "code",
   "execution_count": 10,
   "metadata": {},
   "outputs": [],
   "source": [
    "out = model.fit_transform(ORN_Output[:90,:])"
   ]
  },
  {
   "cell_type": "code",
   "execution_count": 11,
   "metadata": {},
   "outputs": [
    {
     "data": {
      "text/plain": [
       "<matplotlib.collections.PathCollection at 0x7f27fa4ee438>"
      ]
     },
     "execution_count": 11,
     "metadata": {},
     "output_type": "execute_result"
    },
    {
     "data": {
      "image/png": "[encoded data removed]",
      "text/plain": [
       "<Figure size 432x288 with 1 Axes>"
      ]
     },
     "metadata": {
      "needs_background": "light"
     },
     "output_type": "display_data"
    }
   ],
   "source": [
    "plt.scatter(out[:,0],out[:,1])"
   ]
  },
  {
   "cell_type": "code",
   "execution_count": 12,
   "metadata": {},
   "outputs": [],
   "source": [
    "def generate_orn(duration,resolution,odorVec,odorStart,odorEnd,sharp=True,t_fall=300,exi=False): # Function to generate single ORN Trace\n",
    "    \n",
    "    baseline = np.random.normal(0.1,0.01) # Baseline Firing Rate\n",
    "    trace = baseline*np.ones(int(duration/resolution))\n",
    "    rec_field = np.random.uniform(0,1,l_odorspace) # Receptive Field of ORNs in Odor Space\n",
    "    \n",
    "    latency = 0 # Latency of Response to Odor Presentation\n",
    "    t_rise = 300 # Time to Rise to Peak\n",
    "    tuning = 1 # Odor Tuning-width / Sensitivity\n",
    "    \n",
    "    def sigmoid(x,a1=15,a2=0.8):\t# Sigmoid for Response\n",
    "        return 1/(1+np.exp(-a1*(x-a2)))\n",
    "    \n",
    "    odorMag = 1 # Odor Concentration\n",
    "    cosSim = 1 # Cosine Similarity wrt Odor\n",
    "    \n",
    "\n",
    "    if exi:\t# Minimum Response Threshhold\n",
    "        res_strength = (1-baseline)*sigmoid(odorMag*cosSim**tuning)\n",
    "    else:\n",
    "        res_strength = -baseline\n",
    "    \n",
    "    \n",
    "    if sharp:\n",
    "        \n",
    "        response_type='sharp' # Sharp Response to Odor\n",
    "        \n",
    "        # Generate Sharp Trace\n",
    "\n",
    "        rise = np.arange(0,t_rise/2,resolution)\n",
    "        rise = baseline+res_strength*2*np.exp(1)/t_rise*rise*np.exp(-2*rise/t_rise)\n",
    "        \n",
    "        riseStartIndex = int((odorStart+latency)/resolution)\n",
    "        riseEndIndex = riseStartIndex+rise.shape[0]\n",
    "        \n",
    "        trace[riseStartIndex:riseEndIndex] = rise\n",
    "        \n",
    "        peak = rise[-1]\n",
    "        \n",
    "        fall = np.linspace(0,duration-riseEndIndex*resolution,trace.shape[0]-riseEndIndex)\n",
    "        fall = (peak-baseline)*np.exp(-fall/t_fall)+baseline\n",
    "        \n",
    "        fallStartIndex = riseEndIndex\n",
    "        trace[fallStartIndex:] = fall\n",
    "    \n",
    "    else:\n",
    "        \n",
    "        response_type='broad' # Broad Response to Odor\n",
    "        \n",
    "        # Generate Broad Trace\n",
    "\n",
    "        rise = np.arange(0,t_rise,resolution)\n",
    "        rise = baseline+res_strength*np.exp(1)/t_rise*rise*np.exp(-rise/t_rise)\n",
    "        \n",
    "        riseStartIndex = int((odorStart+latency)/resolution)\n",
    "        riseEndIndex = int((odorStart+latency)/resolution)+rise.shape[0]\n",
    "        \n",
    "        trace[riseStartIndex:riseEndIndex] = rise\n",
    "        \n",
    "        peak_1 = rise[-1]\n",
    "        \n",
    "        adaptation_rate = 0.5#np.random.uniform(0.1,1) # Amplitude of Adaptation-related Decay\n",
    "        t_adaptation = np.random.uniform(0,1200) # Odor Adaptation Time\n",
    "        \n",
    "        adaptation = np.arange(0,(int(odorEnd/resolution)-riseEndIndex)*resolution,resolution)\n",
    "\n",
    "#         if res_strength>0:\n",
    "#             #adaptation = np.linspace(peak_1,adaptation_rate*res_strength,adaptation.shape[0],endpoint=False)\n",
    "#             #adaptation = (peak_1-(adaptation_rate*res_strength+baseline))*np.exp(-adaptation/t_adaptation)+(adaptation_rate*res_strength+baseline)\n",
    "#         else:\n",
    "#             adaptation = np.zeros(adaptation.shape)\n",
    "        adaptation = (peak_1-(adaptation_rate*res_strength+baseline))*np.exp(-adaptation/t_adaptation)+(adaptation_rate*res_strength+baseline)\n",
    "        \n",
    "        adaptationStartIndex = riseEndIndex\n",
    "        adaptationEndIndex = adaptationStartIndex+adaptation.shape[0]\n",
    "        \n",
    "        trace[adaptationStartIndex:adaptationEndIndex] = adaptation\n",
    "        \n",
    "        peak_2 = adaptation[-1]\n",
    "        \n",
    "        fall = np.arange(0,(trace.shape[0]-adaptationEndIndex)*resolution,resolution)\n",
    "        fall = (peak_2-baseline)*np.exp(-fall/t_fall) + baseline\n",
    "        \n",
    "#         fall = baseline*np.ones(fall.shape)\n",
    "        \n",
    "        fallStartIndex = adaptationEndIndex\n",
    "        \n",
    "        trace[fallStartIndex:] = fall\n",
    "    \n",
    "    time = np.arange(0,duration,resolution)\n",
    "    \n",
    "    return time,trace"
   ]
  },
  {
   "cell_type": "code",
   "execution_count": 13,
   "metadata": {},
   "outputs": [],
   "source": [
    "orns=[]\n",
    "for i in range(100):\t# Generate 100 ORN types\n",
    "    time,trace = generate_orn(3000,0.01,odor,200,1200)\n",
    "    orns.append(trace)\n",
    "\n",
    "sharp = np.array(orns).mean(axis=0)"
   ]
  },
  {
   "cell_type": "code",
   "execution_count": 14,
   "metadata": {},
   "outputs": [
    {
     "data": {
      "text/plain": [
       "[<matplotlib.lines.Line2D at 0x7f27fa4d1630>]"
      ]
     },
     "execution_count": 14,
     "metadata": {},
     "output_type": "execute_result"
    },
    {
     "data": {
      "image/png": "[encoded data removed]",
      "text/plain": [
       "<Figure size 432x288 with 1 Axes>"
      ]
     },
     "metadata": {
      "needs_background": "light"
     },
     "output_type": "display_data"
    }
   ],
   "source": [
    "plt.plot(sharp)"
   ]
  },
  {
   "cell_type": "code",
   "execution_count": 15,
   "metadata": {},
   "outputs": [],
   "source": [
    "orns=[]\n",
    "for i in range(100):\t# Generate 100 ORN types\n",
    "    time,trace = generate_orn(3000,0.01,odor,200,1200,sharp=False,t_fall=300,exi=True)\n",
    "    orns.append(trace)\n",
    "\n",
    "fast = np.array(orns).mean(axis=0)"
   ]
  },
  {
   "cell_type": "code",
   "execution_count": 16,
   "metadata": {},
   "outputs": [
    {
     "data": {
      "text/plain": [
       "[<matplotlib.lines.Line2D at 0x7f2973f96518>]"
      ]
     },
     "execution_count": 16,
     "metadata": {},
     "output_type": "execute_result"
    },
    {
     "data": {
      "image/png": "[encoded data removed]",
      "text/plain": [
       "<Figure size 432x288 with 1 Axes>"
      ]
     },
     "metadata": {
      "needs_background": "light"
     },
     "output_type": "display_data"
    }
   ],
   "source": [
    "plt.plot(fast)"
   ]
  },
  {
   "cell_type": "code",
   "execution_count": 17,
   "metadata": {},
   "outputs": [],
   "source": [
    "orns=[]\n",
    "for i in range(100):\t# Generate 100 ORN types\n",
    "    time,trace = generate_orn(3000,0.01,odor,200,1200,sharp=False,t_fall=900)\n",
    "    orns.append(trace)\n",
    "\n",
    "slow = np.array(orns).mean(axis=0)"
   ]
  },
  {
   "cell_type": "code",
   "execution_count": 18,
   "metadata": {},
   "outputs": [
    {
     "data": {
      "text/plain": [
       "[<matplotlib.lines.Line2D at 0x7f2973f71390>]"
      ]
     },
     "execution_count": 18,
     "metadata": {},
     "output_type": "execute_result"
    },
    {
     "data": {
      "image/png": "[encoded data removed]",
      "text/plain": [
       "<Figure size 432x288 with 1 Axes>"
      ]
     },
     "metadata": {
      "needs_background": "light"
     },
     "output_type": "display_data"
    }
   ],
   "source": [
    "plt.plot(slow)"
   ]
  },
  {
   "cell_type": "code",
   "execution_count": 19,
   "metadata": {},
   "outputs": [],
   "source": [
    "np.save('current_input',np.array([sharp,slow,fast]))"
   ]
  },
  {
   "cell_type": "code",
   "execution_count": 20,
   "metadata": {},
   "outputs": [
    {
     "data": {
      "text/plain": [
       "[<matplotlib.lines.Line2D at 0x7f2973ece898>]"
      ]
     },
     "execution_count": 20,
     "metadata": {},
     "output_type": "execute_result"
    },
    {
     "data": {
      "image/png": "[encoded data removed]",
      "text/plain": [
       "<Figure size 432x288 with 1 Axes>"
      ]
     },
     "metadata": {
      "needs_background": "light"
     },
     "output_type": "display_data"
    }
   ],
   "source": [
    "plt.plot(1*(1-fast)+8*(1-slow))"
   ]
  },
  {
   "cell_type": "code",
   "execution_count": 45,
   "metadata": {},
   "outputs": [],
   "source": [
    "import easygui\n",
    "\n",
    "model_path = easygui.filesavebox(msg='Open Locust File',title='Locust Browser',default='{}.locust'.format(),filetypes=['*.locust','*.pkl'])"
   ]
  },
  {
   "cell_type": "code",
   "execution_count": 25,
   "metadata": {},
   "outputs": [],
   "source": [
    "def ct(r, arr):\n",
    "    a = np.concatenate((np.array([2*np.pi]), arr))\n",
    "    si = np.sin(a)\n",
    "    si[0] = 1\n",
    "    si = np.cumprod(si)\n",
    "    co = np.cos(a)\n",
    "    co = np.roll(co, -1)\n",
    "    return si*co*r"
   ]
  },
  {
   "cell_type": "code",
   "execution_count": 66,
   "metadata": {},
   "outputs": [
    {
     "data": {
      "text/plain": [
       "<mpl_toolkits.mplot3d.art3d.Path3DCollection at 0x7f0ba4f13a20>"
      ]
     },
     "execution_count": 66,
     "metadata": {},
     "output_type": "execute_result"
    }
   ],
   "source": [
    "from mpl_toolkits.mplot3d import Axes3D\n",
    "fig = plt.figure()\n",
    "ax = fig.add_subplot(111, projection='3d')\n",
    "\n",
    "points = []\n",
    "for i in range(10000):\n",
    "    a = ct(1,np.concatenate((np.arccos(np.random.uniform(-1,1,size=2)),np.random.uniform(0,2*np.pi,size=1)),axis=None))\n",
    "    points.append(a)\n",
    "ax.scatter(np.array(points).T[0],np.array(points).T[1],np.array(points).T[2],'o',alpha=0.2)\n"
   ]
  },
  {
   "cell_type": "code",
   "execution_count": 53,
   "metadata": {},
   "outputs": [],
   "source": [
    "%matplotlib qt4"
   ]
  },
  {
   "cell_type": "code",
   "execution_count": null,
   "metadata": {},
   "outputs": [],
   "source": []
  }
 ],
 "metadata": {
  "kernelspec": {
   "display_name": "Python 3",
   "language": "python",
   "name": "python3"
  },
  "language_info": {
   "codemirror_mode": {
    "name": "ipython",
    "version": 3
   },
   "file_extension": ".py",
   "mimetype": "text/x-python",
   "name": "python",
   "nbconvert_exporter": "python",
   "pygments_lexer": "ipython3",
   "version": "3.6.6"
  }
 },
 "nbformat": 4,
 "nbformat_minor": 2
}
