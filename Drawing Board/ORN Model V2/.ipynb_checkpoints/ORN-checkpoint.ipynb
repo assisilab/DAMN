{
 "cells": [
  {
   "cell_type": "code",
   "execution_count": 1,
   "metadata": {},
   "outputs": [
    {
     "name": "stdout",
     "output_type": "stream",
     "text": [
      "Generating ORN Responses...\n",
      "Generation Complete. Plotting.\n"
     ]
    }
   ],
   "source": [
    "import numpy as np\n",
    "import matplotlib.pyplot as plt\n",
    "import polarTools as pt\n",
    "import easygui\n",
    "import pickle\n",
    "\n",
    "# Select the Odorant, Odor Delivery Protocol, Locust Model\n",
    "odor_path = easygui.fileopenbox(msg='Open Odor File',title='Odor Browser',default='/home/iiser/Collins-Saptarshi 2019b/DAMN/A. Odors/*.odor',filetypes=['*.odor'])\n",
    "protocol_path = easygui.fileopenbox(msg='Open Protocol File',title='Odor Protocol Browser',default='/home/iiser/Collins-Saptarshi 2019b/DAMN/A. Odor Protocols/*.protocol',filetypes=['*.protocol'])\n",
    "locust_path = easygui.fileopenbox(msg='Open Locust File',title='Locust Browser',default='/home/iiser/Collins-Saptarshi 2019b/DAMN/A. Locusts/*.locust',filetypes=['*.locust'])\n",
    "\n",
    "# Load the Odorant, Odor Delivery Protocol, Locust Model\n",
    "with open(odor_path, 'rb') as fp:\n",
    "    odor = pickle.load(fp)\n",
    "with open(protocol_path, 'rb') as fp:\n",
    "    protocol = pickle.load(fp)\n",
    "with open(locust_path, 'rb') as fp:\n",
    "    locust = pickle.load(fp)\n",
    "\n",
    "# Define ORN Response Generator\n",
    "def generate_orn(orn_number,duration,resolution,odorVec,odorStart,odorEnd): # Function to generate single ORN Trace\n",
    "    \n",
    "    baseline = 0.05#locust['baseline_firing']/locust['peak_firing'] # Baseline Firing Rate Ratio\n",
    "    trace = baseline*np.ones(int(duration/resolution)) # Set Baseline activity for the Protocol Duration\n",
    "    rec_field = pt.generateUniform(1,odor['dim_odorspace'],seed=int(locust['rec_seeds'][orn_number])) # Receptive Field of ORNs in Odor Space\n",
    "    \n",
    "    latency = locust['latency'][orn_number] # Latency of Response to Odor Presentation\n",
    "    t_rise = locust['t_rise'][orn_number] # Time to Rise to Peak\n",
    "    t_fall = locust['t_fall'][orn_number] # Response Decay Time\n",
    "    tuning = locust['tuning'][orn_number] # Odor Tuning-width / Sensitivity\n",
    "    \n",
    "    def sigmoid(x,a1=locust['a1'],a2=locust['a2']):\t# Sigmoid for Response\n",
    "        return 1/(1+np.exp(-a1*(x-a2)))\n",
    "    \n",
    "    odorMag = np.linalg.norm(odorVec) # Odor Concentration\n",
    "    cosSim = np.dot(odorVec,rec_field)/(np.linalg.norm(odorVec)*np.linalg.norm(rec_field)) # Cosine Similarity wrt Odor\n",
    "\n",
    "    if np.arccos(cosSim) < np.deg2rad(locust['inh_threshold']):\t# Minimum Response Threshhold\n",
    "        res_strength = (1-baseline)*sigmoid(odorMag*np.cos(np.arccos(cosSim)/2)**tuning)\n",
    "    else:\n",
    "        res_strength = -baseline\n",
    "    \n",
    "    if locust['f_sharp'][orn_number]:\n",
    "        # Generate Sharp Trace\n",
    "        rise = np.arange(0,t_rise/2,resolution)\n",
    "        rise = baseline+res_strength*2*np.exp(1)/t_rise*rise*np.exp(-2*rise/t_rise)\n",
    "        riseStartIndex = int((odorStart+latency)/resolution)\n",
    "        riseEndIndex = riseStartIndex+rise.shape[0]\n",
    "        trace[riseStartIndex:riseEndIndex] = rise\n",
    "        peak = rise[-1]\n",
    "        fall = np.linspace(0,duration-riseEndIndex*resolution,trace.shape[0]-riseEndIndex)\n",
    "        fall = (peak-baseline)*np.exp(-fall/t_fall)+baseline\n",
    "        fallStartIndex = riseEndIndex\n",
    "        trace[fallStartIndex:] = fall    \n",
    "    else:\n",
    "        # Generate Broad Trace\n",
    "        rise = np.arange(0,t_rise,resolution)\n",
    "        rise = baseline+res_strength*np.exp(1)/t_rise*rise*np.exp(-rise/t_rise)\n",
    "        riseStartIndex = int((odorStart+latency)/resolution)\n",
    "        riseEndIndex = int((odorStart+latency)/resolution)+rise.shape[0]\n",
    "        trace[riseStartIndex:riseEndIndex] = rise\n",
    "        peak_1 = rise[-1]\n",
    "        adaptation_rate = locust['adaptation_extent'][orn_number] # Amplitude of Adaptation-related Decay\n",
    "        t_adaptation = locust['t_adaptation'][orn_number] # Odor Adaptation Time\n",
    "        adaptation = np.arange(0,(int(odorEnd/resolution)-riseEndIndex)*resolution,resolution)\n",
    "        adaptation = (peak_1-(adaptation_rate*res_strength+baseline))*np.exp(-adaptation/t_adaptation)+(adaptation_rate*res_strength+baseline)\n",
    "        adaptationStartIndex = riseEndIndex\n",
    "        adaptationEndIndex = adaptationStartIndex+adaptation.shape[0]\n",
    "        trace[adaptationStartIndex:adaptationEndIndex] = adaptation\n",
    "        peak_2 = adaptation[-1]\n",
    "        fall = np.arange(0,(trace.shape[0]-adaptationEndIndex)*resolution,resolution)\n",
    "        fall = (peak_2-baseline)*np.exp(-fall/t_fall) + baseline\n",
    "        fallStartIndex = adaptationEndIndex\n",
    "        trace[fallStartIndex:] = fall\n",
    "    \n",
    "    trace = trace*locust['peak_firing'] # Scale to Peak Firing Rate\n",
    "    \n",
    "    return trace\n",
    "\n",
    "# Generate Odor Response\n",
    "\n",
    "print(\"Generating ORN Responses...\")\n",
    "\n",
    "orns = []\n",
    "for i in range(locust['ORN_types']): # Generate ORN types\n",
    "    orns.append(generate_orn(i,protocol['duration'],protocol['resolution'],odor['odor_vector'],protocol['odor_start'],protocol['odor_start']+protocol['odor_duration']))\n",
    "    print('{}/{} ORN Types Completed'.format(i+1,locust['ORN_types']), end = '\\r')\n",
    "\n",
    "orns = np.array(orns*locust['ORN_replicates'])\n",
    "\n",
    "print(\"Generation Complete. Plotting.\")\n",
    "\n",
    "# Plot the ORN Response\n",
    "plt.figure()\n",
    "order = np.argsort(orns.max(axis=1))\n",
    "plt.imshow(orns[order[::-1],::100], aspect='auto')\n",
    "plt.colorbar()\n",
    "plt.xlabel('Time (in ms)')\n",
    "plt.ylabel('Neuron Number')\n",
    "plt.title('ORN Response')\n",
    "plt.savefig('ORN Response.png')\n",
    "\n",
    "# Plot the ORN Traces\n",
    "plt.figure()\n",
    "order = np.argsort(orns.mean(axis=1))\n",
    "plt.plot(orns[:,::100].T)\n",
    "plt.xlabel('Time (in ms)')\n",
    "plt.ylabel('Neuron Number')\n",
    "plt.title('ORN Traces')\n",
    "plt.savefig('ORN Traces.png')\n",
    "\n",
    "# Plot EAD\n",
    "plt.figure()\n",
    "plt.plot(orns.mean(axis=0))\n",
    "plt.xlabel('Time (in ms)')\n",
    "plt.ylabel('Mean Firing Rate')\n",
    "plt.title('EAG Response')\n",
    "plt.savefig('EAG Response.png')\n",
    "\n",
    "# Save ORN Data\n",
    "np.save('ORN Firing Data',orns[:,::100])\n"
   ]
  },
  {
   "cell_type": "code",
   "execution_count": 2,
   "metadata": {},
   "outputs": [],
   "source": [
    "def spike_generator(trace,resolution):\n",
    "    fr = trace*resolution/1000\n",
    "    p = fr/np.exp(fr)\n",
    "    spike = np.random.uniform(size=p.shape)<p\n",
    "    return np.int64(spike)"
   ]
  },
  {
   "cell_type": "code",
   "execution_count": 3,
   "metadata": {},
   "outputs": [
    {
     "name": "stdout",
     "output_type": "stream",
     "text": [
      "1000/1000 ORN Spiking Completed\r"
     ]
    }
   ],
   "source": [
    "orns_spike = np.zeros(orns.shape)\n",
    "for i in range(orns.shape[0]):\n",
    "    orns_spike[i,:] = spike_generator(orns[i,:],0.01)\n",
    "    print('{}/{} ORN Spiking Completed'.format(i+1,locust['ORN_types']*locust['ORN_replicates']), end = '\\r')"
   ]
  },
  {
   "cell_type": "code",
   "execution_count": 246,
   "metadata": {},
   "outputs": [],
   "source": [
    "# p_n = int(0.75*locust['AL_n'])\n",
    "# l_n = int(0.25*locust['AL_n'])\n",
    "# rows = 10\n",
    "# col_len = orns.shape[1]\n",
    "# for j in range(int(p_n/rows)):\n",
    "#     for i in range(rows):\n",
    "#         plt.plot(np.linspace(j,j+0.95,col_len),i+ orns[i,:]/20)   \n",
    "#         plt.plot(np.linspace(j,j+0.95,col_len),i+ orns_spike[i,:]/2)"
   ]
  },
  {
   "cell_type": "code",
   "execution_count": null,
   "metadata": {},
   "outputs": [
    {
     "name": "stdout",
     "output_type": "stream",
     "text": [
      "Generating Antennal Input...\n"
     ]
    }
   ],
   "source": [
    "print(\"Generating Antennal Input...\")\n",
    "\n",
    "# Generate Antennal Output\n",
    "ORN_Output = np.matmul(orns.T,locust['ORN-AL']).T\n",
    "ORN_Output_s = np.matmul(orns_spike.T,locust['ORN-AL']).T\n",
    "\n",
    "p_n = int(0.75*locust['AL_n'])\n",
    "\n",
    "ORN_Output_current = np.zeros(ORN_Output_s.shape)\n",
    "for i in range(ORN_Output_s.shape[0]):\n",
    "    if i<p_n:\n",
    "        cfilter = np.linspace(1,0,3000)\n",
    "    else:\n",
    "        cfilter = np.linspace(1,0,3000)\n",
    "    ORN_Output_current[i,:] = np.convolve(ORN_Output_s[i,:], cfilter,'same')\n",
    "    print('{}/{} Synaptic Integration Completed'.format(i+1,locust['AL_n']), end = '\\r')"
   ]
  },
  {
   "cell_type": "code",
   "execution_count": null,
   "metadata": {},
   "outputs": [],
   "source": []
  },
  {
   "cell_type": "code",
   "execution_count": 228,
   "metadata": {},
   "outputs": [],
   "source": [
    "# def minmax(trace):\n",
    "#     return (trace)/ORN_Output.max()\n",
    "\n",
    "p_n = int(0.75*locust['AL_n'])\n",
    "order = np.concatenate((np.argsort(ORN_Output[:p_n,:].max(axis=1))[::-1],p_n+np.argsort(ORN_Output[p_n:,:].max(axis=1))[::-1]))\n",
    "\n",
    "# plt.figure(figsize=(9,9))\n",
    "# for n,i in enumerate(order[:10]):\n",
    "#     plt.plot(n+ORN_Output_s[i,:]/3,alpha=0.7)\n",
    "#     plt.plot(n+minmax(ORN_Output[i,:]))"
   ]
  },
  {
   "cell_type": "code",
   "execution_count": 229,
   "metadata": {},
   "outputs": [
    {
     "data": {
      "text/plain": [
       "[<matplotlib.lines.Line2D at 0x7f55ebfc0438>]"
      ]
     },
     "execution_count": 229,
     "metadata": {},
     "output_type": "execute_result"
    }
   ],
   "source": [
    "def minmax(trace):\n",
    "    return (trace)/(trace.max())\n",
    "\n",
    "test_trace = ORN_Output_s[order[0],:]\n",
    "cfilter = np.linspace(1.5,0,10000)\n",
    "plt.plot(np.convolve(test_trace, cfilter,'same'),alpha=0.7)\n",
    "plt.plot(minmax(ORN_Output[order[0],:])*7*10/3)"
   ]
  },
  {
   "cell_type": "code",
   "execution_count": 230,
   "metadata": {},
   "outputs": [],
   "source": [
    "from sklearn.decomposition import PCA"
   ]
  },
  {
   "cell_type": "code",
   "execution_count": 231,
   "metadata": {},
   "outputs": [],
   "source": [
    "model = PCA(n_components=3)\n",
    "#ORN_Output = ORN_Output + ORN_Output*locust['random_noise_level']*np.random.normal(size=ORN_Output.shape)*2\n",
    "PC = model.fit_transform(ORN_Output_current[:p_n,:].T)\n",
    "#%matplotlib qt4"
   ]
  },
  {
   "cell_type": "code",
   "execution_count": 232,
   "metadata": {},
   "outputs": [
    {
     "data": {
      "text/plain": [
       "[<mpl_toolkits.mplot3d.art3d.Line3D at 0x7f55ebe55cc0>]"
      ]
     },
     "execution_count": 232,
     "metadata": {},
     "output_type": "execute_result"
    }
   ],
   "source": [
    "from mpl_toolkits.mplot3d import Axes3D\n",
    "\n",
    "fig = plt.figure()\n",
    "ax = fig.add_subplot(111, projection='3d')\n",
    "\n",
    "ax.scatter(PC[::100,0],PC[::100,1],PC[::100,2],c=range(int(PC.shape[0]/100)),alpha=0.05)\n",
    "ax.scatter(PC[50000:450000:1000,0],PC[50000:450000:1000,1],PC[50000:450000:1000,2],c='r')\n",
    "ax.plot(PC[::100,0],PC[::100,1],PC[::100,2])"
   ]
  },
  {
   "cell_type": "code",
   "execution_count": 165,
   "metadata": {},
   "outputs": [
    {
     "name": "stdout",
     "output_type": "stream",
     "text": [
      "Generating Antennal Input...\n",
      "Generation Complete\n",
      "'Information has been transferred to the Antennal Lobe. Thank you for using our services.' - ORNs\n"
     ]
    }
   ],
   "source": [
    "\n",
    "print(\"Generating Antennal Input...\")\n",
    "\n",
    "# Generate Antennal Output\n",
    "ORN_Output = np.matmul(orns.T,locust['ORN-AL']).T\n",
    "\n",
    "p_n = int(0.75*locust['AL_n'])\n",
    "\n",
    "PN_scale = locust['max_pn_current']/ORN_Output[:p_n,:].max() # PN Scaling Factor\n",
    "LN_scale = locust['max_ln_current']/ORN_Output[p_n:,:].max() # LN Scaling Factor\n",
    "\n",
    "# Scale ORN Output to AL Input\n",
    "ORN_Output[:90,:] = (ORN_Output[:p_n,:] * PN_scale)\n",
    "ORN_Output[90:,:] = (ORN_Output[p_n:,:] * LN_scale)\n",
    "\n",
    "ORN_Output = ORN_Output + ORN_Output*locust['random_noise_level']*np.random.normal(size=ORN_Output.shape)\n",
    "\n",
    "print(\"Generation Complete\")\n",
    "\n",
    "# Plot PN Current \n",
    "plt.figure()\n",
    "plt.plot(ORN_Output[:p_n,::100].T)\n",
    "plt.xlabel('Time (in ms)')\n",
    "plt.ylabel('PN Current Input')\n",
    "plt.savefig('PN Current.png')\n",
    "\n",
    "# Plot LN Current \n",
    "plt.figure()\n",
    "plt.plot(ORN_Output[p_n:,::100].T)\n",
    "plt.xlabel('Time (in ms)')\n",
    "plt.ylabel('LN Current Input')\n",
    "plt.savefig('LN Current.png')\n",
    "\n",
    "# Plot Overall Current\n",
    "plt.figure()\n",
    "order = np.concatenate((np.argsort(ORN_Output[:p_n,:].max(axis=1))[::-1],p_n+np.argsort(ORN_Output[p_n:,:].max(axis=1))[::-1]))\n",
    "plt.imshow(ORN_Output[order,::100], aspect='auto')\n",
    "plt.colorbar()\n",
    "plt.xlabel('Time (in ms)')\n",
    "plt.ylabel('Neuron Number')\n",
    "plt.savefig('AL Input Current.png')\n",
    "\n",
    "# Save Current Input\n",
    "np.save('current_input',ORN_Output)\n",
    "\n",
    "print(\"'Information has been transferred to the Antennal Lobe. Thank you for using our services.' - ORNs\")"
   ]
  },
  {
   "cell_type": "code",
   "execution_count": 237,
   "metadata": {},
   "outputs": [
    {
     "data": {
      "text/plain": [
       "[<mpl_toolkits.mplot3d.art3d.Line3D at 0x7f5316e1e908>]"
      ]
     },
     "execution_count": 237,
     "metadata": {},
     "output_type": "execute_result"
    }
   ],
   "source": [
    "ORN_Output_2 = ORN_Output + ORN_Output*0.2*np.random.normal(size=ORN_Output.shape)\n",
    "temp = np.array(np.hsplit(ORN_Output_2[:p_n,:],ORN_Output_2.shape[1]/1000)).mean(axis=2)\n",
    "\n",
    "model = PCA(n_components=3)\n",
    "PC = model.fit_transform(temp)\n",
    "\n",
    "from mpl_toolkits.mplot3d import Axes3D\n",
    "\n",
    "fig = plt.figure()\n",
    "ax = fig.add_subplot(111, projection='3d')\n",
    "\n",
    "ax.scatter(PC[:,0],PC[:,1],PC[:,2],c=range(PC.shape[0]))\n",
    "ax.scatter(PC[50000:450000,0],PC[50000:450000,1],PC[50000:450000,2],c='r')\n",
    "ax.plot(PC[:,0],PC[:,1],PC[:,2])"
   ]
  },
  {
   "cell_type": "code",
   "execution_count": 241,
   "metadata": {},
   "outputs": [
    {
     "data": {
      "text/plain": [
       "<matplotlib.image.AxesImage at 0x7f55e82116a0>"
      ]
     },
     "execution_count": 241,
     "metadata": {},
     "output_type": "execute_result"
    }
   ],
   "source": [
    "plt.imshow(ORN_Output_current[:p_n,::100],aspect='auto')"
   ]
  },
  {
   "cell_type": "code",
   "execution_count": null,
   "metadata": {},
   "outputs": [],
   "source": [
    "|"
   ]
  }
 ],
 "metadata": {
  "kernelspec": {
   "display_name": "Python 3",
   "language": "python",
   "name": "python3"
  },
  "language_info": {
   "codemirror_mode": {
    "name": "ipython",
    "version": 3
   },
   "file_extension": ".py",
   "mimetype": "text/x-python",
   "name": "python",
   "nbconvert_exporter": "python",
   "pygments_lexer": "ipython3",
   "version": "3.6.6"
  }
 },
 "nbformat": 4,
 "nbformat_minor": 2
}
