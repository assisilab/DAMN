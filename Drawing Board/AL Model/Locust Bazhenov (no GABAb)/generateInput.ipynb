{
 "cells": [
  {
   "cell_type": "code",
   "execution_count": 1,
   "metadata": {},
   "outputs": [],
   "source": [
    "import pickle\n",
    "import numpy as np"
   ]
  },
  {
   "cell_type": "code",
   "execution_count": 2,
   "metadata": {},
   "outputs": [],
   "source": [
    "data = {}"
   ]
  },
  {
   "cell_type": "code",
   "execution_count": 3,
   "metadata": {},
   "outputs": [],
   "source": [
    "data['duration'] = 1400\n",
    "data['resolution'] = 0.01\n",
    "data['n_n'] = 120\n",
    "data['PNPN'] = 0.0\n",
    "data['PNLN'] = 0.5\n",
    "data['LNLN'] = 0.5\n",
    "data['LNPN'] = 0.5\n",
    "data['achmat'] = np.zeros((data['n_n'],data['n_n']))\n",
    "data['gabamat'] = np.zeros((data['n_n'],data['n_n']))\n",
    "\n",
    "n_n = data['n_n']\n",
    "l_n = int(0.25*n_n)\n",
    "p_n = int(0.75*n_n)\n",
    "\n",
    "ach_mat = np.zeros((n_n,n_n))\n",
    "ach_mat[p_n:,:p_n] = np.random.choice([0.,1.],size=(l_n,p_n),p=(1-data['PNLN'],data['PNLN'])) # PN->LN\n",
    "ach_mat[:p_n,:p_n] = np.random.choice([0.,1.],size=(p_n,p_n),p=(1-data['PNPN'],data['PNPN'])) # PN->PN\n",
    "np.fill_diagonal(ach_mat,0.)\n",
    "data['achmat'] = ach_mat\n",
    "\n",
    "gaba_mat = np.zeros((n_n,n_n))\n",
    "gaba_mat[:p_n,p_n:] = np.random.choice([0.,1.],size=(p_n,l_n),p=(1-data['LNPN'],data['LNPN'])) # LN->PN\n",
    "gaba_mat[p_n:,p_n:] = np.random.choice([0.,1.],size=(l_n,l_n),p=(1-data['LNLN'],data['LNLN'])) # LN->LN\n",
    "np.fill_diagonal(gaba_mat,0.)\n",
    "data['gabamat'] = gaba_mat"
   ]
  },
  {
   "cell_type": "code",
   "execution_count": 4,
   "metadata": {},
   "outputs": [],
   "source": [
    "with open('model.pkl', 'wb') as fp:\n",
    "    pickle.dump(data, fp, protocol=pickle.HIGHEST_PROTOCOL)"
   ]
  },
  {
   "cell_type": "code",
   "execution_count": null,
   "metadata": {},
   "outputs": [],
   "source": []
  }
 ],
 "metadata": {
  "kernelspec": {
   "display_name": "Python 3",
   "language": "python",
   "name": "python3"
  },
  "language_info": {
   "codemirror_mode": {
    "name": "ipython",
    "version": 3
   },
   "file_extension": ".py",
   "mimetype": "text/x-python",
   "name": "python",
   "nbconvert_exporter": "python",
   "pygments_lexer": "ipython3",
   "version": "3.6.6"
  }
 },
 "nbformat": 4,
 "nbformat_minor": 2
}
