{
 "cells": [
  {
   "cell_type": "code",
   "execution_count": 1,
   "metadata": {},
   "outputs": [],
   "source": [
    "import tensorflow as tf\n",
    "import numpy as np\n",
    "import tf_integrator as tf_int\n",
    "import matplotlib.pyplot as plt\n",
    "import seaborn as sns\n",
    "import pickle\n",
    "%matplotlib inline"
   ]
  },
  {
   "cell_type": "code",
   "execution_count": 2,
   "metadata": {},
   "outputs": [],
   "source": [
    "with open('model.pkl', 'rb') as fp:\n",
    "    model = pickle.load(fp)\n",
    "\n",
    "sim_time = model['duration'] # simulation time (in ms)\n",
    "sim_res = model['resolution'] # simulation resolution (in ms)\n",
    "\n",
    "t = np.arange(0.0, sim_time, sim_res) # time array"
   ]
  },
  {
   "cell_type": "code",
   "execution_count": 3,
   "metadata": {},
   "outputs": [],
   "source": [
    "# Defining Neuron Counts\n",
    "\n",
    "n_n = model['n_n']                   # number of neurons\n",
    "\n",
    "p_n = int(0.75*n_n)                  # number of PNs\n",
    "l_n = int(0.25*n_n)                  # number of LNs\n",
    "\n",
    "C_m  = [1.]*n_n                     # Capacitance\n",
    "\n",
    "# Defining Common Current Parameters #\n",
    "\n",
    "g_K  = [3.6]*p_n+[36.0]*l_n          # K conductance\n",
    "g_L  = [0.3]*n_n                    # Leak conductance\n",
    "g_KL  = [0.*5.72e-3]*p_n + [0.*1.43e-3]*l_n      # K leak conductance (first 90 for PNs and next 30 for LNs)\n",
    "\n",
    "E_K  = [-87.0]*p_n + [-95.0]*l_n     # K Potential\n",
    "E_L  = [-64.0]*p_n + [-50.0]*l_n     # Leak Potential (first 90 for PNs and next 30 for LNs)\n",
    "E_KL  = [-95.0]*n_n                  # K Leak Potential\n",
    "\n",
    "# Defining Cell Type Specific Current Parameters #\n",
    "\n",
    "## PNs\n",
    "\n",
    "g_Na = [120.0]*p_n                   # Na conductance\n",
    "g_A  = [1.43]*p_n                    # Transient K conductance\n",
    "\n",
    "E_Na = [40.0]*p_n                    # Na Potential\n",
    "E_A  = [-95.0]*p_n                   # Transient K Potential\n",
    "\n",
    "## LNs\n",
    "\n",
    "g_Ca = [5.0]*l_n                     # Ca conductance\n",
    "g_KCa = [0.045]*l_n                    # Ca dependent K conductance\n",
    "\n",
    "E_Ca = [140.0]*l_n                   # Ca Potential\n",
    "E_KCa = [-95]*l_n                    # Ca dependent K Potential\n",
    "\n",
    "A_Ca = 2*(10**(-4))                  # Ca outflow rate\n",
    "Ca0 = 2.4*(10**(-4))                 # Equilibrium Calcium Concentration\n",
    "t_Ca = 150                           # Ca recovery time constant\n",
    "\n",
    "## Defining Firing Thresholds ##\n",
    "\n",
    "F_b = [0.0]*n_n                      # Fire threshold\n",
    "\n",
    "## Defining Acetylcholine Synapse Connectivity ##\n",
    "\n",
    "ach_mat = np.zeros(model[\"achmat\"].shape)\n",
    "\n",
    "## Defining Acetylcholine Synapse Parameters ##\n",
    "\n",
    "n_syn_ach = int(np.sum(ach_mat))     # Number of Acetylcholine (Ach) Synapses \n",
    "alp_ach = [10.0]*n_syn_ach           # Alpha for Ach Synapse\n",
    "bet_ach = [0.2]*n_syn_ach            # Beta for Ach Synapse\n",
    "t_max = 0.3                          # Maximum Time for Synapse\n",
    "t_delay = 0                          # Axonal Transmission Delay\n",
    "A = [0.5]*n_n                        # Synaptic Response Strength\n",
    "g_ach = [0.35]*p_n+[0.3]*l_n         # Ach Conductance\n",
    "E_ach = [0.0]*n_n                    # Ach Potential\n",
    "\n",
    "## Defining GABAa Synapse Connectivity ##\n",
    "\n",
    "fgaba_mat = np.zeros(model[\"gabamat\"].shape) \n",
    "\n",
    "## Defining GABAa Synapse Parameters ##\n",
    "    \n",
    "n_syn_fgaba = int(np.sum(fgaba_mat)) # Number of GABAa (fGABA) Synapses\n",
    "alp_fgaba = [10.0]*n_syn_fgaba       # Alpha for fGABA Synapse\n",
    "bet_fgaba = [0.16]*n_syn_fgaba       # Beta for fGABA Synapse\n",
    "V0 = [-20.0]*n_n                     # Decay Potential\n",
    "sigma = [1.5]*n_n                    # Decay Time Constant\n",
    "g_fgaba = [0.8]*p_n+[0.4]*l_n        # fGABA Conductance\n",
    "E_fgaba = [-70.0]*n_n                # fGABA Potential\n",
    "\n",
    "## Defining GABAslow Synapse Connectivity ##\n",
    "\n",
    "sgaba_mat = np.zeros(model[\"gabamat\"].shape)\n",
    "\n",
    "## Defining GABAslow Synapse Parameters ##\n",
    "    \n",
    "n_syn_sgaba = int(np.sum(sgaba_mat)) # Number of GABAslow (sGABA) Synapses\n",
    "K_sgaba = [100]*n_syn_sgaba          # K for sGABA Synapse\n",
    "r1_sgaba = [0.5]*n_syn_sgaba         # r1 for sGABA Synapse\n",
    "r2_sgaba = [0.0013]*n_syn_sgaba      # r2 for sGABA Synapse\n",
    "r3_sgaba = [0.1]*n_syn_sgaba         # r3 for sGABA Synapse\n",
    "r4_sgaba = [0.033]*n_syn_sgaba       # r4 for sGABA Synapse\n",
    "V0_sgaba = [-20.0]*n_n               # Decay Potential\n",
    "sigma_sgaba = [1.5]*n_n              # Decay Time Constant\n",
    "G_sgaba = [0.8]*p_n+[0.0]*l_n      # sGABA Conductance\n",
    "E_sgaba = [-95.0]*n_n                # sGABA Potential\n",
    "\n"
   ]
  },
  {
   "cell_type": "code",
   "execution_count": 16,
   "metadata": {},
   "outputs": [],
   "source": [
    "def K_prop(V):\n",
    "    \n",
    "    phi = 3**((27-6.3)/10)\n",
    "    \n",
    "    V_ = V-(-60)\n",
    "\n",
    "    alpha_n = 0.01*(V_+10)/(tf.exp((V_+10)/10.0) - 1.0)\n",
    "    beta_n = 0.125*tf.exp(V_/80.0)\n",
    "    \n",
    "    t_n = 1.0/(alpha_n+beta_n)/phi\n",
    "    n_inf = alpha_n/(alpha_n+beta_n)\n",
    "    \n",
    "    return n_inf, t_n\n",
    "\n",
    "\n",
    "def Na_prop(V):\n",
    "\n",
    "    phi = 3**((27-6.3)/10)\n",
    "    \n",
    "    V_ = V-(-60)\n",
    "\n",
    "    #alpha_m = 0.1*(V_+25)/(tf.exp((V_+25)/10.0) - 1.0)\n",
    "    #beta_m = 4.0*tf.exp(V/18.0)\n",
    "    alpha_m = 0.32*(13.1-V)/(tf.exp((13.1-V)/4)-1)\n",
    "    beta_m = 0.28*(V-40.1)/(tf.exp((V-40.1)/5)-1)\n",
    "    \n",
    "    #alpha_h = 0.07*tf.exp(V_/20.0)\n",
    "    #beta_h = 1.0/(tf.exp((V_+30)/10.0) + 1.0)\n",
    "    \n",
    "    alpha_h = 0.128*tf.exp((17-V)/18.0)\n",
    "    beta_h = 4.0/(tf.exp((40-V)/5.0) + 1.0)\n",
    "    \n",
    "    t_m = 1.0/(alpha_m+beta_m)/phi\n",
    "    t_h = 1.0/(alpha_h+beta_h)/phi\n",
    "    \n",
    "    m_inf = alpha_m/(alpha_m+beta_m)\n",
    "    h_inf = alpha_h/(alpha_h+beta_h)\n",
    "    \n",
    "    return m_inf, t_m, h_inf, t_h\n",
    "\n",
    "\n",
    "def A_prop(V):\n",
    "    #T = 36\n",
    "    \n",
    "    #phi = 3.0**((T-23.5)/10)\n",
    "    \n",
    "    m_inf = 1/(1+tf.exp(-(V+60.0)/8.5))\n",
    "    h_inf = 1/(1+tf.exp((V+78.0)/6.0))\n",
    "    \n",
    "    tau_m = 0.27/(tf.exp((V + 35.8)/19.7) + tf.exp(-(V + 79.7)/12.7)) + 0.1\n",
    "    \n",
    "    t1 = 0.27*1/(tf.exp((V+46.05)/5.0) + tf.exp(-(V+238.4)/37.45)) #/ phi\n",
    "    t2 = tf.ones(tf.shape(V),dtype=V.dtype)*5.1 #*(19.0/phi)\n",
    "    tau_h = tf.where(tf.less(V,-63.0),t1,t2)\n",
    "    \n",
    "    return m_inf, tau_m, h_inf, tau_h\n",
    "\n",
    "\n",
    "def Ca_prop(V):\n",
    "    \n",
    "    m_inf = 1/(1+tf.exp(-(V+20.0)/6.5))\n",
    "    h_inf = 1/(1+tf.exp((V+25.0)/12))\n",
    "    \n",
    "    tau_m = 1 + (V + 30)*0.014#1.5\n",
    "    tau_h = 0.3*tf.exp((V-40.0)/13.0) + 0.002*tf.exp((60.0-V)/29)\n",
    "    \n",
    "    return m_inf, tau_m, h_inf, tau_h\n",
    "\n",
    "def KCa_prop(Ca):\n",
    "    return Ca/(Ca+2), 100/(Ca+2)"
   ]
  },
  {
   "cell_type": "code",
   "execution_count": 5,
   "metadata": {},
   "outputs": [],
   "source": [
    "# NEURONAL CURRENTS\n",
    "\n",
    "# Common Currents #\n",
    "\n",
    "def I_K(V, n):\n",
    "    return g_K  * n**4 * (V - E_K)\n",
    "\n",
    "def I_L(V):\n",
    "    return g_L * (V - E_L)\n",
    "\n",
    "def I_KL(V):\n",
    "    return g_KL * (V - E_KL)\n",
    "\n",
    "# PN Currents #\n",
    "\n",
    "def I_Na(V, m, h):\n",
    "    return g_Na * m**3 * h * (V - E_Na)\n",
    "\n",
    "def I_A(V, m, h):\n",
    "    return g_A * m**4 * h * (V - E_A)\n",
    "\n",
    "# LN Currents #\n",
    "\n",
    "def I_Ca(V, m, h):\n",
    "    return g_Ca * m**2 * h * (V - E_Ca)\n",
    "\n",
    "def I_KCa(V, m):\n",
    "    T = 26\n",
    "    phi = 2.3**((T-23.0)/10)\n",
    "    return g_KCa * m * (V - E_KCa)# * phi\n",
    "\n",
    "# SYNAPTIC CURRENTS\n",
    "\n",
    "def I_ach(o,V):\n",
    "    o_ = tf.Variable([0.0]*n_n**2,dtype=tf.float64)\n",
    "    ind = tf.boolean_mask(tf.range(n_n**2),ach_mat.reshape(-1) == 1)\n",
    "    o_ = tf.scatter_update(o_,ind,o)\n",
    "    o_ = tf.transpose(tf.reshape(o_,(n_n,n_n)))\n",
    "    return tf.reduce_sum(tf.transpose((o_*(V-E_ach))*g_ach),1)\n",
    "\n",
    "def I_fgaba(o,V):\n",
    "    o_ = tf.Variable([0.0]*n_n**2,dtype=tf.float64)\n",
    "    ind = tf.boolean_mask(tf.range(n_n**2),fgaba_mat.reshape(-1) == 1)\n",
    "    o_ = tf.scatter_update(o_,ind,o)\n",
    "    o_ = tf.transpose(tf.reshape(o_,(n_n,n_n)))\n",
    "    return tf.reduce_sum(tf.transpose((o_*(V-E_fgaba))*g_fgaba),1)\n",
    "\n",
    "def I_sgaba(G,V):\n",
    "    G4 = tf.pow(G,4)/(tf.pow(G,4)+K)\n",
    "    G_ = tf.Variable([0.0]*n_n**2,dtype=tf.float64)\n",
    "    ind = tf.boolean_mask(tf.range(n_n**2),sgaba_mat.reshape(-1) == 1)\n",
    "    G_ = tf.scatter_update(G4,ind,G)\n",
    "    G_ = tf.transpose(tf.reshape(G_,(n_n,n_n)))\n",
    "    return tf.reduce_sum(tf.transpose((G_*(V-E_sgaba))*G_sgaba),1)\n",
    "\n",
    "# INPUT CURRENTS\n",
    "\n",
    "def I_inj_t(t):\n",
    "    return tf.constant(current_input.T,dtype=tf.float64)[tf.to_int32(t*100)]"
   ]
  },
  {
   "cell_type": "code",
   "execution_count": 6,
   "metadata": {},
   "outputs": [],
   "source": [
    "def dXdt(X, t): # X is the state vector\n",
    "    \n",
    "    V_p   = X[0   : p_n] # Voltage(PN)\n",
    "    V_l   = X[p_n : n_n] # Voltage(LN)\n",
    "    \n",
    "    n_K   = X[n_n : 2*n_n] # K-gating(ALL)\n",
    "    \n",
    "    m_Na  = X[2*n_n : 2*n_n + p_n] # Na-activation-gating(PN)\n",
    "    h_Na  = X[2*n_n + p_n : 2*n_n + 2*p_n] # Na-inactivation-gating(PN)\n",
    "\n",
    "    m_A   = X[2*n_n + 2*p_n : 2*n_n + 3*p_n] # Transient-K-activation-gating(PN)\n",
    "    h_A   = X[2*n_n + 3*p_n : 2*n_n + 4*p_n] # Transient-K-inactivation-gating(PN)\n",
    "    \n",
    "    m_Ca  = X[2*n_n + 4*p_n : 2*n_n + 4*p_n + l_n] # Ca-activation-gating(LN)\n",
    "    h_Ca  = X[2*n_n + 4*p_n + l_n: 2*n_n + 4*p_n + 2*l_n] # Ca-inactivation-gating(LN)\n",
    "    \n",
    "    m_KCa = X[2*n_n + 4*p_n + 2*l_n : 2*n_n + 4*p_n + 3*l_n] # K(Ca)-gating(LN)\n",
    "    Ca    = X[2*n_n + 4*p_n + 3*l_n: 2*n_n + 4*p_n + 4*l_n] # Ca-concentration(LN)\n",
    "\n",
    "    o_ach = X[6*n_n : 6*n_n + n_syn_ach] # Acetylcholine Open Fraction\n",
    "    o_fgaba = X[6*n_n + n_syn_ach : 6*n_n + n_syn_ach + n_syn_fgaba] # GABAa Open Fraction\n",
    "    r_sgaba = X[6*n_n + n_syn_ach + n_syn_fgaba : 6*n_n + n_syn_ach + n_syn_fgaba + n_syn_sgaba] # GABAa Open Fraction\n",
    "    g_sgaba = X[6*n_n + n_syn_ach + n_syn_fgaba + n_syn_sgaba : 6*n_n + n_syn_ach + n_syn_fgaba + 2*n_syn_sgaba] # GABAa Open Fraction    \n",
    "    fire_t = X[-n_n:] # Fire-times\n",
    "    \n",
    "    V = X[:n_n] # Overall Voltage (PN + LN)\n",
    "    \n",
    "    \n",
    "    # Evaluate Differentials for Gating variables and Ca concentration\n",
    "    \n",
    "    n0,tn = K_prop(V)\n",
    "    \n",
    "    dn_k = - (1.0/tn)*(n_K-n0)\n",
    "    \n",
    "    m0,tm,h0,th = Na_prop(V_p)\n",
    "    \n",
    "    dm_Na = - (1.0/tm)*(m_Na-m0)\n",
    "    dh_Na = - (1.0/th)*(h_Na-h0)\n",
    "    \n",
    "    m0,tm,h0,th = A_prop(V_p)\n",
    "    \n",
    "    dm_A = - (1.0/tm)*(m_A-m0)\n",
    "    dh_A = - (1.0/th)*(h_A-h0)\n",
    "    \n",
    "    m0,tm,h0,th = Ca_prop(V_l)\n",
    "    \n",
    "    dm_Ca = - (1.0/tm)*(m_Ca-m0)\n",
    "    dh_Ca = - (1.0/th)*(h_Ca-h0)\n",
    "    \n",
    "    m0,tm = KCa_prop(Ca)\n",
    "    \n",
    "    dm_KCa = - (1.0/tm)*(m_KCa-m0)\n",
    "    \n",
    "    dCa = - A_Ca*I_Ca(V_l,m_Ca,h_Ca) - (Ca - Ca0)/t_Ca\n",
    "    \n",
    "    # Evaluate differential for Voltage\n",
    "    \n",
    "    CmdV_p = - I_Na(V_p, m_Na, h_Na) #- I_A(V_p, m_A, h_A)\n",
    "    CmdV_l = - I_Ca(V_l, m_Ca, h_Ca) - I_KCa(V_l, m_KCa)\n",
    "    \n",
    "    # Once we have that, we merge the two into a single 120-vector.\n",
    "    \n",
    "    CmdV = tf.concat([CmdV_p,CmdV_l],0)\n",
    "    \n",
    "    # Finally we add the common currents and divide by Cm to get dV/dt.\n",
    "    \n",
    "    dV = (I_inj_t(t) + CmdV - I_K(V, n_K) - I_L(V) - I_KL(V) - I_ach(o_ach,V) - I_fgaba(o_fgaba,V)) / C_m\n",
    "    \n",
    "    # Evaluate dynamics in synapses\n",
    "    \n",
    "    A_ = tf.constant(A,dtype=tf.float64)\n",
    "    T_ach = tf.where(tf.logical_and(tf.greater(t,fire_t+t_delay),tf.less(t,fire_t+t_max+t_delay)),A_,tf.zeros(tf.shape(A_),dtype=A_.dtype))\n",
    "    T_ach = tf.multiply(tf.constant(ach_mat,dtype=tf.float64),T_ach)\n",
    "    T_ach = tf.boolean_mask(tf.reshape(T_ach,(-1,)),ach_mat.reshape(-1) == 1)\n",
    "    do_achdt = alp_ach*(1.0-o_ach)*T_ach - bet_ach*o_ach\n",
    "    \n",
    "    T_fgaba = 1.0/(1.0+tf.exp(-(V-V0)/sigma))\n",
    "    T_fgaba = tf.multiply(tf.constant(fgaba_mat,dtype=tf.float64),T_fgaba)\n",
    "    T_fgaba = tf.boolean_mask(tf.reshape(T_fgaba,(-1,)),fgaba_mat.reshape(-1) == 1)\n",
    "    do_fgabadt = alp_fgaba*(1.0-o_fgaba)*T_fgaba - bet_fgaba*o_fgaba\n",
    "    \n",
    "    dg_sgabadt = - np.array(r4_sgaba)*g_sgaba + np.array(r3_sgaba)*r_sgaba \n",
    "    \n",
    "    A_ = tf.constant(A,dtype=tf.float64)\n",
    "    T_sgaba = tf.where(tf.logical_and(tf.greater(t,fire_t+t_delay),tf.less(t,fire_t+t_max+t_delay)),A_,tf.zeros(tf.shape(A_),dtype=A_.dtype))\n",
    "    T_sgaba = tf.multiply(tf.constant(sgaba_mat,dtype=tf.float64),T_sgaba)\n",
    "    T_sgaba = tf.boolean_mask(tf.reshape(T_sgaba,(-1,)),sgaba_mat.reshape(-1) == 1)\n",
    "    dr_sgabadt = r1_sgaba*(1.0-r_sgaba)*T_sgaba - r2_sgaba*r_sgaba\n",
    "    \n",
    "    # Set change in fire-times as zero\n",
    "    \n",
    "    dfdt = tf.zeros(tf.shape(fire_t),dtype=fire_t.dtype)\n",
    "\n",
    "    # Combine to a single vector\n",
    "    \n",
    "    out = tf.concat([dV,         dn_k,\n",
    "                     dm_Na,      dh_Na,\n",
    "                     dm_A,       dh_A,\n",
    "                     dm_Ca,      dh_Ca,\n",
    "                     dm_KCa,     \n",
    "                     dCa,        do_achdt,\n",
    "                     do_fgabadt, dr_sgabadt,\n",
    "                     dg_sgabadt, dfdt   ],0)\n",
    "    return out"
   ]
  },
  {
   "cell_type": "code",
   "execution_count": 7,
   "metadata": {},
   "outputs": [],
   "source": [
    "current_input = 0*np.ones((n_n,t.shape[0]))\n",
    "\n",
    "# Create the input shape\n",
    "\n",
    "y = np.where(t<1000,(1-np.exp(-(t-200)/75)),np.exp(-(t-1000)/150))\n",
    "y = np.where(t<200,0.0*np.ones(t.shape),y)\n",
    "\n",
    "# Randomly choose 33% indices from 120\n",
    "\n",
    "p_input = 0.33\n",
    "input_neurons_pn = np.random.choice(np.array(range(p_n)),int(p_input*p_n),replace=False)\n",
    "input_neurons_ln = 90+np.random.choice(np.array(range(l_n)),int(p_input*l_n),replace=False)\n",
    "\n",
    "# Assign input shape to chosen indices\n",
    "for i in input_neurons_pn:\n",
    "    current_input[i,:]= (np.random.normal(loc=50,scale=0.0)+0.0*np.random.normal(size=t.shape))*y\n",
    "    \n",
    "# for i in input_neurons_ln:\n",
    "#     current_input[i,:]= 0.*(np.random.normal(loc=5,scale=0.0)+0.0*np.random.normal(size=t.shape))*y"
   ]
  },
  {
   "cell_type": "code",
   "execution_count": 8,
   "metadata": {
    "scrolled": false
   },
   "outputs": [
    {
     "data": {
      "image/png": "[encoded data removed]",
      "text/plain": [
       "<Figure size 432x288 with 1 Axes>"
      ]
     },
     "metadata": {
      "needs_background": "light"
     },
     "output_type": "display_data"
    }
   ],
   "source": [
    "plt.plot(current_input.T[::100,:])\n",
    "plt.show()"
   ]
  },
  {
   "cell_type": "code",
   "execution_count": 9,
   "metadata": {},
   "outputs": [],
   "source": [
    "state_vector =  [-40]* n_n + [0.0]* (n_n + 4*p_n + 3*l_n) + [2.4*(10**(-4))]*l_n + [0]*(n_syn_ach+n_syn_fgaba+2*n_syn_sgaba) + [-(sim_time+1)]*n_n\n",
    "state_vector = np.array(state_vector)\n",
    "state_vector = state_vector + 0.3*state_vector*np.random.normal(size=state_vector.shape)\n",
    "init_state = tf.constant(state_vector, dtype=tf.float64)"
   ]
  },
  {
   "cell_type": "code",
   "execution_count": 10,
   "metadata": {
    "scrolled": false
   },
   "outputs": [
    {
     "name": "stdout",
     "output_type": "stream",
     "text": [
      "CPU times: user 1h 5min 2s, sys: 19min 33s, total: 1h 24min 35s\n",
      "Wall time: 9min 53s\n"
     ]
    }
   ],
   "source": [
    "%%time\n",
    "\n",
    "state = tf_int.odeint(dXdt, init_state, t, n_n, F_b)\n",
    "\n",
    "with tf.Session() as sess:\n",
    "    tf.global_variables_initializer().run()\n",
    "    state = sess.run(state)\n",
    "    sess.close()"
   ]
  },
  {
   "cell_type": "code",
   "execution_count": 11,
   "metadata": {
    "scrolled": false
   },
   "outputs": [
    {
     "data": {
      "image/png": "[encoded data removed]",
      "text/plain": [
       "<Figure size 864x432 with 2 Axes>"
      ]
     },
     "metadata": {
      "needs_background": "light"
     },
     "output_type": "display_data"
    }
   ],
   "source": [
    "plt.figure(figsize=(12,6))\n",
    "    \n",
    "sns.heatmap(state[::100,:90].T,xticklabels=100,yticklabels=5,cmap='Greys')\n",
    "\n",
    "plt.xlabel(\"Time (in ms)\")\n",
    "plt.ylabel(\"Projection Neuron Number\")\n",
    "plt.title(\"Voltage vs Time Heatmap for Projection Neurons (PNs)\")\n",
    "\n",
    "plt.tight_layout()\n",
    "plt.show()"
   ]
  },
  {
   "cell_type": "code",
   "execution_count": 12,
   "metadata": {
    "scrolled": false
   },
   "outputs": [
    {
     "data": {
      "image/png": "[encoded data removed]",
      "text/plain": [
       "<Figure size 864x432 with 2 Axes>"
      ]
     },
     "metadata": {
      "needs_background": "light"
     },
     "output_type": "display_data"
    }
   ],
   "source": [
    "plt.figure(figsize=(12,6))\n",
    "    \n",
    "sns.heatmap(state[::100,90:120].T,xticklabels=100,yticklabels=5,cmap='Greys')\n",
    "\n",
    "plt.xlabel(\"Time (in ms)\")\n",
    "plt.ylabel(\"Local Interneuron Number\")\n",
    "plt.title(\"Voltage vs Time Heatmap for Local Interneurons (LNs)\")\n",
    "\n",
    "plt.tight_layout()\n",
    "plt.show()"
   ]
  },
  {
   "cell_type": "code",
   "execution_count": 13,
   "metadata": {},
   "outputs": [
    {
     "data": {
      "text/plain": [
       "[<matplotlib.lines.Line2D at 0x7f0b682ee6d8>,\n",
       " <matplotlib.lines.Line2D at 0x7f0b682ee828>,\n",
       " <matplotlib.lines.Line2D at 0x7f0b682ee978>,\n",
       " <matplotlib.lines.Line2D at 0x7f0b682eeac8>,\n",
       " <matplotlib.lines.Line2D at 0x7f0b682eec18>,\n",
       " <matplotlib.lines.Line2D at 0x7f0b682eed68>,\n",
       " <matplotlib.lines.Line2D at 0x7f0b682eeeb8>,\n",
       " <matplotlib.lines.Line2D at 0x7f0b682f6048>,\n",
       " <matplotlib.lines.Line2D at 0x7f0b682f6198>,\n",
       " <matplotlib.lines.Line2D at 0x7f0b682f62e8>]"
      ]
     },
     "execution_count": 13,
     "metadata": {},
     "output_type": "execute_result"
    },
    {
     "data": {
      "image/png": "[encoded data removed]",
      "text/plain": [
       "<Figure size 432x288 with 1 Axes>"
      ]
     },
     "metadata": {
      "needs_background": "light"
     },
     "output_type": "display_data"
    }
   ],
   "source": [
    "plt.plot(state[:,0:10])"
   ]
  },
  {
   "cell_type": "code",
   "execution_count": null,
   "metadata": {},
   "outputs": [],
   "source": []
  },
  {
   "cell_type": "code",
   "execution_count": 17,
   "metadata": {},
   "outputs": [
    {
     "data": {
      "text/plain": [
       "[<matplotlib.lines.Line2D at 0x7f4bb80b2940>]"
      ]
     },
     "execution_count": 17,
     "metadata": {},
     "output_type": "execute_result"
    },
    {
     "data": {
      "image/png": "[encoded data removed]",
      "text/plain": [
       "<Figure size 432x288 with 1 Axes>"
      ]
     },
     "metadata": {
      "needs_background": "light"
     },
     "output_type": "display_data"
    }
   ],
   "source": [
    "plt.plot(t,state[:,0])"
   ]
  },
  {
   "cell_type": "code",
   "execution_count": 32,
   "metadata": {},
   "outputs": [
    {
     "data": {
      "text/plain": [
       "[<matplotlib.lines.Line2D at 0x7f6656264be0>]"
      ]
     },
     "execution_count": 32,
     "metadata": {},
     "output_type": "execute_result"
    },
    {
     "data": {
      "image/png": "[encoded data removed]",
      "text/plain": [
       "<Figure size 432x288 with 1 Axes>"
      ]
     },
     "metadata": {
      "needs_background": "light"
     },
     "output_type": "display_data"
    }
   ],
   "source": [
    "y = state[:,:90].mean(axis=1)\n",
    "\n",
    "Y = np.fft.fft(y)\n",
    "freq = np.fft.fftfreq(len(y), 0.01/1000)\n",
    "\n",
    "ind = np.logical_and(freq>0,freq<100)\n",
    "\n",
    "plt.plot( freq[ind], np.abs(Y)[ind] )"
   ]
  },
  {
   "cell_type": "code",
   "execution_count": 15,
   "metadata": {},
   "outputs": [
    {
     "data": {
      "text/plain": [
       "array([[-5.96908562e+01, -6.45367491e+01, -6.18566493e+01, ...,\n",
       "        -6.77250030e+01, -6.56619822e+01, -6.35747871e+01],\n",
       "       [-4.01524054e+01, -3.91405133e+01, -3.95791675e+01, ...,\n",
       "        -3.99716751e+01, -4.17953469e+01, -3.94043483e+01],\n",
       "       [ 2.75266126e+29,  1.93958892e+20,  1.28879701e+39, ...,\n",
       "         1.40490813e+57,  5.19075293e+40,  1.49436155e+30],\n",
       "       ...,\n",
       "       [            nan,             nan,             nan, ...,\n",
       "                    nan,             nan,             nan],\n",
       "       [            nan,             nan,             nan, ...,\n",
       "                    nan,             nan,             nan],\n",
       "       [            nan,             nan,             nan, ...,\n",
       "                    nan,             nan,             nan]])"
      ]
     },
     "execution_count": 15,
     "metadata": {},
     "output_type": "execute_result"
    }
   ],
   "source": [
    "state[:,:90]"
   ]
  },
  {
   "cell_type": "code",
   "execution_count": 21,
   "metadata": {},
   "outputs": [
    {
     "ename": "TypeError",
     "evalue": "Fetch argument array([1.91913838e-18, 2.46411741e-18, 3.16382235e-18, 4.06217185e-18,\n       5.21554777e-18, 6.69633099e-18, 8.59744022e-18, 1.10381579e-17,\n       1.41716081e-17, 1.81943554e-17, 2.33587247e-17, 2.99886150e-17,\n       3.84997949e-17, 4.94259531e-17, 6.34521321e-17, 8.14576380e-17,\n       1.04571112e-16, 1.34241209e-16, 1.72327300e-16, 2.21215881e-16,\n       2.83969953e-16, 3.64520729e-16, 4.67913634e-16, 6.00623986e-16,\n       7.70962079e-16, 9.89592971e-16, 1.27020346e-15, 1.63035786e-15,\n       2.09259610e-15, 2.68584256e-15, 3.44721372e-15, 4.42433731e-15,\n       5.67832769e-15, 7.28760303e-15, 9.35278237e-15, 1.20029678e-14,\n       1.54038032e-14, 1.97678121e-14, 2.53676585e-14, 3.25531558e-14,\n       4.17730844e-14, 5.36031753e-14, 6.87820000e-14, 8.82570023e-14,\n       1.13243532e-13, 1.45300551e-13, 1.86427726e-13, 2.39189919e-13,\n       3.06876842e-13, 3.93707753e-13, 5.05093929e-13, 6.47975189e-13,\n       8.31251341e-13, 1.06633531e-12, 1.36786223e-12, 1.75459843e-12,\n       2.25060662e-12, 2.88673938e-12, 3.70255342e-12, 4.74876293e-12,\n       6.09038380e-12, 7.81076283e-12, 1.00167410e-11, 1.28452695e-11,\n       1.64718860e-11, 2.11215756e-11, 2.70826836e-11, 3.47247387e-11,\n       4.45212828e-11, 5.70791125e-11, 7.31757296e-11, 9.38073012e-11,\n       1.20250075e-10, 1.54139017e-10, 1.97568488e-10, 2.53221142e-10,\n       3.24532908e-10, 4.15904177e-10, 5.32970074e-10, 6.82946330e-10,\n       8.75071840e-10, 1.12117488e-09, 1.43639746e-09, 1.84012181e-09,\n       2.35715538e-09, 3.01924611e-09, 3.86701990e-09, 4.95245756e-09,\n       6.34206081e-09, 8.12089864e-09, 1.03977778e-08, 1.33118486e-08,\n       1.70410431e-08, 2.18128519e-08, 2.79180850e-08, 3.57284388e-08,\n       4.57189192e-08, 5.84964532e-08, 7.48363928e-08, 9.57290722e-08,\n       1.22439175e-07, 1.56581414e-07, 2.00216973e-07, 2.55976383e-07,\n       3.27216007e-07, 4.18217274e-07, 5.34440246e-07, 6.82846195e-07,\n       8.72307833e-07, 1.11413076e-06, 1.42271596e-06, 1.81640119e-06,\n       2.31852879e-06, 2.95880032e-06, 3.77499389e-06, 4.81513993e-06,\n       6.14027578e-06, 7.82793065e-06, 9.97653087e-06, 1.27109637e-05,\n       1.61895976e-05, 2.06131318e-05, 2.62357378e-05, 3.33790717e-05,\n       4.24498716e-05, 5.39620263e-05, 6.85642072e-05, 8.70744038e-05,\n       1.10523006e-04, 1.40206431e-04, 1.77753715e-04, 2.25208986e-04,\n       2.85133303e-04, 3.60729976e-04, 4.55998215e-04, 5.75920688e-04,\n       7.26691381e-04, 9.15990850e-04, 1.15331663e-03, 1.45037690e-03,\n       1.82155551e-03, 2.28445571e-03, 2.86052838e-03, 3.57578739e-03,\n       4.46161005e-03, 5.55561313e-03, 6.90258530e-03, 8.55544292e-03,\n       1.05761596e-02, 1.30365994e-02, 1.60191613e-02, 1.96171186e-02,\n       2.39345179e-02, 2.90854875e-02, 3.51928070e-02, 4.23856077e-02,\n       5.07961212e-02, 6.05554649e-02, 7.17885596e-02, 8.46083922e-02,\n       9.91099671e-02, 1.15364396e-01, 1.33413645e-01, 1.53266448e-01,\n       1.74895834e-01, 1.98238547e-01, 2.23196447e-01, 2.49639741e-01,\n       2.77411707e-01, 3.06334425e-01, 3.36214966e-01, 3.66851506e-01,\n       3.98038924e-01, 4.29573594e-01, 4.61257185e-01, 4.92899490e-01,\n       5.24320338e-01, 5.55350795e-01, 5.85833821e-01, 6.15624613e-01,\n       6.44590798e-01, 6.72612620e-01, 6.99583207e-01, 7.25408955e-01,\n       7.50010014e-01, 7.73320832e-01, 7.95290679e-01, 8.15884048e-01,\n       8.35080866e-01, 8.52876409e-01, 8.69280887e-01, 8.84318663e-01,\n       8.98027114e-01, 9.10455167e-01, 9.21661593e-01, 9.31713111e-01,\n       9.40682420e-01, 9.48646228e-01, 9.55683383e-01, 9.61873147e-01,\n       9.67293694e-01, 9.72020834e-01, 9.76126995e-01, 9.79680464e-01,\n       9.82744852e-01, 9.85378778e-01, 9.87635735e-01, 9.89564109e-01,\n       9.91207315e-01, 9.92604022e-01, 9.93788447e-01, 9.94790685e-01,\n       9.95637058e-01, 9.96350474e-01, 9.96950781e-01, 9.97455102e-01,\n       9.97878156e-01, 9.98232547e-01, 9.98529041e-01, 9.98776800e-01,\n       9.98983608e-01, 9.99156054e-01, 9.99299712e-01, 9.99419280e-01,\n       9.99518716e-01, 9.99601346e-01, 9.99669960e-01, 9.99726897e-01,\n       9.99774115e-01, 9.99813250e-01, 9.99845667e-01, 9.99872506e-01,\n       9.99894715e-01, 9.99913086e-01, 9.99928274e-01, 9.99940826e-01,\n       9.99951196e-01, 9.99959759e-01, 9.99966829e-01, 9.99972663e-01,\n       9.99977477e-01, 9.99981447e-01, 9.99984720e-01, 9.99987419e-01,\n       9.99989643e-01, 9.99991475e-01, 9.99992985e-01, 9.99994228e-01,\n       9.99995251e-01, 9.99996094e-01, 9.99996788e-01, 9.99997359e-01,\n       9.99997828e-01, 9.99998215e-01, 9.99998533e-01, 9.99998794e-01,\n       9.99999009e-01, 9.99999186e-01, 9.99999331e-01, 9.99999450e-01,\n       9.99999548e-01, 9.99999629e-01, 9.99999695e-01, 9.99999750e-01,\n       9.99999795e-01, 9.99999831e-01, 9.99999862e-01, 9.99999886e-01,\n       9.99999907e-01, 9.99999923e-01, 9.99999937e-01, 9.99999948e-01,\n       9.99999958e-01, 9.99999965e-01, 9.99999971e-01, 9.99999977e-01,\n       9.99999981e-01, 9.99999984e-01, 9.99999987e-01, 9.99999989e-01,\n       9.99999991e-01, 9.99999993e-01, 9.99999994e-01, 9.99999995e-01,\n       9.99999996e-01, 9.99999997e-01, 9.99999997e-01, 9.99999998e-01,\n       9.99999998e-01, 9.99999999e-01, 9.99999999e-01, 9.99999999e-01,\n       9.99999999e-01, 9.99999999e-01, 9.99999999e-01, 1.00000000e+00,\n       1.00000000e+00, 1.00000000e+00, 1.00000000e+00, 1.00000000e+00]) has invalid type <class 'numpy.ndarray'>, must be a string or Tensor. (Can not convert a ndarray into a Tensor or Operation.)",
     "output_type": "error",
     "traceback": [
      "\u001b[0;31m---------------------------------------------------------------------------\u001b[0m",
      "\u001b[0;31mTypeError\u001b[0m                                 Traceback (most recent call last)",
      "\u001b[0;32m~/.conda/envs/venv/lib/python3.6/site-packages/tensorflow/python/client/session.py\u001b[0m in \u001b[0;36m__init__\u001b[0;34m(self, fetches, contraction_fn)\u001b[0m\n\u001b[1;32m    299\u001b[0m         self._unique_fetches.append(ops.get_default_graph().as_graph_element(\n\u001b[0;32m--> 300\u001b[0;31m             fetch, allow_tensor=True, allow_operation=True))\n\u001b[0m\u001b[1;32m    301\u001b[0m       \u001b[0;32mexcept\u001b[0m \u001b[0mTypeError\u001b[0m \u001b[0;32mas\u001b[0m \u001b[0me\u001b[0m\u001b[0;34m:\u001b[0m\u001b[0;34m\u001b[0m\u001b[0m\n",
      "\u001b[0;32m~/.conda/envs/venv/lib/python3.6/site-packages/tensorflow/python/framework/ops.py\u001b[0m in \u001b[0;36mas_graph_element\u001b[0;34m(self, obj, allow_tensor, allow_operation)\u001b[0m\n\u001b[1;32m   3489\u001b[0m     \u001b[0;32mwith\u001b[0m \u001b[0mself\u001b[0m\u001b[0;34m.\u001b[0m\u001b[0m_lock\u001b[0m\u001b[0;34m:\u001b[0m\u001b[0;34m\u001b[0m\u001b[0m\n\u001b[0;32m-> 3490\u001b[0;31m       \u001b[0;32mreturn\u001b[0m \u001b[0mself\u001b[0m\u001b[0;34m.\u001b[0m\u001b[0m_as_graph_element_locked\u001b[0m\u001b[0;34m(\u001b[0m\u001b[0mobj\u001b[0m\u001b[0;34m,\u001b[0m \u001b[0mallow_tensor\u001b[0m\u001b[0;34m,\u001b[0m \u001b[0mallow_operation\u001b[0m\u001b[0;34m)\u001b[0m\u001b[0;34m\u001b[0m\u001b[0m\n\u001b[0m\u001b[1;32m   3491\u001b[0m \u001b[0;34m\u001b[0m\u001b[0m\n",
      "\u001b[0;32m~/.conda/envs/venv/lib/python3.6/site-packages/tensorflow/python/framework/ops.py\u001b[0m in \u001b[0;36m_as_graph_element_locked\u001b[0;34m(self, obj, allow_tensor, allow_operation)\u001b[0m\n\u001b[1;32m   3578\u001b[0m       raise TypeError(\"Can not convert a %s into a %s.\" % (type(obj).__name__,\n\u001b[0;32m-> 3579\u001b[0;31m                                                            types_str))\n\u001b[0m\u001b[1;32m   3580\u001b[0m \u001b[0;34m\u001b[0m\u001b[0m\n",
      "\u001b[0;31mTypeError\u001b[0m: Can not convert a ndarray into a Tensor or Operation.",
      "\nDuring handling of the above exception, another exception occurred:\n",
      "\u001b[0;31mTypeError\u001b[0m                                 Traceback (most recent call last)",
      "\u001b[0;32m<ipython-input-21-fb083e2a25bb>\u001b[0m in \u001b[0;36m<module>\u001b[0;34m\u001b[0m\n\u001b[1;32m      1\u001b[0m \u001b[0;32mwith\u001b[0m \u001b[0mtf\u001b[0m\u001b[0;34m.\u001b[0m\u001b[0mSession\u001b[0m\u001b[0;34m(\u001b[0m\u001b[0;34m)\u001b[0m \u001b[0;32mas\u001b[0m \u001b[0msess\u001b[0m\u001b[0;34m:\u001b[0m\u001b[0;34m\u001b[0m\u001b[0m\n\u001b[1;32m      2\u001b[0m     \u001b[0mstateK\u001b[0m \u001b[0;34m=\u001b[0m \u001b[0msess\u001b[0m\u001b[0;34m.\u001b[0m\u001b[0mrun\u001b[0m\u001b[0;34m(\u001b[0m\u001b[0mK_prop\u001b[0m\u001b[0;34m(\u001b[0m\u001b[0mnp\u001b[0m\u001b[0;34m.\u001b[0m\u001b[0mlinspace\u001b[0m\u001b[0;34m(\u001b[0m\u001b[0;34m-\u001b[0m\u001b[0;36m150\u001b[0m\u001b[0;34m,\u001b[0m\u001b[0;36m50\u001b[0m\u001b[0;34m,\u001b[0m\u001b[0;36m300\u001b[0m\u001b[0;34m)\u001b[0m\u001b[0;34m)\u001b[0m\u001b[0;34m)\u001b[0m\u001b[0;34m\u001b[0m\u001b[0m\n\u001b[0;32m----> 3\u001b[0;31m     \u001b[0mstateNa\u001b[0m \u001b[0;34m=\u001b[0m \u001b[0msess\u001b[0m\u001b[0;34m.\u001b[0m\u001b[0mrun\u001b[0m\u001b[0;34m(\u001b[0m\u001b[0mNa_prop\u001b[0m\u001b[0;34m(\u001b[0m\u001b[0mnp\u001b[0m\u001b[0;34m.\u001b[0m\u001b[0mlinspace\u001b[0m\u001b[0;34m(\u001b[0m\u001b[0;34m-\u001b[0m\u001b[0;36m150\u001b[0m\u001b[0;34m,\u001b[0m\u001b[0;36m150\u001b[0m\u001b[0;34m,\u001b[0m\u001b[0;36m300\u001b[0m\u001b[0;34m)\u001b[0m\u001b[0;34m)\u001b[0m\u001b[0;34m)\u001b[0m\u001b[0;34m\u001b[0m\u001b[0m\n\u001b[0m\u001b[1;32m      4\u001b[0m     \u001b[0;31m#plt.plot(np.linspace(-150,150,300),stateK[0],'r')\u001b[0m\u001b[0;34m\u001b[0m\u001b[0;34m\u001b[0m\u001b[0m\n\u001b[1;32m      5\u001b[0m     \u001b[0;31m#plt.plot(np.linspace(-150,150,300),stateNa[0],'b')\u001b[0m\u001b[0;34m\u001b[0m\u001b[0;34m\u001b[0m\u001b[0m\n",
      "\u001b[0;32m~/.conda/envs/venv/lib/python3.6/site-packages/tensorflow/python/client/session.py\u001b[0m in \u001b[0;36mrun\u001b[0;34m(self, fetches, feed_dict, options, run_metadata)\u001b[0m\n\u001b[1;32m    927\u001b[0m     \u001b[0;32mtry\u001b[0m\u001b[0;34m:\u001b[0m\u001b[0;34m\u001b[0m\u001b[0m\n\u001b[1;32m    928\u001b[0m       result = self._run(None, fetches, feed_dict, options_ptr,\n\u001b[0;32m--> 929\u001b[0;31m                          run_metadata_ptr)\n\u001b[0m\u001b[1;32m    930\u001b[0m       \u001b[0;32mif\u001b[0m \u001b[0mrun_metadata\u001b[0m\u001b[0;34m:\u001b[0m\u001b[0;34m\u001b[0m\u001b[0m\n\u001b[1;32m    931\u001b[0m         \u001b[0mproto_data\u001b[0m \u001b[0;34m=\u001b[0m \u001b[0mtf_session\u001b[0m\u001b[0;34m.\u001b[0m\u001b[0mTF_GetBuffer\u001b[0m\u001b[0;34m(\u001b[0m\u001b[0mrun_metadata_ptr\u001b[0m\u001b[0;34m)\u001b[0m\u001b[0;34m\u001b[0m\u001b[0m\n",
      "\u001b[0;32m~/.conda/envs/venv/lib/python3.6/site-packages/tensorflow/python/client/session.py\u001b[0m in \u001b[0;36m_run\u001b[0;34m(self, handle, fetches, feed_dict, options, run_metadata)\u001b[0m\n\u001b[1;32m   1135\u001b[0m     \u001b[0;31m# Create a fetch handler to take care of the structure of fetches.\u001b[0m\u001b[0;34m\u001b[0m\u001b[0;34m\u001b[0m\u001b[0m\n\u001b[1;32m   1136\u001b[0m     fetch_handler = _FetchHandler(\n\u001b[0;32m-> 1137\u001b[0;31m         self._graph, fetches, feed_dict_tensor, feed_handles=feed_handles)\n\u001b[0m\u001b[1;32m   1138\u001b[0m \u001b[0;34m\u001b[0m\u001b[0m\n\u001b[1;32m   1139\u001b[0m     \u001b[0;31m# Run request and get response.\u001b[0m\u001b[0;34m\u001b[0m\u001b[0;34m\u001b[0m\u001b[0m\n",
      "\u001b[0;32m~/.conda/envs/venv/lib/python3.6/site-packages/tensorflow/python/client/session.py\u001b[0m in \u001b[0;36m__init__\u001b[0;34m(self, graph, fetches, feeds, feed_handles)\u001b[0m\n\u001b[1;32m    469\u001b[0m     \"\"\"\n\u001b[1;32m    470\u001b[0m     \u001b[0;32mwith\u001b[0m \u001b[0mgraph\u001b[0m\u001b[0;34m.\u001b[0m\u001b[0mas_default\u001b[0m\u001b[0;34m(\u001b[0m\u001b[0;34m)\u001b[0m\u001b[0;34m:\u001b[0m\u001b[0;34m\u001b[0m\u001b[0m\n\u001b[0;32m--> 471\u001b[0;31m       \u001b[0mself\u001b[0m\u001b[0;34m.\u001b[0m\u001b[0m_fetch_mapper\u001b[0m \u001b[0;34m=\u001b[0m \u001b[0m_FetchMapper\u001b[0m\u001b[0;34m.\u001b[0m\u001b[0mfor_fetch\u001b[0m\u001b[0;34m(\u001b[0m\u001b[0mfetches\u001b[0m\u001b[0;34m)\u001b[0m\u001b[0;34m\u001b[0m\u001b[0m\n\u001b[0m\u001b[1;32m    472\u001b[0m     \u001b[0mself\u001b[0m\u001b[0;34m.\u001b[0m\u001b[0m_fetches\u001b[0m \u001b[0;34m=\u001b[0m \u001b[0;34m[\u001b[0m\u001b[0;34m]\u001b[0m\u001b[0;34m\u001b[0m\u001b[0m\n\u001b[1;32m    473\u001b[0m     \u001b[0mself\u001b[0m\u001b[0;34m.\u001b[0m\u001b[0m_targets\u001b[0m \u001b[0;34m=\u001b[0m \u001b[0;34m[\u001b[0m\u001b[0;34m]\u001b[0m\u001b[0;34m\u001b[0m\u001b[0m\n",
      "\u001b[0;32m~/.conda/envs/venv/lib/python3.6/site-packages/tensorflow/python/client/session.py\u001b[0m in \u001b[0;36mfor_fetch\u001b[0;34m(fetch)\u001b[0m\n\u001b[1;32m    259\u001b[0m     \u001b[0;32melif\u001b[0m \u001b[0misinstance\u001b[0m\u001b[0;34m(\u001b[0m\u001b[0mfetch\u001b[0m\u001b[0;34m,\u001b[0m \u001b[0;34m(\u001b[0m\u001b[0mlist\u001b[0m\u001b[0;34m,\u001b[0m \u001b[0mtuple\u001b[0m\u001b[0;34m)\u001b[0m\u001b[0;34m)\u001b[0m\u001b[0;34m:\u001b[0m\u001b[0;34m\u001b[0m\u001b[0m\n\u001b[1;32m    260\u001b[0m       \u001b[0;31m# NOTE(touts): This is also the code path for namedtuples.\u001b[0m\u001b[0;34m\u001b[0m\u001b[0;34m\u001b[0m\u001b[0m\n\u001b[0;32m--> 261\u001b[0;31m       \u001b[0;32mreturn\u001b[0m \u001b[0m_ListFetchMapper\u001b[0m\u001b[0;34m(\u001b[0m\u001b[0mfetch\u001b[0m\u001b[0;34m)\u001b[0m\u001b[0;34m\u001b[0m\u001b[0m\n\u001b[0m\u001b[1;32m    262\u001b[0m     \u001b[0;32melif\u001b[0m \u001b[0misinstance\u001b[0m\u001b[0;34m(\u001b[0m\u001b[0mfetch\u001b[0m\u001b[0;34m,\u001b[0m \u001b[0mcollections\u001b[0m\u001b[0;34m.\u001b[0m\u001b[0mMapping\u001b[0m\u001b[0;34m)\u001b[0m\u001b[0;34m:\u001b[0m\u001b[0;34m\u001b[0m\u001b[0m\n\u001b[1;32m    263\u001b[0m       \u001b[0;32mreturn\u001b[0m \u001b[0m_DictFetchMapper\u001b[0m\u001b[0;34m(\u001b[0m\u001b[0mfetch\u001b[0m\u001b[0;34m)\u001b[0m\u001b[0;34m\u001b[0m\u001b[0m\n",
      "\u001b[0;32m~/.conda/envs/venv/lib/python3.6/site-packages/tensorflow/python/client/session.py\u001b[0m in \u001b[0;36m__init__\u001b[0;34m(self, fetches)\u001b[0m\n\u001b[1;32m    368\u001b[0m     \"\"\"\n\u001b[1;32m    369\u001b[0m     \u001b[0mself\u001b[0m\u001b[0;34m.\u001b[0m\u001b[0m_fetch_type\u001b[0m \u001b[0;34m=\u001b[0m \u001b[0mtype\u001b[0m\u001b[0;34m(\u001b[0m\u001b[0mfetches\u001b[0m\u001b[0;34m)\u001b[0m\u001b[0;34m\u001b[0m\u001b[0m\n\u001b[0;32m--> 370\u001b[0;31m     \u001b[0mself\u001b[0m\u001b[0;34m.\u001b[0m\u001b[0m_mappers\u001b[0m \u001b[0;34m=\u001b[0m \u001b[0;34m[\u001b[0m\u001b[0m_FetchMapper\u001b[0m\u001b[0;34m.\u001b[0m\u001b[0mfor_fetch\u001b[0m\u001b[0;34m(\u001b[0m\u001b[0mfetch\u001b[0m\u001b[0;34m)\u001b[0m \u001b[0;32mfor\u001b[0m \u001b[0mfetch\u001b[0m \u001b[0;32min\u001b[0m \u001b[0mfetches\u001b[0m\u001b[0;34m]\u001b[0m\u001b[0;34m\u001b[0m\u001b[0m\n\u001b[0m\u001b[1;32m    371\u001b[0m     \u001b[0mself\u001b[0m\u001b[0;34m.\u001b[0m\u001b[0m_unique_fetches\u001b[0m\u001b[0;34m,\u001b[0m \u001b[0mself\u001b[0m\u001b[0;34m.\u001b[0m\u001b[0m_value_indices\u001b[0m \u001b[0;34m=\u001b[0m \u001b[0m_uniquify_fetches\u001b[0m\u001b[0;34m(\u001b[0m\u001b[0mself\u001b[0m\u001b[0;34m.\u001b[0m\u001b[0m_mappers\u001b[0m\u001b[0;34m)\u001b[0m\u001b[0;34m\u001b[0m\u001b[0m\n\u001b[1;32m    372\u001b[0m \u001b[0;34m\u001b[0m\u001b[0m\n",
      "\u001b[0;32m~/.conda/envs/venv/lib/python3.6/site-packages/tensorflow/python/client/session.py\u001b[0m in \u001b[0;36m<listcomp>\u001b[0;34m(.0)\u001b[0m\n\u001b[1;32m    368\u001b[0m     \"\"\"\n\u001b[1;32m    369\u001b[0m     \u001b[0mself\u001b[0m\u001b[0;34m.\u001b[0m\u001b[0m_fetch_type\u001b[0m \u001b[0;34m=\u001b[0m \u001b[0mtype\u001b[0m\u001b[0;34m(\u001b[0m\u001b[0mfetches\u001b[0m\u001b[0;34m)\u001b[0m\u001b[0;34m\u001b[0m\u001b[0m\n\u001b[0;32m--> 370\u001b[0;31m     \u001b[0mself\u001b[0m\u001b[0;34m.\u001b[0m\u001b[0m_mappers\u001b[0m \u001b[0;34m=\u001b[0m \u001b[0;34m[\u001b[0m\u001b[0m_FetchMapper\u001b[0m\u001b[0;34m.\u001b[0m\u001b[0mfor_fetch\u001b[0m\u001b[0;34m(\u001b[0m\u001b[0mfetch\u001b[0m\u001b[0;34m)\u001b[0m \u001b[0;32mfor\u001b[0m \u001b[0mfetch\u001b[0m \u001b[0;32min\u001b[0m \u001b[0mfetches\u001b[0m\u001b[0;34m]\u001b[0m\u001b[0;34m\u001b[0m\u001b[0m\n\u001b[0m\u001b[1;32m    371\u001b[0m     \u001b[0mself\u001b[0m\u001b[0;34m.\u001b[0m\u001b[0m_unique_fetches\u001b[0m\u001b[0;34m,\u001b[0m \u001b[0mself\u001b[0m\u001b[0;34m.\u001b[0m\u001b[0m_value_indices\u001b[0m \u001b[0;34m=\u001b[0m \u001b[0m_uniquify_fetches\u001b[0m\u001b[0;34m(\u001b[0m\u001b[0mself\u001b[0m\u001b[0;34m.\u001b[0m\u001b[0m_mappers\u001b[0m\u001b[0;34m)\u001b[0m\u001b[0;34m\u001b[0m\u001b[0m\n\u001b[1;32m    372\u001b[0m \u001b[0;34m\u001b[0m\u001b[0m\n",
      "\u001b[0;32m~/.conda/envs/venv/lib/python3.6/site-packages/tensorflow/python/client/session.py\u001b[0m in \u001b[0;36mfor_fetch\u001b[0;34m(fetch)\u001b[0m\n\u001b[1;32m    269\u001b[0m         \u001b[0;32mif\u001b[0m \u001b[0misinstance\u001b[0m\u001b[0;34m(\u001b[0m\u001b[0mfetch\u001b[0m\u001b[0;34m,\u001b[0m \u001b[0mtensor_type\u001b[0m\u001b[0;34m)\u001b[0m\u001b[0;34m:\u001b[0m\u001b[0;34m\u001b[0m\u001b[0m\n\u001b[1;32m    270\u001b[0m           \u001b[0mfetches\u001b[0m\u001b[0;34m,\u001b[0m \u001b[0mcontraction_fn\u001b[0m \u001b[0;34m=\u001b[0m \u001b[0mfetch_fn\u001b[0m\u001b[0;34m(\u001b[0m\u001b[0mfetch\u001b[0m\u001b[0;34m)\u001b[0m\u001b[0;34m\u001b[0m\u001b[0m\n\u001b[0;32m--> 271\u001b[0;31m           \u001b[0;32mreturn\u001b[0m \u001b[0m_ElementFetchMapper\u001b[0m\u001b[0;34m(\u001b[0m\u001b[0mfetches\u001b[0m\u001b[0;34m,\u001b[0m \u001b[0mcontraction_fn\u001b[0m\u001b[0;34m)\u001b[0m\u001b[0;34m\u001b[0m\u001b[0m\n\u001b[0m\u001b[1;32m    272\u001b[0m     \u001b[0;31m# Did not find anything.\u001b[0m\u001b[0;34m\u001b[0m\u001b[0;34m\u001b[0m\u001b[0m\n\u001b[1;32m    273\u001b[0m     raise TypeError('Fetch argument %r has invalid type %r' % (fetch,\n",
      "\u001b[0;32m~/.conda/envs/venv/lib/python3.6/site-packages/tensorflow/python/client/session.py\u001b[0m in \u001b[0;36m__init__\u001b[0;34m(self, fetches, contraction_fn)\u001b[0m\n\u001b[1;32m    302\u001b[0m         raise TypeError('Fetch argument %r has invalid type %r, '\n\u001b[1;32m    303\u001b[0m                         \u001b[0;34m'must be a string or Tensor. (%s)'\u001b[0m \u001b[0;34m%\u001b[0m\u001b[0;34m\u001b[0m\u001b[0m\n\u001b[0;32m--> 304\u001b[0;31m                         (fetch, type(fetch), str(e)))\n\u001b[0m\u001b[1;32m    305\u001b[0m       \u001b[0;32mexcept\u001b[0m \u001b[0mValueError\u001b[0m \u001b[0;32mas\u001b[0m \u001b[0me\u001b[0m\u001b[0;34m:\u001b[0m\u001b[0;34m\u001b[0m\u001b[0m\n\u001b[1;32m    306\u001b[0m         raise ValueError('Fetch argument %r cannot be interpreted as a '\n",
      "\u001b[0;31mTypeError\u001b[0m: Fetch argument array([1.91913838e-18, 2.46411741e-18, 3.16382235e-18, 4.06217185e-18,\n       5.21554777e-18, 6.69633099e-18, 8.59744022e-18, 1.10381579e-17,\n       1.41716081e-17, 1.81943554e-17, 2.33587247e-17, 2.99886150e-17,\n       3.84997949e-17, 4.94259531e-17, 6.34521321e-17, 8.14576380e-17,\n       1.04571112e-16, 1.34241209e-16, 1.72327300e-16, 2.21215881e-16,\n       2.83969953e-16, 3.64520729e-16, 4.67913634e-16, 6.00623986e-16,\n       7.70962079e-16, 9.89592971e-16, 1.27020346e-15, 1.63035786e-15,\n       2.09259610e-15, 2.68584256e-15, 3.44721372e-15, 4.42433731e-15,\n       5.67832769e-15, 7.28760303e-15, 9.35278237e-15, 1.20029678e-14,\n       1.54038032e-14, 1.97678121e-14, 2.53676585e-14, 3.25531558e-14,\n       4.17730844e-14, 5.36031753e-14, 6.87820000e-14, 8.82570023e-14,\n       1.13243532e-13, 1.45300551e-13, 1.86427726e-13, 2.39189919e-13,\n       3.06876842e-13, 3.93707753e-13, 5.05093929e-13, 6.47975189e-13,\n       8.31251341e-13, 1.06633531e-12, 1.36786223e-12, 1.75459843e-12,\n       2.25060662e-12, 2.88673938e-12, 3.70255342e-12, 4.74876293e-12,\n       6.09038380e-12, 7.81076283e-12, 1.00167410e-11, 1.28452695e-11,\n       1.64718860e-11, 2.11215756e-11, 2.70826836e-11, 3.47247387e-11,\n       4.45212828e-11, 5.70791125e-11, 7.31757296e-11, 9.38073012e-11,\n       1.20250075e-10, 1.54139017e-10, 1.97568488e-10, 2.53221142e-10,\n       3.24532908e-10, 4.15904177e-10, 5.32970074e-10, 6.82946330e-10,\n       8.75071840e-10, 1.12117488e-09, 1.43639746e-09, 1.84012181e-09,\n       2.35715538e-09, 3.01924611e-09, 3.86701990e-09, 4.95245756e-09,\n       6.34206081e-09, 8.12089864e-09, 1.03977778e-08, 1.33118486e-08,\n       1.70410431e-08, 2.18128519e-08, 2.79180850e-08, 3.57284388e-08,\n       4.57189192e-08, 5.84964532e-08, 7.48363928e-08, 9.57290722e-08,\n       1.22439175e-07, 1.56581414e-07, 2.00216973e-07, 2.55976383e-07,\n       3.27216007e-07, 4.18217274e-07, 5.34440246e-07, 6.82846195e-07,\n       8.72307833e-07, 1.11413076e-06, 1.42271596e-06, 1.81640119e-06,\n       2.31852879e-06, 2.95880032e-06, 3.77499389e-06, 4.81513993e-06,\n       6.14027578e-06, 7.82793065e-06, 9.97653087e-06, 1.27109637e-05,\n       1.61895976e-05, 2.06131318e-05, 2.62357378e-05, 3.33790717e-05,\n       4.24498716e-05, 5.39620263e-05, 6.85642072e-05, 8.70744038e-05,\n       1.10523006e-04, 1.40206431e-04, 1.77753715e-04, 2.25208986e-04,\n       2.85133303e-04, 3.60729976e-04, 4.55998215e-04, 5.75920688e-04,\n       7.26691381e-04, 9.15990850e-04, 1.15331663e-03, 1.45037690e-03,\n       1.82155551e-03, 2.28445571e-03, 2.86052838e-03, 3.57578739e-03,\n       4.46161005e-03, 5.55561313e-03, 6.90258530e-03, 8.55544292e-03,\n       1.05761596e-02, 1.30365994e-02, 1.60191613e-02, 1.96171186e-02,\n       2.39345179e-02, 2.90854875e-02, 3.51928070e-02, 4.23856077e-02,\n       5.07961212e-02, 6.05554649e-02, 7.17885596e-02, 8.46083922e-02,\n       9.91099671e-02, 1.15364396e-01, 1.33413645e-01, 1.53266448e-01,\n       1.74895834e-01, 1.98238547e-01, 2.23196447e-01, 2.49639741e-01,\n       2.77411707e-01, 3.06334425e-01, 3.36214966e-01, 3.66851506e-01,\n       3.98038924e-01, 4.29573594e-01, 4.61257185e-01, 4.92899490e-01,\n       5.24320338e-01, 5.55350795e-01, 5.85833821e-01, 6.15624613e-01,\n       6.44590798e-01, 6.72612620e-01, 6.99583207e-01, 7.25408955e-01,\n       7.50010014e-01, 7.73320832e-01, 7.95290679e-01, 8.15884048e-01,\n       8.35080866e-01, 8.52876409e-01, 8.69280887e-01, 8.84318663e-01,\n       8.98027114e-01, 9.10455167e-01, 9.21661593e-01, 9.31713111e-01,\n       9.40682420e-01, 9.48646228e-01, 9.55683383e-01, 9.61873147e-01,\n       9.67293694e-01, 9.72020834e-01, 9.76126995e-01, 9.79680464e-01,\n       9.82744852e-01, 9.85378778e-01, 9.87635735e-01, 9.89564109e-01,\n       9.91207315e-01, 9.92604022e-01, 9.93788447e-01, 9.94790685e-01,\n       9.95637058e-01, 9.96350474e-01, 9.96950781e-01, 9.97455102e-01,\n       9.97878156e-01, 9.98232547e-01, 9.98529041e-01, 9.98776800e-01,\n       9.98983608e-01, 9.99156054e-01, 9.99299712e-01, 9.99419280e-01,\n       9.99518716e-01, 9.99601346e-01, 9.99669960e-01, 9.99726897e-01,\n       9.99774115e-01, 9.99813250e-01, 9.99845667e-01, 9.99872506e-01,\n       9.99894715e-01, 9.99913086e-01, 9.99928274e-01, 9.99940826e-01,\n       9.99951196e-01, 9.99959759e-01, 9.99966829e-01, 9.99972663e-01,\n       9.99977477e-01, 9.99981447e-01, 9.99984720e-01, 9.99987419e-01,\n       9.99989643e-01, 9.99991475e-01, 9.99992985e-01, 9.99994228e-01,\n       9.99995251e-01, 9.99996094e-01, 9.99996788e-01, 9.99997359e-01,\n       9.99997828e-01, 9.99998215e-01, 9.99998533e-01, 9.99998794e-01,\n       9.99999009e-01, 9.99999186e-01, 9.99999331e-01, 9.99999450e-01,\n       9.99999548e-01, 9.99999629e-01, 9.99999695e-01, 9.99999750e-01,\n       9.99999795e-01, 9.99999831e-01, 9.99999862e-01, 9.99999886e-01,\n       9.99999907e-01, 9.99999923e-01, 9.99999937e-01, 9.99999948e-01,\n       9.99999958e-01, 9.99999965e-01, 9.99999971e-01, 9.99999977e-01,\n       9.99999981e-01, 9.99999984e-01, 9.99999987e-01, 9.99999989e-01,\n       9.99999991e-01, 9.99999993e-01, 9.99999994e-01, 9.99999995e-01,\n       9.99999996e-01, 9.99999997e-01, 9.99999997e-01, 9.99999998e-01,\n       9.99999998e-01, 9.99999999e-01, 9.99999999e-01, 9.99999999e-01,\n       9.99999999e-01, 9.99999999e-01, 9.99999999e-01, 1.00000000e+00,\n       1.00000000e+00, 1.00000000e+00, 1.00000000e+00, 1.00000000e+00]) has invalid type <class 'numpy.ndarray'>, must be a string or Tensor. (Can not convert a ndarray into a Tensor or Operation.)"
     ]
    }
   ],
   "source": [
    "with tf.Session() as sess:\n",
    "    stateK = sess.run(K_prop(np.linspace(-150,50,300)))\n",
    "    stateNa = sess.run(Na_prop(np.linspace(-150,150,300)))\n",
    "    #plt.plot(np.linspace(-150,150,300),stateK[0],'r')\n",
    "    #plt.plot(np.linspace(-150,150,300),stateNa[0],'b')    \n",
    "    #plt.plot(np.linspace(-150,150,300),stateNa[2],'g')\n",
    "    #plt.show()\n",
    "    #plt.plot(np.linspace(-150,150,300),stateK[1],'r')\n",
    "    #plt.plot(np.linspace(-150,150,300),stateNa[1],'b')    \n",
    "    #plt.plot(np.linspace(-150,150,300),stateNa[3],'g')"
   ]
  },
  {
   "cell_type": "code",
   "execution_count": 20,
   "metadata": {},
   "outputs": [
    {
     "data": {
      "text/plain": [
       "<tf.Tensor 'Const_2:0' shape=(300,) dtype=float64>"
      ]
     },
     "execution_count": 20,
     "metadata": {},
     "output_type": "execute_result"
    }
   ],
   "source": []
  },
  {
   "cell_type": "code",
   "execution_count": null,
   "metadata": {},
   "outputs": [],
   "source": []
  }
 ],
 "metadata": {
  "kernelspec": {
   "display_name": "Python 3",
   "language": "python",
   "name": "python3"
  },
  "language_info": {
   "codemirror_mode": {
    "name": "ipython",
    "version": 3
   },
   "file_extension": ".py",
   "mimetype": "text/x-python",
   "name": "python",
   "nbconvert_exporter": "python",
   "pygments_lexer": "ipython3",
   "version": "3.6.6"
  }
 },
 "nbformat": 4,
 "nbformat_minor": 2
}
