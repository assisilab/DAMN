{
 "cells": [
  {
   "cell_type": "code",
   "execution_count": 1,
   "metadata": {},
   "outputs": [],
   "source": [
    "import tensorflow as tf\n",
    "import numpy as np\n",
    "import tf_integrator as tf_int\n",
    "import matplotlib.pyplot as plt\n",
    "import seaborn as sns\n",
    "import pickle\n",
    "%matplotlib inline"
   ]
  },
  {
   "cell_type": "code",
   "execution_count": 2,
   "metadata": {},
   "outputs": [],
   "source": [
    "with open('model.pkl', 'rb') as fp:\n",
    "    model = pickle.load(fp)\n",
    "\n",
    "sim_time = model['duration'] # simulation time (in ms)\n",
    "sim_res = model['resolution'] # simulation resolution (in ms)\n",
    "\n",
    "t = np.arange(0.0, sim_time, sim_res) # time array"
   ]
  },
  {
   "cell_type": "code",
   "execution_count": 3,
   "metadata": {},
   "outputs": [],
   "source": [
    "# Defining Neuron Counts\n",
    "\n",
    "n_n = model['n_n']                   # number of neurons\n",
    "\n",
    "p_n = int(0.75*n_n)                  # number of PNs\n",
    "l_n = int(0.25*n_n)                  # number of LNs\n",
    "\n",
    "C_m  = [1.43e-4]*n_n                     # Capacitance\n",
    "\n",
    "# Defining Common Current Parameters #\n",
    "\n",
    "g_K  = [1.43]*p_n+[10.0]*l_n          # K conductance\n",
    "g_L  = [0.021]*n_n                    # Leak conductance\n",
    "g_KL  = [5.72e-3]*p_n + [1.43e-3]*l_n      # K leak conductance (first 90 for PNs and next 30 for LNs)\n",
    "\n",
    "E_K  = [-95.0]*n_n                   # K Potential\n",
    "E_L  = [-55.0]*p_n + [-50.0]*l_n     # Leak Potential (first 90 for PNs and next 30 for LNs)\n",
    "E_KL  = [-95.0]*n_n                  # K Leak Potential\n",
    "\n",
    "# Defining Cell Type Specific Current Parameters #\n",
    "\n",
    "## PNs\n",
    "\n",
    "g_Na = [7.15]*p_n                   # Na conductance\n",
    "g_A  = [1.43]*p_n                    # Transient K conductance\n",
    "\n",
    "E_Na = [50.0]*p_n                    # Na Potential\n",
    "E_A  = [-95.0]*p_n                   # Transient K Potential\n",
    "\n",
    "## LNs\n",
    "\n",
    "g_Ca = [0.286]*l_n                     # Ca conductance\n",
    "g_KCa = [3.58e-2 ]*l_n                    # Ca dependent K conductance\n",
    "\n",
    "E_Ca = [140.0]*l_n                   # Ca Potential\n",
    "E_KCa = [-95]*l_n                    # Ca dependent K Potential\n",
    "\n",
    "A_Ca = 2*(10**(-4))                  # Ca outflow rate\n",
    "Ca0 = 2.4*(10**(-4))                 # Equilibrium Calcium Concentration\n",
    "t_Ca = 150                           # Ca recovery time constant\n",
    "\n",
    "## Defining Firing Thresholds ##\n",
    "\n",
    "F_b = [0.0]*n_n                      # Fire threshold\n",
    "\n",
    "## Defining Acetylcholine Synapse Connectivity ##\n",
    "\n",
    "ach_mat = model[\"achmat\"] \n",
    "\n",
    "## Defining Acetylcholine Synapse Parameters ##\n",
    "\n",
    "n_syn_ach = int(np.sum(ach_mat))     # Number of Acetylcholine (Ach) Synapses \n",
    "alp_ach = [10.0]*n_syn_ach           # Alpha for Ach Synapse\n",
    "bet_ach = [0.2]*n_syn_ach            # Beta for Ach Synapse\n",
    "t_max = 0.3                          # Maximum Time for Synapse\n",
    "t_delay = 0                          # Axonal Transmission Delay\n",
    "A = [0.5]*n_n                        # Synaptic Response Strength\n",
    "g_ach = [0.35]*p_n+[0.3]*l_n         # Ach Conductance\n",
    "E_ach = [0.0]*n_n                    # Ach Potential\n",
    "\n",
    "## Defining GABAa Synapse Connectivity ##\n",
    "\n",
    "fgaba_mat = model[\"gabamat\"] \n",
    "\n",
    "## Defining GABAa Synapse Parameters ##\n",
    "    \n",
    "n_syn_fgaba = int(np.sum(fgaba_mat)) # Number of GABAa (fGABA) Synapses\n",
    "alp_fgaba = [10.0]*n_syn_fgaba       # Alpha for fGABA Synapse\n",
    "bet_fgaba = [0.16]*n_syn_fgaba       # Beta for fGABA Synapse\n",
    "V0 = [-20.0]*n_n                     # Decay Potential\n",
    "sigma = [1.5]*n_n                    # Decay Time Constant\n",
    "g_fgaba = [0.8]*p_n+[0.4]*l_n        # fGABA Conductance\n",
    "E_fgaba = [-70.0]*n_n                # fGABA Potential\n",
    "\n",
    "## Defining GABAslow Synapse Connectivity ##\n",
    "\n",
    "sgaba_mat = model[\"gabamat\"] \n",
    "\n",
    "## Defining GABAslow Synapse Parameters ##\n",
    "    \n",
    "n_syn_sgaba = int(np.sum(sgaba_mat)) # Number of GABAslow (sGABA) Synapses\n",
    "K_sgaba = [100]*n_syn_sgaba          # K for sGABA Synapse\n",
    "r1_sgaba = [0.5]*n_syn_sgaba         # r1 for sGABA Synapse\n",
    "r2_sgaba = [0.0013]*n_syn_sgaba      # r2 for sGABA Synapse\n",
    "r3_sgaba = [0.1]*n_syn_sgaba         # r3 for sGABA Synapse\n",
    "r4_sgaba = [0.033]*n_syn_sgaba       # r4 for sGABA Synapse\n",
    "V0_sgaba = [-20.0]*n_n               # Decay Potential\n",
    "sigma_sgaba = [1.5]*n_n              # Decay Time Constant\n",
    "G_sgaba = [0.8]*p_n+[0.0]*l_n      # sGABA Conductance\n",
    "E_sgaba = [-95.0]*n_n                # sGABA Potential"
   ]
  },
  {
   "cell_type": "code",
   "execution_count": 4,
   "metadata": {},
   "outputs": [],
   "source": [
    "def K_prop(V):\n",
    "    \n",
    "    T = 22\n",
    "    \n",
    "    phi = 3.0**((T-36.0)/10)\n",
    "    \n",
    "    V_ = V-(-50)\n",
    "    \n",
    "    alpha_n = 0.02*(15.0 - V_)/(tf.exp((15.0 - V_)/5.0) - 1.0)\n",
    "    beta_n = 0.5*tf.exp((10.0 - V_)/40.0)\n",
    "    \n",
    "    t_n = 1.0/((alpha_n+beta_n)*phi)\n",
    "    n_0 = alpha_n/(alpha_n+beta_n)\n",
    "    \n",
    "    return n_0, t_n\n",
    "\n",
    "\n",
    "def Na_prop(V):\n",
    "    T = 22\n",
    "    \n",
    "    phi = 3.0**((T-36)/10)\n",
    "    \n",
    "    V_ = V-(-50)\n",
    "    \n",
    "    alpha_m = 0.32*(13.0 - V_)/(tf.exp((13.0 - V_)/4.0) - 1.0)\n",
    "    beta_m = 0.28*(V_ - 40.0)/(tf.exp((V_ - 40.0)/5.0) - 1.0)\n",
    "    \n",
    "    alpha_h = 0.128*tf.exp((17.0 - V_)/18.0)\n",
    "    beta_h = 4.0/(tf.exp((40.0 - V_)/5.0) + 1.0)\n",
    "    \n",
    "    t_m = 1.0/((alpha_m+beta_m)*phi)\n",
    "    t_h = 1.0/((alpha_h+beta_h)*phi)\n",
    "    \n",
    "    m_0 = alpha_m/(alpha_m+beta_m)\n",
    "    h_0 = alpha_h/(alpha_h+beta_h)\n",
    "    \n",
    "    return m_0, t_m, h_0, t_h\n",
    "\n",
    "\n",
    "def A_prop(V):\n",
    "    T = 36\n",
    "    \n",
    "    phi = 3.0**((T-23.5)/10)\n",
    "    \n",
    "    m_0 = 1/(1+tf.exp(-(V+60.0)/8.5))\n",
    "    h_0 = 1/(1+tf.exp((V+78.0)/6.0))\n",
    "    \n",
    "    tau_m = 1/(tf.exp((V+35.82)/19.69) + tf.exp(-(V+79.69)/12.7) + 0.37) / phi\n",
    "    \n",
    "    t1 = 1/(tf.exp((V+46.05)/5.0) + tf.exp(-(V+238.4)/37.45)) / phi\n",
    "    t2 = (19.0/phi) * tf.ones(tf.shape(V),dtype=V.dtype)\n",
    "    tau_h = tf.where(tf.less(V,-63.0),t1,t2)\n",
    "    \n",
    "    return m_0, tau_m, h_0, tau_h\n",
    "\n",
    "\n",
    "def Ca_prop(V):\n",
    "    \n",
    "    m_0 = 1/(1+tf.exp(-(V+20.0)/6.5))\n",
    "    h_0 = 1/(1+tf.exp((V+25.0)/12))\n",
    "    \n",
    "    tau_m = 1.5\n",
    "    tau_h = 0.3*tf.exp((V-40.0)/13.0) + 0.002*tf.exp((60.0-V)/29)\n",
    "    \n",
    "    return m_0, tau_m, h_0, tau_h\n",
    "\n",
    "def KCa_prop(Ca):\n",
    "    T = 26\n",
    "    \n",
    "    phi = 2.3**((T-23.0)/10)\n",
    "    \n",
    "    alpha = 0.01*Ca\n",
    "    beta = 0.02\n",
    "    \n",
    "    tau = 1/((alpha+beta)*phi)\n",
    "    \n",
    "    return alpha*tau*phi, tau"
   ]
  },
  {
   "cell_type": "code",
   "execution_count": 5,
   "metadata": {},
   "outputs": [],
   "source": [
    "# NEURONAL CURRENTS\n",
    "\n",
    "# Common Currents #\n",
    "\n",
    "def I_K(V, n):\n",
    "    return g_K  * n**4 * (V - E_K)\n",
    "\n",
    "def I_L(V):\n",
    "    return g_L * (V - E_L)\n",
    "\n",
    "def I_KL(V):\n",
    "    return g_KL * (V - E_KL)\n",
    "\n",
    "# PN Currents #\n",
    "\n",
    "def I_Na(V, m, h):\n",
    "    return g_Na * m**3 * h * (V - E_Na)\n",
    "\n",
    "def I_A(V, m, h):\n",
    "    return g_A * m**4 * h * (V - E_A)\n",
    "\n",
    "# LN Currents #\n",
    "\n",
    "def I_Ca(V, m, h):\n",
    "    return g_Ca * m**2 * h * (V - E_Ca)\n",
    "\n",
    "def I_KCa(V, m):\n",
    "    T = 26\n",
    "    phi = 2.3**((T-23.0)/10)\n",
    "    return g_KCa * m * phi * (V - E_KCa)\n",
    "\n",
    "# SYNAPTIC CURRENTS\n",
    "\n",
    "def I_ach(o,V):\n",
    "    o_ = tf.Variable([0.0]*n_n**2,dtype=tf.float64)\n",
    "    ind = tf.boolean_mask(tf.range(n_n**2),ach_mat.reshape(-1) == 1)\n",
    "    o_ = tf.scatter_update(o_,ind,o)\n",
    "    o_ = tf.transpose(tf.reshape(o_,(n_n,n_n)))\n",
    "    return tf.reduce_sum(tf.transpose((o_*(V-E_ach))*g_ach),1)\n",
    "\n",
    "def I_fgaba(o,V):\n",
    "    o_ = tf.Variable([0.0]*n_n**2,dtype=tf.float64)\n",
    "    ind = tf.boolean_mask(tf.range(n_n**2),fgaba_mat.reshape(-1) == 1)\n",
    "    o_ = tf.scatter_update(o_,ind,o)\n",
    "    o_ = tf.transpose(tf.reshape(o_,(n_n,n_n)))\n",
    "    return tf.reduce_sum(tf.transpose((o_*(V-E_fgaba))*g_fgaba),1)\n",
    "\n",
    "def I_sgaba(G,V):\n",
    "    G4 = tf.pow(G,4)/(tf.pow(G,4)+K)\n",
    "    G_ = tf.Variable([0.0]*n_n**2,dtype=tf.float64)\n",
    "    ind = tf.boolean_mask(tf.range(n_n**2),sgaba_mat.reshape(-1) == 1)\n",
    "    G_ = tf.scatter_update(G4,ind,G)\n",
    "    G_ = tf.transpose(tf.reshape(G_,(n_n,n_n)))\n",
    "    return tf.reduce_sum(tf.transpose((G_*(V-E_sgaba))*G_sgaba),1)\n",
    "\n",
    "# INPUT CURRENTS\n",
    "\n",
    "def I_inj_t(t):\n",
    "    return tf.constant(current_input.T,dtype=tf.float64)[tf.to_int32(t*100)]"
   ]
  },
  {
   "cell_type": "code",
   "execution_count": 6,
   "metadata": {},
   "outputs": [],
   "source": [
    "def dXdt(X, t): # X is the state vector\n",
    "    \n",
    "    V_p   = X[0   : p_n] # Voltage(PN)\n",
    "    V_l   = X[p_n : n_n] # Voltage(LN)\n",
    "    \n",
    "    n_K   = X[n_n : 2*n_n] # K-gating(ALL)\n",
    "    \n",
    "    m_Na  = X[2*n_n : 2*n_n + p_n] # Na-activation-gating(PN)\n",
    "    h_Na  = X[2*n_n + p_n : 2*n_n + 2*p_n] # Na-inactivation-gating(PN)\n",
    "\n",
    "    m_A   = X[2*n_n + 2*p_n : 2*n_n + 3*p_n] # Transient-K-activation-gating(PN)\n",
    "    h_A   = X[2*n_n + 3*p_n : 2*n_n + 4*p_n] # Transient-K-inactivation-gating(PN)\n",
    "    \n",
    "    m_Ca  = X[2*n_n + 4*p_n : 2*n_n + 4*p_n + l_n] # Ca-activation-gating(LN)\n",
    "    h_Ca  = X[2*n_n + 4*p_n + l_n: 2*n_n + 4*p_n + 2*l_n] # Ca-inactivation-gating(LN)\n",
    "    \n",
    "    m_KCa = X[2*n_n + 4*p_n + 2*l_n : 2*n_n + 4*p_n + 3*l_n] # K(Ca)-gating(LN)\n",
    "    Ca    = X[2*n_n + 4*p_n + 3*l_n: 2*n_n + 4*p_n + 4*l_n] # Ca-concentration(LN)\n",
    "\n",
    "    o_ach = X[6*n_n : 6*n_n + n_syn_ach] # Acetylcholine Open Fraction\n",
    "    o_fgaba = X[6*n_n + n_syn_ach : 6*n_n + n_syn_ach + n_syn_fgaba] # GABAa Open Fraction\n",
    "    r_sgaba = X[6*n_n + n_syn_ach + n_syn_fgaba : 6*n_n + n_syn_ach + n_syn_fgaba + n_syn_sgaba] # GABAa Open Fraction\n",
    "    g_sgaba = X[6*n_n + n_syn_ach + n_syn_fgaba + n_syn_sgaba : 6*n_n + n_syn_ach + n_syn_fgaba + 2*n_syn_sgaba] # GABAa Open Fraction    \n",
    "    fire_t = X[-n_n:] # Fire-times\n",
    "    \n",
    "    V = X[:n_n] # Overall Voltage (PN + LN)\n",
    "    \n",
    "    \n",
    "    # Evaluate Differentials for Gating variables and Ca concentration\n",
    "    \n",
    "    n0,tn = K_prop(V)\n",
    "    \n",
    "    dn_k = - (1.0/tn)*(n_K-n0)\n",
    "    \n",
    "    m0,tm,h0,th = Na_prop(V_p)\n",
    "    \n",
    "    dm_Na = - (1.0/tm)*(m_Na-m0)\n",
    "    dh_Na = - (1.0/th)*(h_Na-h0)\n",
    "    \n",
    "    m0,tm,h0,th = A_prop(V_p)\n",
    "    \n",
    "    dm_A = - (1.0/tm)*(m_A-m0)\n",
    "    dh_A = - (1.0/th)*(h_A-h0)\n",
    "    \n",
    "    m0,tm,h0,th = Ca_prop(V_l)\n",
    "    \n",
    "    dm_Ca = - (1.0/tm)*(m_Ca-m0)\n",
    "    dh_Ca = - (1.0/th)*(h_Ca-h0)\n",
    "    \n",
    "    m0,tm = KCa_prop(Ca)\n",
    "    \n",
    "    dm_KCa = - (1.0/tm)*(m_KCa-m0)\n",
    "    \n",
    "    dCa = - A_Ca*I_Ca(V_l,m_Ca,h_Ca) - (Ca - Ca0)/t_Ca\n",
    "    \n",
    "    # Evaluate differential for Voltage\n",
    "    \n",
    "    CmdV_p = - I_Na(V_p, m_Na, h_Na) - I_A(V_p, m_A, h_A)\n",
    "    CmdV_l = - I_Ca(V_l, m_Ca, h_Ca) - I_KCa(V_l, m_KCa)\n",
    "    \n",
    "    # Once we have that, we merge the two into a single 120-vector.\n",
    "    \n",
    "    CmdV = tf.concat([CmdV_p,CmdV_l],0)\n",
    "    \n",
    "    # Finally we add the common currents and divide by Cm to get dV/dt.\n",
    "    \n",
    "    dV = (I_inj_t(t) + CmdV - I_K(V, n_K) - I_L(V) - I_KL(V) - I_ach(o_ach,V) - I_fgaba(o_fgaba,V)) / C_m\n",
    "    \n",
    "    # Evaluate dynamics in synapses\n",
    "    \n",
    "    A_ = tf.constant(A,dtype=tf.float64)\n",
    "    T_ach = tf.where(tf.logical_and(tf.greater(t,fire_t+t_delay),tf.less(t,fire_t+t_max+t_delay)),A_,tf.zeros(tf.shape(A_),dtype=A_.dtype))\n",
    "    T_ach = tf.multiply(tf.constant(ach_mat,dtype=tf.float64),T_ach)\n",
    "    T_ach = tf.boolean_mask(tf.reshape(T_ach,(-1,)),ach_mat.reshape(-1) == 1)\n",
    "    do_achdt = alp_ach*(1.0-o_ach)*T_ach - bet_ach*o_ach\n",
    "    \n",
    "    T_fgaba = 1.0/(1.0+tf.exp(-(V-V0)/sigma))\n",
    "    T_fgaba = tf.multiply(tf.constant(fgaba_mat,dtype=tf.float64),T_fgaba)\n",
    "    T_fgaba = tf.boolean_mask(tf.reshape(T_fgaba,(-1,)),fgaba_mat.reshape(-1) == 1)\n",
    "    do_fgabadt = alp_fgaba*(1.0-o_fgaba)*T_fgaba - bet_fgaba*o_fgaba\n",
    "    \n",
    "    dg_sgabadt = - np.array(r4_sgaba)*g_sgaba + np.array(r3_sgaba)*r_sgaba \n",
    "    \n",
    "    A_ = tf.constant(A,dtype=tf.float64)\n",
    "    T_sgaba = tf.where(tf.logical_and(tf.greater(t,fire_t+t_delay),tf.less(t,fire_t+t_max+t_delay)),A_,tf.zeros(tf.shape(A_),dtype=A_.dtype))\n",
    "    T_sgaba = tf.multiply(tf.constant(sgaba_mat,dtype=tf.float64),T_sgaba)\n",
    "    T_sgaba = tf.boolean_mask(tf.reshape(T_sgaba,(-1,)),sgaba_mat.reshape(-1) == 1)\n",
    "    dr_sgabadt = r1_sgaba*(1.0-r_sgaba)*T_sgaba - r2_sgaba*r_sgaba\n",
    "    \n",
    "    # Set change in fire-times as zero\n",
    "    \n",
    "    dfdt = tf.zeros(tf.shape(fire_t),dtype=fire_t.dtype)\n",
    "\n",
    "    # Combine to a single vector\n",
    "    \n",
    "    out = tf.concat([dV,         dn_k,\n",
    "                     dm_Na,      dh_Na,\n",
    "                     dm_A,       dh_A,\n",
    "                     dm_Ca,      dh_Ca,\n",
    "                     dm_KCa,     \n",
    "                     dCa,        do_achdt,\n",
    "                     do_fgabadt, dr_sgabadt,\n",
    "                     dg_sgabadt, dfdt   ],0)\n",
    "    return out"
   ]
  },
  {
   "cell_type": "code",
   "execution_count": 35,
   "metadata": {},
   "outputs": [],
   "source": [
    "current_input = 0.01*np.ones((n_n,t.shape[0]))\n",
    "\n",
    "# Create the input shape\n",
    "\n",
    "y = np.where(t<1000,0.1+0.9*(1-np.exp(-(t-200)/75)),0.1+0.9*np.exp(-(t-1000)/150))\n",
    "y = np.where(t<200,0.1*np.ones(t.shape),y)\n",
    "\n",
    "# Randomly choose 33% indices from 120\n",
    "\n",
    "p_input = 0.33\n",
    "input_neurons_pn = np.random.choice(np.array(range(p_n)),int(p_input*p_n),replace=False)\n",
    "input_neurons_ln = 90+np.random.choice(np.array(range(l_n)),int(p_input*l_n),replace=False)\n",
    "\n",
    "# Assign input shape to chosen indices\n",
    "for i in input_neurons_pn:\n",
    "    current_input[i,:]= (np.random.normal(loc=0.6,scale=0.01)+0.005*np.random.normal(size=t.shape))*y\n",
    "    \n",
    "for i in input_neurons_ln:\n",
    "    current_input[i,:]= (np.random.normal(loc=0.6,scale=0.01)+0.005*np.random.normal(size=t.shape))*y"
   ]
  },
  {
   "cell_type": "code",
   "execution_count": 36,
   "metadata": {
    "scrolled": false
   },
   "outputs": [
    {
     "data": {
      "image/png": "[encoded data removed]",
      "text/plain": [
       "<Figure size 432x288 with 1 Axes>"
      ]
     },
     "metadata": {
      "needs_background": "light"
     },
     "output_type": "display_data"
    }
   ],
   "source": [
    "plt.plot(current_input.T[::100,:])\n",
    "plt.show()"
   ]
  },
  {
   "cell_type": "code",
   "execution_count": 37,
   "metadata": {},
   "outputs": [],
   "source": [
    "state_vector =  [-66]* n_n + [0.0]* (n_n + 4*p_n + 3*l_n) + [2.4*(10**(-4))]*l_n + [0]*(n_syn_ach+n_syn_fgaba+2*n_syn_sgaba) + [-(sim_time+1)]*n_n\n",
    "state_vector = np.array(state_vector)\n",
    "state_vector = state_vector + 0.3*state_vector*np.random.normal(size=state_vector.shape)\n",
    "init_state = tf.constant(state_vector, dtype=tf.float64)"
   ]
  },
  {
   "cell_type": "code",
   "execution_count": null,
   "metadata": {
    "scrolled": false
   },
   "outputs": [],
   "source": [
    "%%time\n",
    "\n",
    "state = tf_int.odeint(dXdt, init_state, t, n_n, F_b)\n",
    "\n",
    "with tf.Session() as sess:\n",
    "    tf.global_variables_initializer().run()\n",
    "    state = sess.run(state)\n",
    "    sess.close()"
   ]
  },
  {
   "cell_type": "code",
   "execution_count": null,
   "metadata": {
    "scrolled": false
   },
   "outputs": [],
   "source": [
    "plt.figure(figsize=(12,6))\n",
    "    \n",
    "sns.heatmap(state[::100,:90].T,xticklabels=100,yticklabels=5,cmap='Greys')\n",
    "\n",
    "plt.xlabel(\"Time (in ms)\")\n",
    "plt.ylabel(\"Projection Neuron Number\")\n",
    "plt.title(\"Voltage vs Time Heatmap for Projection Neurons (PNs)\")\n",
    "\n",
    "plt.tight_layout()\n",
    "plt.show()"
   ]
  },
  {
   "cell_type": "code",
   "execution_count": null,
   "metadata": {},
   "outputs": [],
   "source": [
    "plt.figure(figsize=(12,6))\n",
    "    \n",
    "sns.heatmap(state[::100,90:120].T,xticklabels=100,yticklabels=5,cmap='Greys')\n",
    "\n",
    "plt.xlabel(\"Time (in ms)\")\n",
    "plt.ylabel(\"Local Interneuron Number\")\n",
    "plt.title(\"Voltage vs Time Heatmap for Local Interneurons (LNs)\")\n",
    "\n",
    "plt.tight_layout()\n",
    "plt.show()"
   ]
  },
  {
   "cell_type": "code",
   "execution_count": 14,
   "metadata": {},
   "outputs": [
    {
     "data": {
      "text/plain": [
       "[<matplotlib.lines.Line2D at 0x7eff2021dd68>]"
      ]
     },
     "execution_count": 14,
     "metadata": {},
     "output_type": "execute_result"
    },
    {
     "data": {
      "image/png": "[encoded data removed]",
      "text/plain": [
       "<Figure size 432x288 with 1 Axes>"
      ]
     },
     "metadata": {
      "needs_background": "light"
     },
     "output_type": "display_data"
    }
   ],
   "source": [
    "plt.plot(t,state[:,:90].mean(axis=1))"
   ]
  },
  {
   "cell_type": "code",
   "execution_count": 32,
   "metadata": {},
   "outputs": [
    {
     "data": {
      "text/plain": [
       "[<matplotlib.lines.Line2D at 0x7f6656264be0>]"
      ]
     },
     "execution_count": 32,
     "metadata": {},
     "output_type": "execute_result"
    },
    {
     "data": {
      "image/png": "[encoded data removed]",
      "text/plain": [
       "<Figure size 432x288 with 1 Axes>"
      ]
     },
     "metadata": {
      "needs_background": "light"
     },
     "output_type": "display_data"
    }
   ],
   "source": [
    "y = state[:,:90].mean(axis=1)\n",
    "\n",
    "Y = np.fft.fft(y)\n",
    "freq = np.fft.fftfreq(len(y), 0.01/1000)\n",
    "\n",
    "ind = np.logical_and(freq>0,freq<100)\n",
    "\n",
    "plt.plot( freq[ind], np.abs(Y)[ind] )"
   ]
  },
  {
   "cell_type": "code",
   "execution_count": 15,
   "metadata": {},
   "outputs": [
    {
     "data": {
      "text/plain": [
       "array([[-5.96908562e+01, -6.45367491e+01, -6.18566493e+01, ...,\n",
       "        -6.77250030e+01, -6.56619822e+01, -6.35747871e+01],\n",
       "       [-4.01524054e+01, -3.91405133e+01, -3.95791675e+01, ...,\n",
       "        -3.99716751e+01, -4.17953469e+01, -3.94043483e+01],\n",
       "       [ 2.75266126e+29,  1.93958892e+20,  1.28879701e+39, ...,\n",
       "         1.40490813e+57,  5.19075293e+40,  1.49436155e+30],\n",
       "       ...,\n",
       "       [            nan,             nan,             nan, ...,\n",
       "                    nan,             nan,             nan],\n",
       "       [            nan,             nan,             nan, ...,\n",
       "                    nan,             nan,             nan],\n",
       "       [            nan,             nan,             nan, ...,\n",
       "                    nan,             nan,             nan]])"
      ]
     },
     "execution_count": 15,
     "metadata": {},
     "output_type": "execute_result"
    }
   ],
   "source": [
    "state[:,:90]"
   ]
  },
  {
   "cell_type": "code",
   "execution_count": null,
   "metadata": {},
   "outputs": [],
   "source": []
  }
 ],
 "metadata": {
  "kernelspec": {
   "display_name": "Python 3",
   "language": "python",
   "name": "python3"
  },
  "language_info": {
   "codemirror_mode": {
    "name": "ipython",
    "version": 3
   },
   "file_extension": ".py",
   "mimetype": "text/x-python",
   "name": "python",
   "nbconvert_exporter": "python",
   "pygments_lexer": "ipython3",
   "version": "3.6.6"
  }
 },
 "nbformat": 4,
 "nbformat_minor": 2
}
