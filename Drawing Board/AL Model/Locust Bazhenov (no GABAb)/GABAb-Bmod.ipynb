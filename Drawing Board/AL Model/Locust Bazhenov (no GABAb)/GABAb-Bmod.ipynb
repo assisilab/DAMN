{
 "cells": [
  {
   "cell_type": "code",
   "execution_count": 1,
   "metadata": {},
   "outputs": [],
   "source": [
    "import tensorflow as tf\n",
    "import numpy as np\n",
    "import tf_integrator as tf_int\n",
    "import matplotlib.pyplot as plt\n",
    "import seaborn as sns\n",
    "import pickle\n",
    "import time\n",
    "%matplotlib inline"
   ]
  },
  {
   "cell_type": "code",
   "execution_count": 2,
   "metadata": {},
   "outputs": [],
   "source": [
    "with open('model.pkl', 'rb') as fp:\n",
    "    model = pickle.load(fp)\n",
    "\n",
    "sim_time = 800#model['duration'] # simulation time (in ms)\n",
    "sim_res = model['resolution'] # simulation resolution (in ms)\n",
    "\n",
    "t = np.arange(0.0, sim_time, sim_res) # time array"
   ]
  },
  {
   "cell_type": "code",
   "execution_count": 3,
   "metadata": {},
   "outputs": [],
   "source": [
    "# Defining Neuron Counts\n",
    "\n",
    "n_n = model['n_n']           # number of neurons\n",
    "p_n = int(0.75*n_n)                  # number of PNs\n",
    "l_n = int(0.25*n_n)                  # number of LNs\n",
    "\n",
    "C_m  = [1.43]*n_n                     # Capacitance\n",
    "\n",
    "# Defining Common Current Parameters #\n",
    "\n",
    "g_K  = [1.0]*n_n                    # K conductance\n",
    "g_L  = [0.0215]*n_n                    # Leak conductance\n",
    "g_KL  = [0.0057]*p_n + [0.0029]*l_n      # K leak conductance (first 90 for PNs and next 30 for LNs)\n",
    "\n",
    "E_K  = [-95.0]*n_n                   # K Potential\n",
    "E_L  = [-55.0]*p_n + [-50.0]*l_n     # Leak Potential (first 90 for PNs and next 30 for LNs)\n",
    "E_KL  = [-95.0]*n_n                  # K Leak Potential\n",
    "# Defining Cell Type Specific Current Parameters #\n",
    "\n",
    "## PNs\n",
    "\n",
    "g_Na = [7.15]*p_n                   # Na conductance\n",
    "g_A  = [1.43]*p_n                    # Transient K conductance\n",
    "\n",
    "E_Na = [50.0]*p_n                    # Na Potential\n",
    "E_A  = [-95.0]*p_n                   # Transient K Potential\n",
    "\n",
    "## LNs\n",
    "\n",
    "g_Ca = [0.29]*l_n                     # Ca conductance\n",
    "g_KCa = [0.0359]*l_n                    # Ca dependent K conductance\n",
    "\n",
    "E_Ca = [140.0]*l_n                   # Ca Potential\n",
    "E_KCa = [-95]*l_n                    # Ca dependent K Potential\n",
    "\n",
    "A_Ca = 2.86*(10**(-5))                  # Ca outflow rate\n",
    "Ca0 = 2.4*(10**(-4))                 # Equilibrium Calcium Concentration\n",
    "t_Ca = 150                           # Ca recovery time constant\n",
    "\n",
    "## Defining Firing Thresholds ##\n",
    "\n",
    "F_b = [0.0]*n_n                      # Fire threshold\n",
    "\n",
    "## Defining Acetylcholine Synapse Connectivity ##\n",
    "\n",
    "#ach_mat = model[\"achmat\"] #np.zeros((n_n,n_n))\n",
    "ach_mat = np.zeros(model[\"achmat\"].shape)\n",
    "\n",
    "## Defining Acetylcholine Synapse Parameters ##\n",
    "\n",
    "n_syn_ach = int(np.sum(ach_mat))     # Number of Acetylcholine (Ach) Synapses \n",
    "alp_ach = [10.0]*n_syn_ach           # Alpha for Ach Synapse\n",
    "bet_ach = [0.2]*n_syn_ach            # Beta for Ach Synapse\n",
    "t_max = 0.3                          # Maximum Time for Synapse\n",
    "t_delay = 0                          # Axonal Transmission Delay\n",
    "A = [0.5]*n_n                        # Synaptic Response Strength\n",
    "# g_ach = [0.009]*p_n+[0.045]*l_n         # Ach Conductance\n",
    "g_ach = [0.35]*p_n+[0.3]*l_n         # Ach Conductance\n",
    "E_ach = [0.0]*n_n                    # Ach Potential\n",
    "\n",
    "## Defining GABAa Synapse Connectivity ##\n",
    "\n",
    "fgaba_mat = model[\"gabamat\"] #np.zeros((n_n,n_n)) \n",
    "# fgaba_mat = np.zeros(model[\"gabamat\"].shape) \n",
    "\n",
    "## Defining GABAa Synapse Parameters ##\n",
    "    \n",
    "n_syn_fgaba = int(np.sum(fgaba_mat)) # Number of GABAa (fGABA) Synapses\n",
    "alp_fgaba = [10.0]*n_syn_fgaba       # Alpha for fGABA Synapse\n",
    "bet_fgaba = [0.16]*n_syn_fgaba       # Beta for fGABA Synapse\n",
    "V0 = [-20.0]*n_n                     # Decay Potential\n",
    "sigma = [1.5]*n_n                    # Decay Time Constant\n",
    "#g_fgaba = [0.36]*p_n+[0.3]*l_n        # fGABA Conductance\n",
    "g_fgaba = [0.8]*p_n+[0.4]*l_n        # fGABA Conductance\n",
    "E_fgaba = [-70.0]*n_n                # fGABA Potential\n",
    "\n",
    "## Defining GABAslow Synapse Connectivity ##\n",
    "\n",
    "sgaba_mat = model[\"gabamat\"] #np.zeros((n_n,n_n))\n",
    "# sgaba_mat = np.zeros(model[\"gabamat\"].shape)\n",
    "\n",
    "## Defining GABAslow Synapse Parameters ##\n",
    "    \n",
    "n_syn_sgaba = int(np.sum(sgaba_mat)) # Number of GABAslow (sGABA) Synapses\n",
    "K_sgaba = [100e-12]*n_syn_sgaba          # K for sGABA Synapse\n",
    "r1_sgaba = [0.5]*n_syn_sgaba         # r1 for sGABA Synapse\n",
    "r2_sgaba = [0.0013]*n_syn_sgaba      # r2 for sGABA Synapse\n",
    "r3_sgaba = [0.1]*n_syn_sgaba         # r3 for sGABA Synapse\n",
    "r4_sgaba = [0.033]*n_syn_sgaba       # r4 for sGABA Synapse\n",
    "V0_sgaba = [-20.0]*n_n               # Decay Potential\n",
    "sigma_sgaba = [1.5]*n_n              # Decay Time Constant\n",
    "# G_sgaba = [0.36]*p_n+[0.0]*l_n      # sGABA Conductance\n",
    "G_sgaba = [0.8]*p_n+[0.0]*l_n      # sGABA Conductance\n",
    "E_sgaba = [-95.0]*n_n                # sGABA Potential\n",
    "\n",
    "g_ach = np.divide(np.array(g_ach),np.sum(ach_mat,axis=1),where=np.sum(ach_mat,axis=1)!=0)\n",
    "G_sgaba = np.divide(np.array(G_sgaba),np.sum(sgaba_mat,axis=1),where=np.sum(sgaba_mat,axis=1)!=0)\n",
    "g_fgaba = np.divide(np.array(g_fgaba),np.sum(fgaba_mat,axis=1),where=np.sum(fgaba_mat,axis=1)!=0)"
   ]
  },
  {
   "cell_type": "code",
   "execution_count": 4,
   "metadata": {},
   "outputs": [],
   "source": [
    "def K_prop(V):\n",
    "    \n",
    "    V = V-(-65)\n",
    "    \n",
    "    T = 23\n",
    "    \n",
    "    phi = 3.0**((T-36)/10)\n",
    "    \n",
    "    alpha_n = 0.032*(15-V)/(tf.exp((15-V)*0.2) - 1.0)\n",
    "    beta_n = 0.5*tf.exp((10.0-V)/40.0)\n",
    "    \n",
    "    t_n = 1.0/(alpha_n+beta_n)/phi\n",
    "    n_inf = alpha_n/(alpha_n+beta_n)\n",
    "    \n",
    "    return n_inf, t_n\n",
    "\n",
    "\n",
    "def Na_prop(V):\n",
    "    \n",
    "    V = V-(-65)\n",
    "    \n",
    "    T = 23\n",
    "    \n",
    "    phi = 3.0**((T-36)/10)\n",
    "    \n",
    "    alpha_m = 0.32*(13-V)/(tf.exp((13-V)*0.25)-1)\n",
    "    beta_m = 0.28*(V-40)/(tf.exp((V-40)*0.2)-1)\n",
    "    \n",
    "    alpha_h = 0.128*tf.exp((17-V)/18.0)\n",
    "    beta_h = 4.0/(tf.exp((40-V)*0.2) + 1.0)\n",
    "    \n",
    "    t_m = 1.0/(alpha_m+beta_m)/phi\n",
    "    t_h = 1.0/(alpha_h+beta_h)/phi\n",
    "    \n",
    "    m_inf = alpha_m/(alpha_m+beta_m)\n",
    "    h_inf = alpha_h/(alpha_h+beta_h)\n",
    "    \n",
    "    return m_inf, t_m, h_inf, t_h\n",
    "\n",
    "\n",
    "def A_prop(V):\n",
    "    \n",
    "    T = 23\n",
    "    \n",
    "    phi = 3.0**((T-23.5)/10)\n",
    "    \n",
    "    m_inf = 1/(1+tf.exp(-(V+60.0)/8.5))\n",
    "    h_inf = 1/(1+tf.exp((V+78.0)/6.0))\n",
    "    \n",
    "    tau_m = 0.27/(tf.exp((V + 35.8)/19.7) + tf.exp(-(V + 79.7)/12.7)) + 0.1\n",
    "    \n",
    "    t1 = 0.27*1/(tf.exp((V+46.05)/5.0) + tf.exp(-(V+238.4)/37.45)) #/ phi\n",
    "    t2 = tf.ones(tf.shape(V),dtype=V.dtype)*(19.0/phi) #*5.1 \n",
    "    tau_h = tf.where(tf.less(V,-63.0),t1,t2)\n",
    "    \n",
    "    return m_inf, tau_m, h_inf, tau_h\n",
    "\n",
    "\n",
    "def Ca_prop(V):\n",
    "    \n",
    "    m_inf = 1/(1+tf.exp(-(V+20.0)/6.5))\n",
    "    h_inf = 1/(1+tf.exp((V+25.0)/12))\n",
    "    \n",
    "    tau_m = 1.5#1 + (V + 30)*0.014#1.5\n",
    "    tau_h = 0.3*tf.exp((V-40.0)/13.0) + 0.002*tf.exp((60.0-V)/29)\n",
    "    \n",
    "    return m_inf, tau_m, h_inf, tau_h\n",
    "\n",
    "def KCa_prop(Ca):\n",
    "    return Ca/(Ca+2), 100/(Ca+2)"
   ]
  },
  {
   "cell_type": "code",
   "execution_count": 5,
   "metadata": {},
   "outputs": [],
   "source": [
    "# NEURONAL CURRENTS\n",
    "\n",
    "# Common Currents #\n",
    "\n",
    "def I_K(V, n):\n",
    "    return g_K  * n**4 * (V - E_K)\n",
    "\n",
    "def I_L(V):\n",
    "    return g_L * (V - E_L)\n",
    "\n",
    "def I_KL(V):\n",
    "    return g_KL * (V - E_KL)\n",
    "\n",
    "# PN Currents #\n",
    "\n",
    "def I_Na(V, m, h):\n",
    "    return g_Na * m**3 * h * (V - E_Na)\n",
    "\n",
    "def I_A(V, m, h):\n",
    "    return g_A * m**4 * h * (V - E_A)\n",
    "\n",
    "# LN Currents #\n",
    "\n",
    "def I_Ca(V, m, h):\n",
    "    return g_Ca * m**2 * h * (V - E_Ca)\n",
    "\n",
    "def I_KCa(V, m):\n",
    "    T = 23\n",
    "    phi = 2.3**((T-23.0)/10)\n",
    "    return g_KCa * m * (V - E_KCa) * phi\n",
    "\n",
    "# SYNAPTIC CURRENTS\n",
    "\n",
    "def I_ach(o,V):\n",
    "    o_ = tf.Variable([0.0]*n_n**2,dtype=tf.float64)\n",
    "    ind = tf.boolean_mask(tf.range(n_n**2),ach_mat.reshape(-1) == 1)\n",
    "    o_ = tf.scatter_update(o_,ind,o)\n",
    "    o_ = tf.transpose(tf.reshape(o_,(n_n,n_n)))\n",
    "    return tf.reduce_sum(tf.transpose((o_*(V-E_ach))*g_ach),1)\n",
    "\n",
    "def I_fgaba(o,V):\n",
    "    o_ = tf.Variable([0.0]*n_n**2,dtype=tf.float64)\n",
    "    ind = tf.boolean_mask(tf.range(n_n**2),fgaba_mat.reshape(-1) == 1)\n",
    "    o_ = tf.scatter_update(o_,ind,o)\n",
    "    o_ = tf.transpose(tf.reshape(o_,(n_n,n_n)))\n",
    "    return tf.reduce_sum(tf.transpose((o_*(V-E_fgaba))*g_fgaba),1)\n",
    "\n",
    "def I_sgaba(G,V):\n",
    "    G4 = tf.pow(G,4)/(tf.pow(G,4)+K_sgaba)\n",
    "    G_ = tf.Variable([0.0]*n_n**2,dtype=tf.float64)\n",
    "    ind = tf.boolean_mask(tf.range(n_n**2),sgaba_mat.reshape(-1) == 1)\n",
    "    G_ = tf.scatter_update(G_,ind,G4)\n",
    "    G_ = tf.transpose(tf.reshape(G_,(n_n,n_n)))\n",
    "    return tf.reduce_sum(tf.transpose((G_*(V-E_sgaba))*G_sgaba),1)\n",
    "\n",
    "# INPUT CURRENTS\n",
    "\n",
    "def I_inj_t(t):\n",
    "    return tf.constant(current_input.T,dtype=tf.float64)[tf.to_int32(t*100)]"
   ]
  },
  {
   "cell_type": "code",
   "execution_count": 6,
   "metadata": {},
   "outputs": [],
   "source": [
    "def dXdt(X, t): # X is the state vector\n",
    "    \n",
    "    V_p   = X[0   : p_n] # Voltage(PN)\n",
    "    V_l   = X[p_n : n_n] # Voltage(LN)\n",
    "    \n",
    "    n_K   = X[n_n : 2*n_n] # K-gating(ALL)\n",
    "    \n",
    "    m_Na  = X[2*n_n : 2*n_n + p_n] # Na-activation-gating(PN)\n",
    "    h_Na  = X[2*n_n + p_n : 2*n_n + 2*p_n] # Na-inactivation-gating(PN)\n",
    "\n",
    "    m_A   = X[2*n_n + 2*p_n : 2*n_n + 3*p_n] # Transient-K-activation-gating(PN)\n",
    "    h_A   = X[2*n_n + 3*p_n : 2*n_n + 4*p_n] # Transient-K-inactivation-gating(PN)\n",
    "    \n",
    "    m_Ca  = X[2*n_n + 4*p_n : 2*n_n + 4*p_n + l_n] # Ca-activation-gating(LN)\n",
    "    h_Ca  = X[2*n_n + 4*p_n + l_n: 2*n_n + 4*p_n + 2*l_n] # Ca-inactivation-gating(LN)\n",
    "    \n",
    "    m_KCa = X[2*n_n + 4*p_n + 2*l_n : 2*n_n + 4*p_n + 3*l_n] # K(Ca)-gating(LN)\n",
    "    Ca    = X[2*n_n + 4*p_n + 3*l_n: 2*n_n + 4*p_n + 4*l_n] # Ca-concentration(LN)\n",
    "\n",
    "    o_ach = X[6*n_n : 6*n_n + n_syn_ach] # Acetylcholine Open Fraction\n",
    "    o_fgaba = X[6*n_n + n_syn_ach : 6*n_n + n_syn_ach + n_syn_fgaba] # GABAa Open Fraction\n",
    "    r_sgaba = X[6*n_n + n_syn_ach + n_syn_fgaba : 6*n_n + n_syn_ach + n_syn_fgaba + n_syn_sgaba] # GABAa Open Fraction\n",
    "    g_sgaba = X[6*n_n + n_syn_ach + n_syn_fgaba + n_syn_sgaba : 6*n_n + n_syn_ach + n_syn_fgaba + 2*n_syn_sgaba] # GABAa Open Fraction    \n",
    "    fire_t = X[-n_n:] # Fire-times\n",
    "    \n",
    "    V = X[:n_n] # Overall Voltage (PN + LN)\n",
    "    \n",
    "    \n",
    "    # Evaluate Differentials for Gating variables and Ca concentration\n",
    "    \n",
    "    n0,tn = K_prop(V)\n",
    "    \n",
    "    dn_k = - (1.0/tn)*(n_K-n0)\n",
    "    \n",
    "    m0,tm,h0,th = Na_prop(V_p)\n",
    "    \n",
    "    dm_Na = - (1.0/tm)*(m_Na-m0)\n",
    "    dh_Na = - (1.0/th)*(h_Na-h0)\n",
    "    \n",
    "    m0,tm,h0,th = A_prop(V_p)\n",
    "    \n",
    "    dm_A = - (1.0/tm)*(m_A-m0)\n",
    "    dh_A = - (1.0/th)*(h_A-h0)\n",
    "    \n",
    "    m0,tm,h0,th = Ca_prop(V_l)\n",
    "    \n",
    "    dm_Ca = - (1.0/tm)*(m_Ca-m0)\n",
    "    dh_Ca = - (1.0/th)*(h_Ca-h0)\n",
    "    \n",
    "    m0,tm = KCa_prop(Ca)\n",
    "    \n",
    "    dm_KCa = - (1.0/tm)*(m_KCa-m0)\n",
    "    \n",
    "    dCa = - A_Ca*I_Ca(V_l,m_Ca,h_Ca) - (Ca - Ca0)/t_Ca\n",
    "    \n",
    "    # Evaluate differential for Voltage\n",
    "    \n",
    "    CmdV_p = - I_Na(V_p, m_Na, h_Na) - I_A(V_p, m_A, h_A)\n",
    "    CmdV_l = - I_Ca(V_l, m_Ca, h_Ca) - I_KCa(V_l, m_KCa)\n",
    "    \n",
    "    # Once we have that, we merge the two into a single 120-vector.\n",
    "    \n",
    "    CmdV = tf.concat([CmdV_p,CmdV_l],0)\n",
    "    \n",
    "    # Finally we add the common currents and divide by Cm to get dV/dt.\n",
    "    \n",
    "    dV = (I_inj_t(t) + CmdV - I_K(V, n_K) - I_L(V) - I_KL(V) - I_ach(o_ach,V) - I_fgaba(o_fgaba,V) - I_sgaba(g_sgaba,V)) / C_m\n",
    "#     dV = (I_inj_t(t) + CmdV - I_K(V, n_K) - I_L(V) - I_KL(V) - I_ach(o_ach,V) - I_fgaba(o_fgaba,V)) / C_m\n",
    "    \n",
    "    # Evaluate dynamics in synapses\n",
    "    \n",
    "    A_ = tf.constant(A,dtype=tf.float64)\n",
    "    T_ach = tf.where(tf.logical_and(tf.greater(t,fire_t+t_delay),tf.less(t,fire_t+t_max+t_delay)),A_,tf.zeros(tf.shape(A_),dtype=A_.dtype))\n",
    "    T_ach = tf.multiply(tf.constant(ach_mat,dtype=tf.float64),T_ach)\n",
    "    T_ach = tf.boolean_mask(tf.reshape(T_ach,(-1,)),ach_mat.reshape(-1) == 1)\n",
    "    do_achdt = alp_ach*(1.0-o_ach)*T_ach - bet_ach*o_ach\n",
    "    \n",
    "    T_fgaba = 1.0/(1.0+tf.exp(-(V-V0)/sigma))\n",
    "    T_fgaba = tf.multiply(tf.constant(fgaba_mat,dtype=tf.float64),T_fgaba)\n",
    "    T_fgaba = tf.boolean_mask(tf.reshape(T_fgaba,(-1,)),fgaba_mat.reshape(-1) == 1)\n",
    "    do_fgabadt = alp_fgaba*(1.0-o_fgaba)*T_fgaba - bet_fgaba*o_fgaba\n",
    "    \n",
    "    dg_sgabadt = - np.array(r4_sgaba)*g_sgaba + np.array(r3_sgaba)*r_sgaba \n",
    "    \n",
    "    A_ = tf.constant(A,dtype=tf.float64)\n",
    "    T_sgaba = tf.where(tf.logical_and(tf.greater(t,fire_t+t_delay),tf.less(t,fire_t+t_max+t_delay)),A_,tf.zeros(tf.shape(A_),dtype=A_.dtype))\n",
    "    T_sgaba = tf.multiply(tf.constant(sgaba_mat,dtype=tf.float64),T_sgaba)\n",
    "    T_sgaba = tf.boolean_mask(tf.reshape(T_sgaba,(-1,)),sgaba_mat.reshape(-1) == 1)\n",
    "    dr_sgabadt = r1_sgaba*(1.0-r_sgaba)*T_sgaba - r2_sgaba*r_sgaba\n",
    "    \n",
    "    # Set change in fire-times as zero\n",
    "    \n",
    "    dfdt = tf.zeros(tf.shape(fire_t),dtype=fire_t.dtype)\n",
    "\n",
    "    # Combine to a single vector\n",
    "    \n",
    "    out = tf.concat([dV,         dn_k,\n",
    "                     dm_Na,      dh_Na,\n",
    "                     dm_A,       dh_A,\n",
    "                     dm_Ca,      dh_Ca,\n",
    "                     dm_KCa,     \n",
    "                     dCa,        do_achdt,\n",
    "                     do_fgabadt, dr_sgabadt,\n",
    "                     dg_sgabadt, dfdt   ],0)\n",
    "    return out"
   ]
  },
  {
   "cell_type": "code",
   "execution_count": 7,
   "metadata": {},
   "outputs": [],
   "source": [
    "current_input = 0.*np.ones((n_n,t.shape[0]))\n",
    "\n",
    "# Create the input shape\n",
    "\n",
    "y = np.where(t<550,(1-np.exp(-(t-50)/75)),np.exp(-(t-550)/300))\n",
    "y = np.where(t<50,0.0*np.ones(t.shape),y)\n",
    "\n",
    "# Randomly choose 33% indices from 120\n",
    "\n",
    "p_input = 0.33\n",
    "p_input_l = 1.0\n",
    "input_neurons_pn = np.random.choice(np.array(range(p_n)),int(p_input*p_n),replace=False)\n",
    "input_neurons_ln = 90+np.random.choice(np.array(range(l_n)),int(p_input_l*l_n),replace=False)\n",
    "\n",
    "# Assign input shape to chosen indices\n",
    "for i in input_neurons_pn:\n",
    "    current_input[i,:]= (np.random.normal(loc=8,scale=0.0)+0.1*np.random.normal(size=t.shape))*y\n",
    "    \n",
    "for i in input_neurons_ln:\n",
    "    current_input[i,:]= (np.random.normal(loc=5,scale=0.0)+0.1*np.random.normal(size=t.shape))*y"
   ]
  },
  {
   "cell_type": "code",
   "execution_count": 8,
   "metadata": {
    "scrolled": false
   },
   "outputs": [
    {
     "data": {
      "text/plain": [
       "<matplotlib.image.AxesImage at 0x7f40d4009160>"
      ]
     },
     "execution_count": 8,
     "metadata": {},
     "output_type": "execute_result"
    },
    {
     "data": {
      "image/png": "[encoded data removed]",
      "text/plain": [
       "<Figure size 432x288 with 1 Axes>"
      ]
     },
     "metadata": {
      "needs_background": "light"
     },
     "output_type": "display_data"
    }
   ],
   "source": [
    "# plt.plot(current_input.T[::100,:])\n",
    "# plt.show()\n",
    "plt.imshow(current_input,aspect='auto')"
   ]
  },
  {
   "cell_type": "code",
   "execution_count": 9,
   "metadata": {},
   "outputs": [],
   "source": [
    "state_vector =  [-60]* n_n + [0.0]* (n_n + 4*p_n + 3*l_n) + [2.4*(10**(-4))]*l_n + [0]*(n_syn_ach+n_syn_fgaba+2*n_syn_sgaba) + [-(sim_time+1)]*n_n\n",
    "state_vector = np.array(state_vector)\n",
    "state_vector = state_vector + 0.3*state_vector*np.random.normal(size=state_vector.shape)\n",
    "init_state = tf.constant(state_vector, dtype=tf.float64)"
   ]
  },
  {
   "cell_type": "code",
   "execution_count": 10,
   "metadata": {
    "scrolled": false
   },
   "outputs": [
    {
     "ename": "ResourceExhaustedError",
     "evalue": "OOM when allocating tensor with shape[79999,6072] and type double on /job:localhost/replica:0/task:0/device:CPU:0 by allocator cpu\n\t [[node scan/TensorArrayStack/TensorArrayGatherV3 (defined at /home/iiser/Collins-Saptarshi 2019b/DAMN/Drawing Board/AL Model/Locust Bazhenov (no GABAb)/tf_integrator.py:59)  = TensorArrayGatherV3[dtype=DT_DOUBLE, element_shape=[6072], _device=\"/job:localhost/replica:0/task:0/device:CPU:0\"](scan/TensorArray_2, scan/TensorArrayStack/range, scan/while/Exit_3)]]\nHint: If you want to see a list of allocated tensors when OOM happens, add report_tensor_allocations_upon_oom to RunOptions for current allocation info.\n\n\nCaused by op 'scan/TensorArrayStack/TensorArrayGatherV3', defined at:\n  File \"/home/iiser/.conda/envs/venv/lib/python3.6/runpy.py\", line 193, in _run_module_as_main\n    \"__main__\", mod_spec)\n  File \"/home/iiser/.conda/envs/venv/lib/python3.6/runpy.py\", line 85, in _run_code\n    exec(code, run_globals)\n  File \"/home/iiser/.conda/envs/venv/lib/python3.6/site-packages/ipykernel_launcher.py\", line 16, in <module>\n    app.launch_new_instance()\n  File \"/home/iiser/.conda/envs/venv/lib/python3.6/site-packages/traitlets/config/application.py\", line 658, in launch_instance\n    app.start()\n  File \"/home/iiser/.conda/envs/venv/lib/python3.6/site-packages/ipykernel/kernelapp.py\", line 505, in start\n    self.io_loop.start()\n  File \"/home/iiser/.conda/envs/venv/lib/python3.6/site-packages/tornado/platform/asyncio.py\", line 132, in start\n    self.asyncio_loop.run_forever()\n  File \"/home/iiser/.conda/envs/venv/lib/python3.6/asyncio/base_events.py\", line 422, in run_forever\n    self._run_once()\n  File \"/home/iiser/.conda/envs/venv/lib/python3.6/asyncio/base_events.py\", line 1434, in _run_once\n    handle._run()\n  File \"/home/iiser/.conda/envs/venv/lib/python3.6/asyncio/events.py\", line 145, in _run\n    self._callback(*self._args)\n  File \"/home/iiser/.conda/envs/venv/lib/python3.6/site-packages/tornado/ioloop.py\", line 758, in _run_callback\n    ret = callback()\n  File \"/home/iiser/.conda/envs/venv/lib/python3.6/site-packages/tornado/stack_context.py\", line 300, in null_wrapper\n    return fn(*args, **kwargs)\n  File \"/home/iiser/.conda/envs/venv/lib/python3.6/site-packages/tornado/gen.py\", line 1233, in inner\n    self.run()\n  File \"/home/iiser/.conda/envs/venv/lib/python3.6/site-packages/tornado/gen.py\", line 1147, in run\n    yielded = self.gen.send(value)\n  File \"/home/iiser/.conda/envs/venv/lib/python3.6/site-packages/ipykernel/kernelbase.py\", line 370, in dispatch_queue\n    yield self.process_one()\n  File \"/home/iiser/.conda/envs/venv/lib/python3.6/site-packages/tornado/gen.py\", line 346, in wrapper\n    runner = Runner(result, future, yielded)\n  File \"/home/iiser/.conda/envs/venv/lib/python3.6/site-packages/tornado/gen.py\", line 1080, in __init__\n    self.run()\n  File \"/home/iiser/.conda/envs/venv/lib/python3.6/site-packages/tornado/gen.py\", line 1147, in run\n    yielded = self.gen.send(value)\n  File \"/home/iiser/.conda/envs/venv/lib/python3.6/site-packages/ipykernel/kernelbase.py\", line 357, in process_one\n    yield gen.maybe_future(dispatch(*args))\n  File \"/home/iiser/.conda/envs/venv/lib/python3.6/site-packages/tornado/gen.py\", line 326, in wrapper\n    yielded = next(result)\n  File \"/home/iiser/.conda/envs/venv/lib/python3.6/site-packages/ipykernel/kernelbase.py\", line 267, in dispatch_shell\n    yield gen.maybe_future(handler(stream, idents, msg))\n  File \"/home/iiser/.conda/envs/venv/lib/python3.6/site-packages/tornado/gen.py\", line 326, in wrapper\n    yielded = next(result)\n  File \"/home/iiser/.conda/envs/venv/lib/python3.6/site-packages/ipykernel/kernelbase.py\", line 534, in execute_request\n    user_expressions, allow_stdin,\n  File \"/home/iiser/.conda/envs/venv/lib/python3.6/site-packages/tornado/gen.py\", line 326, in wrapper\n    yielded = next(result)\n  File \"/home/iiser/.conda/envs/venv/lib/python3.6/site-packages/ipykernel/ipkernel.py\", line 294, in do_execute\n    res = shell.run_cell(code, store_history=store_history, silent=silent)\n  File \"/home/iiser/.conda/envs/venv/lib/python3.6/site-packages/ipykernel/zmqshell.py\", line 536, in run_cell\n    return super(ZMQInteractiveShell, self).run_cell(*args, **kwargs)\n  File \"/home/iiser/.conda/envs/venv/lib/python3.6/site-packages/IPython/core/interactiveshell.py\", line 2819, in run_cell\n    raw_cell, store_history, silent, shell_futures)\n  File \"/home/iiser/.conda/envs/venv/lib/python3.6/site-packages/IPython/core/interactiveshell.py\", line 2845, in _run_cell\n    return runner(coro)\n  File \"/home/iiser/.conda/envs/venv/lib/python3.6/site-packages/IPython/core/async_helpers.py\", line 67, in _pseudo_sync_runner\n    coro.send(None)\n  File \"/home/iiser/.conda/envs/venv/lib/python3.6/site-packages/IPython/core/interactiveshell.py\", line 3020, in run_cell_async\n    interactivity=interactivity, compiler=compiler, result=result)\n  File \"/home/iiser/.conda/envs/venv/lib/python3.6/site-packages/IPython/core/interactiveshell.py\", line 3191, in run_ast_nodes\n    if (yield from self.run_code(code, result)):\n  File \"/home/iiser/.conda/envs/venv/lib/python3.6/site-packages/IPython/core/interactiveshell.py\", line 3267, in run_code\n    exec(code_obj, self.user_global_ns, self.user_ns)\n  File \"<ipython-input-10-2728217053cb>\", line 1, in <module>\n    get_ipython().run_cell_magic('time', '', 'ts = time.time()\\n\\nstate = tf_int.odeint(dXdt, init_state, t, n_n, F_b)\\n\\nwith tf.Session() as sess:\\n    tf.global_variables_initializer().run()\\n    state = sess.run(state)\\n    sess.close()\\n')\n  File \"/home/iiser/.conda/envs/venv/lib/python3.6/site-packages/IPython/core/interactiveshell.py\", line 2323, in run_cell_magic\n    result = fn(magic_arg_s, cell)\n  File \"<decorator-gen-62>\", line 2, in time\n  File \"/home/iiser/.conda/envs/venv/lib/python3.6/site-packages/IPython/core/magic.py\", line 187, in <lambda>\n    call = lambda f, *a, **k: f(*a, **k)\n  File \"/home/iiser/.conda/envs/venv/lib/python3.6/site-packages/IPython/core/magics/execution.py\", line 1271, in time\n    exec(code, glob, local_ns)\n  File \"<timed exec>\", line 3, in <module>\n  File \"/home/iiser/Collins-Saptarshi 2019b/DAMN/Drawing Board/AL Model/Locust Bazhenov (no GABAb)/tf_integrator.py\", line 78, in odeint\n    return _Tf_Integrator(n_, F_b).integrate(func,y0,t)\n  File \"/home/iiser/Collins-Saptarshi 2019b/DAMN/Drawing Board/AL Model/Locust Bazhenov (no GABAb)/tf_integrator.py\", line 59, in integrate\n    y = tf.scan(scan_func, (t[:-1], time_delta_grid),y0)\n  File \"/home/iiser/.conda/envs/venv/lib/python3.6/site-packages/tensorflow/python/ops/functional_ops.py\", line 720, in scan\n    results_flat = [r.stack() for r in r_a]\n  File \"/home/iiser/.conda/envs/venv/lib/python3.6/site-packages/tensorflow/python/ops/functional_ops.py\", line 720, in <listcomp>\n    results_flat = [r.stack() for r in r_a]\n  File \"/home/iiser/.conda/envs/venv/lib/python3.6/site-packages/tensorflow/python/ops/tensor_array_ops.py\", line 856, in stack\n    return self._implementation.stack(name=name)\n  File \"/home/iiser/.conda/envs/venv/lib/python3.6/site-packages/tensorflow/python/ops/tensor_array_ops.py\", line 289, in stack\n    return self.gather(math_ops.range(0, self.size()), name=name)\n  File \"/home/iiser/.conda/envs/venv/lib/python3.6/site-packages/tensorflow/python/ops/tensor_array_ops.py\", line 303, in gather\n    element_shape=element_shape)\n  File \"/home/iiser/.conda/envs/venv/lib/python3.6/site-packages/tensorflow/python/ops/gen_data_flow_ops.py\", line 6031, in tensor_array_gather_v3\n    flow_in=flow_in, dtype=dtype, element_shape=element_shape, name=name)\n  File \"/home/iiser/.conda/envs/venv/lib/python3.6/site-packages/tensorflow/python/framework/op_def_library.py\", line 787, in _apply_op_helper\n    op_def=op_def)\n  File \"/home/iiser/.conda/envs/venv/lib/python3.6/site-packages/tensorflow/python/util/deprecation.py\", line 488, in new_func\n    return func(*args, **kwargs)\n  File \"/home/iiser/.conda/envs/venv/lib/python3.6/site-packages/tensorflow/python/framework/ops.py\", line 3274, in create_op\n    op_def=op_def)\n  File \"/home/iiser/.conda/envs/venv/lib/python3.6/site-packages/tensorflow/python/framework/ops.py\", line 1770, in __init__\n    self._traceback = tf_stack.extract_stack()\n\nResourceExhaustedError (see above for traceback): OOM when allocating tensor with shape[79999,6072] and type double on /job:localhost/replica:0/task:0/device:CPU:0 by allocator cpu\n\t [[node scan/TensorArrayStack/TensorArrayGatherV3 (defined at /home/iiser/Collins-Saptarshi 2019b/DAMN/Drawing Board/AL Model/Locust Bazhenov (no GABAb)/tf_integrator.py:59)  = TensorArrayGatherV3[dtype=DT_DOUBLE, element_shape=[6072], _device=\"/job:localhost/replica:0/task:0/device:CPU:0\"](scan/TensorArray_2, scan/TensorArrayStack/range, scan/while/Exit_3)]]\nHint: If you want to see a list of allocated tensors when OOM happens, add report_tensor_allocations_upon_oom to RunOptions for current allocation info.\n\n",
     "output_type": "error",
     "traceback": [
      "\u001b[0;31m---------------------------------------------------------------------------\u001b[0m",
      "\u001b[0;31mResourceExhaustedError\u001b[0m                    Traceback (most recent call last)",
      "\u001b[0;32m~/.conda/envs/venv/lib/python3.6/site-packages/tensorflow/python/client/session.py\u001b[0m in \u001b[0;36m_do_call\u001b[0;34m(self, fn, *args)\u001b[0m\n\u001b[1;32m   1333\u001b[0m     \u001b[0;32mtry\u001b[0m\u001b[0;34m:\u001b[0m\u001b[0;34m\u001b[0m\u001b[0m\n\u001b[0;32m-> 1334\u001b[0;31m       \u001b[0;32mreturn\u001b[0m \u001b[0mfn\u001b[0m\u001b[0;34m(\u001b[0m\u001b[0;34m*\u001b[0m\u001b[0margs\u001b[0m\u001b[0;34m)\u001b[0m\u001b[0;34m\u001b[0m\u001b[0m\n\u001b[0m\u001b[1;32m   1335\u001b[0m     \u001b[0;32mexcept\u001b[0m \u001b[0merrors\u001b[0m\u001b[0;34m.\u001b[0m\u001b[0mOpError\u001b[0m \u001b[0;32mas\u001b[0m \u001b[0me\u001b[0m\u001b[0;34m:\u001b[0m\u001b[0;34m\u001b[0m\u001b[0m\n",
      "\u001b[0;32m~/.conda/envs/venv/lib/python3.6/site-packages/tensorflow/python/client/session.py\u001b[0m in \u001b[0;36m_run_fn\u001b[0;34m(feed_dict, fetch_list, target_list, options, run_metadata)\u001b[0m\n\u001b[1;32m   1318\u001b[0m       return self._call_tf_sessionrun(\n\u001b[0;32m-> 1319\u001b[0;31m           options, feed_dict, fetch_list, target_list, run_metadata)\n\u001b[0m\u001b[1;32m   1320\u001b[0m \u001b[0;34m\u001b[0m\u001b[0m\n",
      "\u001b[0;32m~/.conda/envs/venv/lib/python3.6/site-packages/tensorflow/python/client/session.py\u001b[0m in \u001b[0;36m_call_tf_sessionrun\u001b[0;34m(self, options, feed_dict, fetch_list, target_list, run_metadata)\u001b[0m\n\u001b[1;32m   1406\u001b[0m         \u001b[0mself\u001b[0m\u001b[0;34m.\u001b[0m\u001b[0m_session\u001b[0m\u001b[0;34m,\u001b[0m \u001b[0moptions\u001b[0m\u001b[0;34m,\u001b[0m \u001b[0mfeed_dict\u001b[0m\u001b[0;34m,\u001b[0m \u001b[0mfetch_list\u001b[0m\u001b[0;34m,\u001b[0m \u001b[0mtarget_list\u001b[0m\u001b[0;34m,\u001b[0m\u001b[0;34m\u001b[0m\u001b[0m\n\u001b[0;32m-> 1407\u001b[0;31m         run_metadata)\n\u001b[0m\u001b[1;32m   1408\u001b[0m \u001b[0;34m\u001b[0m\u001b[0m\n",
      "\u001b[0;31mResourceExhaustedError\u001b[0m: OOM when allocating tensor with shape[79999,6072] and type double on /job:localhost/replica:0/task:0/device:CPU:0 by allocator cpu\n\t [[{{node scan/TensorArrayStack/TensorArrayGatherV3}} = TensorArrayGatherV3[dtype=DT_DOUBLE, element_shape=[6072], _device=\"/job:localhost/replica:0/task:0/device:CPU:0\"](scan/TensorArray_2, scan/TensorArrayStack/range, scan/while/Exit_3)]]\nHint: If you want to see a list of allocated tensors when OOM happens, add report_tensor_allocations_upon_oom to RunOptions for current allocation info.\n",
      "\nDuring handling of the above exception, another exception occurred:\n",
      "\u001b[0;31mResourceExhaustedError\u001b[0m                    Traceback (most recent call last)",
      "\u001b[0;32m<timed exec>\u001b[0m in \u001b[0;36m<module>\u001b[0;34m\u001b[0m\n",
      "\u001b[0;32m~/.conda/envs/venv/lib/python3.6/site-packages/tensorflow/python/client/session.py\u001b[0m in \u001b[0;36mrun\u001b[0;34m(self, fetches, feed_dict, options, run_metadata)\u001b[0m\n\u001b[1;32m    927\u001b[0m     \u001b[0;32mtry\u001b[0m\u001b[0;34m:\u001b[0m\u001b[0;34m\u001b[0m\u001b[0m\n\u001b[1;32m    928\u001b[0m       result = self._run(None, fetches, feed_dict, options_ptr,\n\u001b[0;32m--> 929\u001b[0;31m                          run_metadata_ptr)\n\u001b[0m\u001b[1;32m    930\u001b[0m       \u001b[0;32mif\u001b[0m \u001b[0mrun_metadata\u001b[0m\u001b[0;34m:\u001b[0m\u001b[0;34m\u001b[0m\u001b[0m\n\u001b[1;32m    931\u001b[0m         \u001b[0mproto_data\u001b[0m \u001b[0;34m=\u001b[0m \u001b[0mtf_session\u001b[0m\u001b[0;34m.\u001b[0m\u001b[0mTF_GetBuffer\u001b[0m\u001b[0;34m(\u001b[0m\u001b[0mrun_metadata_ptr\u001b[0m\u001b[0;34m)\u001b[0m\u001b[0;34m\u001b[0m\u001b[0m\n",
      "\u001b[0;32m~/.conda/envs/venv/lib/python3.6/site-packages/tensorflow/python/client/session.py\u001b[0m in \u001b[0;36m_run\u001b[0;34m(self, handle, fetches, feed_dict, options, run_metadata)\u001b[0m\n\u001b[1;32m   1150\u001b[0m     \u001b[0;32mif\u001b[0m \u001b[0mfinal_fetches\u001b[0m \u001b[0;32mor\u001b[0m \u001b[0mfinal_targets\u001b[0m \u001b[0;32mor\u001b[0m \u001b[0;34m(\u001b[0m\u001b[0mhandle\u001b[0m \u001b[0;32mand\u001b[0m \u001b[0mfeed_dict_tensor\u001b[0m\u001b[0;34m)\u001b[0m\u001b[0;34m:\u001b[0m\u001b[0;34m\u001b[0m\u001b[0m\n\u001b[1;32m   1151\u001b[0m       results = self._do_run(handle, final_targets, final_fetches,\n\u001b[0;32m-> 1152\u001b[0;31m                              feed_dict_tensor, options, run_metadata)\n\u001b[0m\u001b[1;32m   1153\u001b[0m     \u001b[0;32melse\u001b[0m\u001b[0;34m:\u001b[0m\u001b[0;34m\u001b[0m\u001b[0m\n\u001b[1;32m   1154\u001b[0m       \u001b[0mresults\u001b[0m \u001b[0;34m=\u001b[0m \u001b[0;34m[\u001b[0m\u001b[0;34m]\u001b[0m\u001b[0;34m\u001b[0m\u001b[0m\n",
      "\u001b[0;32m~/.conda/envs/venv/lib/python3.6/site-packages/tensorflow/python/client/session.py\u001b[0m in \u001b[0;36m_do_run\u001b[0;34m(self, handle, target_list, fetch_list, feed_dict, options, run_metadata)\u001b[0m\n\u001b[1;32m   1326\u001b[0m     \u001b[0;32mif\u001b[0m \u001b[0mhandle\u001b[0m \u001b[0;32mis\u001b[0m \u001b[0;32mNone\u001b[0m\u001b[0;34m:\u001b[0m\u001b[0;34m\u001b[0m\u001b[0m\n\u001b[1;32m   1327\u001b[0m       return self._do_call(_run_fn, feeds, fetches, targets, options,\n\u001b[0;32m-> 1328\u001b[0;31m                            run_metadata)\n\u001b[0m\u001b[1;32m   1329\u001b[0m     \u001b[0;32melse\u001b[0m\u001b[0;34m:\u001b[0m\u001b[0;34m\u001b[0m\u001b[0m\n\u001b[1;32m   1330\u001b[0m       \u001b[0;32mreturn\u001b[0m \u001b[0mself\u001b[0m\u001b[0;34m.\u001b[0m\u001b[0m_do_call\u001b[0m\u001b[0;34m(\u001b[0m\u001b[0m_prun_fn\u001b[0m\u001b[0;34m,\u001b[0m \u001b[0mhandle\u001b[0m\u001b[0;34m,\u001b[0m \u001b[0mfeeds\u001b[0m\u001b[0;34m,\u001b[0m \u001b[0mfetches\u001b[0m\u001b[0;34m)\u001b[0m\u001b[0;34m\u001b[0m\u001b[0m\n",
      "\u001b[0;32m~/.conda/envs/venv/lib/python3.6/site-packages/tensorflow/python/client/session.py\u001b[0m in \u001b[0;36m_do_call\u001b[0;34m(self, fn, *args)\u001b[0m\n\u001b[1;32m   1346\u001b[0m           \u001b[0;32mpass\u001b[0m\u001b[0;34m\u001b[0m\u001b[0m\n\u001b[1;32m   1347\u001b[0m       \u001b[0mmessage\u001b[0m \u001b[0;34m=\u001b[0m \u001b[0merror_interpolation\u001b[0m\u001b[0;34m.\u001b[0m\u001b[0minterpolate\u001b[0m\u001b[0;34m(\u001b[0m\u001b[0mmessage\u001b[0m\u001b[0;34m,\u001b[0m \u001b[0mself\u001b[0m\u001b[0;34m.\u001b[0m\u001b[0m_graph\u001b[0m\u001b[0;34m)\u001b[0m\u001b[0;34m\u001b[0m\u001b[0m\n\u001b[0;32m-> 1348\u001b[0;31m       \u001b[0;32mraise\u001b[0m \u001b[0mtype\u001b[0m\u001b[0;34m(\u001b[0m\u001b[0me\u001b[0m\u001b[0;34m)\u001b[0m\u001b[0;34m(\u001b[0m\u001b[0mnode_def\u001b[0m\u001b[0;34m,\u001b[0m \u001b[0mop\u001b[0m\u001b[0;34m,\u001b[0m \u001b[0mmessage\u001b[0m\u001b[0;34m)\u001b[0m\u001b[0;34m\u001b[0m\u001b[0m\n\u001b[0m\u001b[1;32m   1349\u001b[0m \u001b[0;34m\u001b[0m\u001b[0m\n\u001b[1;32m   1350\u001b[0m   \u001b[0;32mdef\u001b[0m \u001b[0m_extend_graph\u001b[0m\u001b[0;34m(\u001b[0m\u001b[0mself\u001b[0m\u001b[0;34m)\u001b[0m\u001b[0;34m:\u001b[0m\u001b[0;34m\u001b[0m\u001b[0m\n",
      "\u001b[0;31mResourceExhaustedError\u001b[0m: OOM when allocating tensor with shape[79999,6072] and type double on /job:localhost/replica:0/task:0/device:CPU:0 by allocator cpu\n\t [[node scan/TensorArrayStack/TensorArrayGatherV3 (defined at /home/iiser/Collins-Saptarshi 2019b/DAMN/Drawing Board/AL Model/Locust Bazhenov (no GABAb)/tf_integrator.py:59)  = TensorArrayGatherV3[dtype=DT_DOUBLE, element_shape=[6072], _device=\"/job:localhost/replica:0/task:0/device:CPU:0\"](scan/TensorArray_2, scan/TensorArrayStack/range, scan/while/Exit_3)]]\nHint: If you want to see a list of allocated tensors when OOM happens, add report_tensor_allocations_upon_oom to RunOptions for current allocation info.\n\n\nCaused by op 'scan/TensorArrayStack/TensorArrayGatherV3', defined at:\n  File \"/home/iiser/.conda/envs/venv/lib/python3.6/runpy.py\", line 193, in _run_module_as_main\n    \"__main__\", mod_spec)\n  File \"/home/iiser/.conda/envs/venv/lib/python3.6/runpy.py\", line 85, in _run_code\n    exec(code, run_globals)\n  File \"/home/iiser/.conda/envs/venv/lib/python3.6/site-packages/ipykernel_launcher.py\", line 16, in <module>\n    app.launch_new_instance()\n  File \"/home/iiser/.conda/envs/venv/lib/python3.6/site-packages/traitlets/config/application.py\", line 658, in launch_instance\n    app.start()\n  File \"/home/iiser/.conda/envs/venv/lib/python3.6/site-packages/ipykernel/kernelapp.py\", line 505, in start\n    self.io_loop.start()\n  File \"/home/iiser/.conda/envs/venv/lib/python3.6/site-packages/tornado/platform/asyncio.py\", line 132, in start\n    self.asyncio_loop.run_forever()\n  File \"/home/iiser/.conda/envs/venv/lib/python3.6/asyncio/base_events.py\", line 422, in run_forever\n    self._run_once()\n  File \"/home/iiser/.conda/envs/venv/lib/python3.6/asyncio/base_events.py\", line 1434, in _run_once\n    handle._run()\n  File \"/home/iiser/.conda/envs/venv/lib/python3.6/asyncio/events.py\", line 145, in _run\n    self._callback(*self._args)\n  File \"/home/iiser/.conda/envs/venv/lib/python3.6/site-packages/tornado/ioloop.py\", line 758, in _run_callback\n    ret = callback()\n  File \"/home/iiser/.conda/envs/venv/lib/python3.6/site-packages/tornado/stack_context.py\", line 300, in null_wrapper\n    return fn(*args, **kwargs)\n  File \"/home/iiser/.conda/envs/venv/lib/python3.6/site-packages/tornado/gen.py\", line 1233, in inner\n    self.run()\n  File \"/home/iiser/.conda/envs/venv/lib/python3.6/site-packages/tornado/gen.py\", line 1147, in run\n    yielded = self.gen.send(value)\n  File \"/home/iiser/.conda/envs/venv/lib/python3.6/site-packages/ipykernel/kernelbase.py\", line 370, in dispatch_queue\n    yield self.process_one()\n  File \"/home/iiser/.conda/envs/venv/lib/python3.6/site-packages/tornado/gen.py\", line 346, in wrapper\n    runner = Runner(result, future, yielded)\n  File \"/home/iiser/.conda/envs/venv/lib/python3.6/site-packages/tornado/gen.py\", line 1080, in __init__\n    self.run()\n  File \"/home/iiser/.conda/envs/venv/lib/python3.6/site-packages/tornado/gen.py\", line 1147, in run\n    yielded = self.gen.send(value)\n  File \"/home/iiser/.conda/envs/venv/lib/python3.6/site-packages/ipykernel/kernelbase.py\", line 357, in process_one\n    yield gen.maybe_future(dispatch(*args))\n  File \"/home/iiser/.conda/envs/venv/lib/python3.6/site-packages/tornado/gen.py\", line 326, in wrapper\n    yielded = next(result)\n  File \"/home/iiser/.conda/envs/venv/lib/python3.6/site-packages/ipykernel/kernelbase.py\", line 267, in dispatch_shell\n    yield gen.maybe_future(handler(stream, idents, msg))\n  File \"/home/iiser/.conda/envs/venv/lib/python3.6/site-packages/tornado/gen.py\", line 326, in wrapper\n    yielded = next(result)\n  File \"/home/iiser/.conda/envs/venv/lib/python3.6/site-packages/ipykernel/kernelbase.py\", line 534, in execute_request\n    user_expressions, allow_stdin,\n  File \"/home/iiser/.conda/envs/venv/lib/python3.6/site-packages/tornado/gen.py\", line 326, in wrapper\n    yielded = next(result)\n  File \"/home/iiser/.conda/envs/venv/lib/python3.6/site-packages/ipykernel/ipkernel.py\", line 294, in do_execute\n    res = shell.run_cell(code, store_history=store_history, silent=silent)\n  File \"/home/iiser/.conda/envs/venv/lib/python3.6/site-packages/ipykernel/zmqshell.py\", line 536, in run_cell\n    return super(ZMQInteractiveShell, self).run_cell(*args, **kwargs)\n  File \"/home/iiser/.conda/envs/venv/lib/python3.6/site-packages/IPython/core/interactiveshell.py\", line 2819, in run_cell\n    raw_cell, store_history, silent, shell_futures)\n  File \"/home/iiser/.conda/envs/venv/lib/python3.6/site-packages/IPython/core/interactiveshell.py\", line 2845, in _run_cell\n    return runner(coro)\n  File \"/home/iiser/.conda/envs/venv/lib/python3.6/site-packages/IPython/core/async_helpers.py\", line 67, in _pseudo_sync_runner\n    coro.send(None)\n  File \"/home/iiser/.conda/envs/venv/lib/python3.6/site-packages/IPython/core/interactiveshell.py\", line 3020, in run_cell_async\n    interactivity=interactivity, compiler=compiler, result=result)\n  File \"/home/iiser/.conda/envs/venv/lib/python3.6/site-packages/IPython/core/interactiveshell.py\", line 3191, in run_ast_nodes\n    if (yield from self.run_code(code, result)):\n  File \"/home/iiser/.conda/envs/venv/lib/python3.6/site-packages/IPython/core/interactiveshell.py\", line 3267, in run_code\n    exec(code_obj, self.user_global_ns, self.user_ns)\n  File \"<ipython-input-10-2728217053cb>\", line 1, in <module>\n    get_ipython().run_cell_magic('time', '', 'ts = time.time()\\n\\nstate = tf_int.odeint(dXdt, init_state, t, n_n, F_b)\\n\\nwith tf.Session() as sess:\\n    tf.global_variables_initializer().run()\\n    state = sess.run(state)\\n    sess.close()\\n')\n  File \"/home/iiser/.conda/envs/venv/lib/python3.6/site-packages/IPython/core/interactiveshell.py\", line 2323, in run_cell_magic\n    result = fn(magic_arg_s, cell)\n  File \"<decorator-gen-62>\", line 2, in time\n  File \"/home/iiser/.conda/envs/venv/lib/python3.6/site-packages/IPython/core/magic.py\", line 187, in <lambda>\n    call = lambda f, *a, **k: f(*a, **k)\n  File \"/home/iiser/.conda/envs/venv/lib/python3.6/site-packages/IPython/core/magics/execution.py\", line 1271, in time\n    exec(code, glob, local_ns)\n  File \"<timed exec>\", line 3, in <module>\n  File \"/home/iiser/Collins-Saptarshi 2019b/DAMN/Drawing Board/AL Model/Locust Bazhenov (no GABAb)/tf_integrator.py\", line 78, in odeint\n    return _Tf_Integrator(n_, F_b).integrate(func,y0,t)\n  File \"/home/iiser/Collins-Saptarshi 2019b/DAMN/Drawing Board/AL Model/Locust Bazhenov (no GABAb)/tf_integrator.py\", line 59, in integrate\n    y = tf.scan(scan_func, (t[:-1], time_delta_grid),y0)\n  File \"/home/iiser/.conda/envs/venv/lib/python3.6/site-packages/tensorflow/python/ops/functional_ops.py\", line 720, in scan\n    results_flat = [r.stack() for r in r_a]\n  File \"/home/iiser/.conda/envs/venv/lib/python3.6/site-packages/tensorflow/python/ops/functional_ops.py\", line 720, in <listcomp>\n    results_flat = [r.stack() for r in r_a]\n  File \"/home/iiser/.conda/envs/venv/lib/python3.6/site-packages/tensorflow/python/ops/tensor_array_ops.py\", line 856, in stack\n    return self._implementation.stack(name=name)\n  File \"/home/iiser/.conda/envs/venv/lib/python3.6/site-packages/tensorflow/python/ops/tensor_array_ops.py\", line 289, in stack\n    return self.gather(math_ops.range(0, self.size()), name=name)\n  File \"/home/iiser/.conda/envs/venv/lib/python3.6/site-packages/tensorflow/python/ops/tensor_array_ops.py\", line 303, in gather\n    element_shape=element_shape)\n  File \"/home/iiser/.conda/envs/venv/lib/python3.6/site-packages/tensorflow/python/ops/gen_data_flow_ops.py\", line 6031, in tensor_array_gather_v3\n    flow_in=flow_in, dtype=dtype, element_shape=element_shape, name=name)\n  File \"/home/iiser/.conda/envs/venv/lib/python3.6/site-packages/tensorflow/python/framework/op_def_library.py\", line 787, in _apply_op_helper\n    op_def=op_def)\n  File \"/home/iiser/.conda/envs/venv/lib/python3.6/site-packages/tensorflow/python/util/deprecation.py\", line 488, in new_func\n    return func(*args, **kwargs)\n  File \"/home/iiser/.conda/envs/venv/lib/python3.6/site-packages/tensorflow/python/framework/ops.py\", line 3274, in create_op\n    op_def=op_def)\n  File \"/home/iiser/.conda/envs/venv/lib/python3.6/site-packages/tensorflow/python/framework/ops.py\", line 1770, in __init__\n    self._traceback = tf_stack.extract_stack()\n\nResourceExhaustedError (see above for traceback): OOM when allocating tensor with shape[79999,6072] and type double on /job:localhost/replica:0/task:0/device:CPU:0 by allocator cpu\n\t [[node scan/TensorArrayStack/TensorArrayGatherV3 (defined at /home/iiser/Collins-Saptarshi 2019b/DAMN/Drawing Board/AL Model/Locust Bazhenov (no GABAb)/tf_integrator.py:59)  = TensorArrayGatherV3[dtype=DT_DOUBLE, element_shape=[6072], _device=\"/job:localhost/replica:0/task:0/device:CPU:0\"](scan/TensorArray_2, scan/TensorArrayStack/range, scan/while/Exit_3)]]\nHint: If you want to see a list of allocated tensors when OOM happens, add report_tensor_allocations_upon_oom to RunOptions for current allocation info.\n\n"
     ]
    }
   ],
   "source": [
    "%%time\n",
    "ts = time.time()\n",
    "\n",
    "state = tf_int.odeint(dXdt, init_state, t, n_n, F_b)\n",
    "\n",
    "with tf.Session() as sess:\n",
    "    tf.global_variables_initializer().run()\n",
    "    state = sess.run(state)\n",
    "    sess.close()"
   ]
  },
  {
   "cell_type": "code",
   "execution_count": 11,
   "metadata": {
    "scrolled": false
   },
   "outputs": [
    {
     "ename": "AttributeError",
     "evalue": "'Tensor' object has no attribute 'T'",
     "output_type": "error",
     "traceback": [
      "\u001b[0;31m---------------------------------------------------------------------------\u001b[0m",
      "\u001b[0;31mAttributeError\u001b[0m                            Traceback (most recent call last)",
      "\u001b[0;32m<ipython-input-11-cde1d2e00cef>\u001b[0m in \u001b[0;36m<module>\u001b[0;34m\u001b[0m\n\u001b[1;32m      1\u001b[0m \u001b[0mplt\u001b[0m\u001b[0;34m.\u001b[0m\u001b[0mfigure\u001b[0m\u001b[0;34m(\u001b[0m\u001b[0mfigsize\u001b[0m\u001b[0;34m=\u001b[0m\u001b[0;34m(\u001b[0m\u001b[0;36m12\u001b[0m\u001b[0;34m,\u001b[0m\u001b[0;36m6\u001b[0m\u001b[0;34m)\u001b[0m\u001b[0;34m)\u001b[0m\u001b[0;34m\u001b[0m\u001b[0m\n\u001b[1;32m      2\u001b[0m \u001b[0;34m\u001b[0m\u001b[0m\n\u001b[0;32m----> 3\u001b[0;31m \u001b[0msns\u001b[0m\u001b[0;34m.\u001b[0m\u001b[0mheatmap\u001b[0m\u001b[0;34m(\u001b[0m\u001b[0mstate\u001b[0m\u001b[0;34m[\u001b[0m\u001b[0;34m:\u001b[0m\u001b[0;34m:\u001b[0m\u001b[0;36m100\u001b[0m\u001b[0;34m,\u001b[0m\u001b[0;34m:\u001b[0m\u001b[0;36m90\u001b[0m\u001b[0;34m]\u001b[0m\u001b[0;34m.\u001b[0m\u001b[0mT\u001b[0m\u001b[0;34m,\u001b[0m\u001b[0mxticklabels\u001b[0m\u001b[0;34m=\u001b[0m\u001b[0;36m100\u001b[0m\u001b[0;34m,\u001b[0m\u001b[0myticklabels\u001b[0m\u001b[0;34m=\u001b[0m\u001b[0;36m5\u001b[0m\u001b[0;34m,\u001b[0m\u001b[0mcmap\u001b[0m\u001b[0;34m=\u001b[0m\u001b[0;34m'Greys'\u001b[0m\u001b[0;34m)\u001b[0m\u001b[0;34m\u001b[0m\u001b[0m\n\u001b[0m\u001b[1;32m      4\u001b[0m \u001b[0;34m\u001b[0m\u001b[0m\n\u001b[1;32m      5\u001b[0m \u001b[0mplt\u001b[0m\u001b[0;34m.\u001b[0m\u001b[0mxlabel\u001b[0m\u001b[0;34m(\u001b[0m\u001b[0;34m\"Time (in ms)\"\u001b[0m\u001b[0;34m)\u001b[0m\u001b[0;34m\u001b[0m\u001b[0m\n",
      "\u001b[0;31mAttributeError\u001b[0m: 'Tensor' object has no attribute 'T'"
     ]
    },
    {
     "data": {
      "text/plain": [
       "<Figure size 864x432 with 0 Axes>"
      ]
     },
     "metadata": {},
     "output_type": "display_data"
    }
   ],
   "source": [
    "plt.figure(figsize=(12,6))\n",
    "    \n",
    "sns.heatmap(state[::100,:90].T,xticklabels=100,yticklabels=5,cmap='Greys')\n",
    "\n",
    "plt.xlabel(\"Time (in ms)\")\n",
    "plt.ylabel(\"Projection Neuron Number\")\n",
    "plt.title(\"Voltage vs Time Heatmap for Projection Neurons (PNs)\")\n",
    "\n",
    "plt.tight_layout()\n",
    "plt.show()\n"
   ]
  },
  {
   "cell_type": "code",
   "execution_count": null,
   "metadata": {
    "scrolled": false
   },
   "outputs": [],
   "source": [
    "plt.figure(figsize=(12,6))\n",
    "    \n",
    "sns.heatmap(state[::100,90:120].T,xticklabels=100,yticklabels=5,cmap='Greys')\n",
    "\n",
    "plt.xlabel(\"Time (in ms)\")\n",
    "plt.ylabel(\"Local Interneuron Number\")\n",
    "plt.title(\"Voltage vs Time Heatmap for Local Interneurons (LNs)\")\n",
    "\n",
    "plt.tight_layout()\n",
    "plt.show()"
   ]
  },
  {
   "cell_type": "code",
   "execution_count": null,
   "metadata": {},
   "outputs": [],
   "source": [
    "plt.figure(figsize=(10,10))\n",
    "for i in range(30):\n",
    "    plt.plot(100*i+state[::100,i])"
   ]
  },
  {
   "cell_type": "code",
   "execution_count": null,
   "metadata": {},
   "outputs": [],
   "source": []
  },
  {
   "cell_type": "code",
   "execution_count": null,
   "metadata": {},
   "outputs": [],
   "source": [
    "plt.plot(state[::100,:90].mean(axis=1))"
   ]
  },
  {
   "cell_type": "code",
   "execution_count": null,
   "metadata": {},
   "outputs": [],
   "source": [
    "y = state[5000:55000,:90].mean(axis=1)\n",
    "\n",
    "Y = np.fft.fft(y)\n",
    "freq = np.fft.fftfreq(len(y), 0.01/1000)\n",
    "\n",
    "ind = np.logical_and(freq>0,freq<200)\n",
    "\n",
    "plt.plot( freq[ind], np.abs(Y)[ind] )"
   ]
  },
  {
   "cell_type": "code",
   "execution_count": null,
   "metadata": {},
   "outputs": [],
   "source": [
    "state[:,:90]"
   ]
  },
  {
   "cell_type": "code",
   "execution_count": null,
   "metadata": {},
   "outputs": [],
   "source": [
    "with tf.Session() as sess:\n",
    "    stateK = sess.run(K_prop(np.linspace(-150,150,300)))\n",
    "    stateNa = sess.run(Na_prop(np.linspace(-150,150,300)))\n",
    "    plt.plot(np.linspace(-150,150,300),stateK[0],'r')\n",
    "    plt.plot(np.linspace(-150,150,300),stateNa[0],'b')    \n",
    "    plt.plot(np.linspace(-150,150,300),stateNa[2],'g')\n",
    "    plt.show()\n",
    "    plt.plot(np.linspace(-150,150,300),stateK[1],'r')\n",
    "    plt.plot(np.linspace(-150,150,300),stateNa[1]*10,'b')    \n",
    "    plt.plot(np.linspace(-150,150,300),stateNa[3],'g')"
   ]
  },
  {
   "cell_type": "code",
   "execution_count": null,
   "metadata": {},
   "outputs": [],
   "source": [
    "plt.imshow(ach_mat)"
   ]
  },
  {
   "cell_type": "code",
   "execution_count": null,
   "metadata": {},
   "outputs": [],
   "source": [
    "np.array(G_sgaba)/np.sum(sgaba_mat,axis=1)"
   ]
  },
  {
   "cell_type": "code",
   "execution_count": null,
   "metadata": {},
   "outputs": [],
   "source": [
    "plt.hist(g_ach)"
   ]
  },
  {
   "cell_type": "code",
   "execution_count": null,
   "metadata": {},
   "outputs": [],
   "source": [
    "g_ach"
   ]
  },
  {
   "cell_type": "code",
   "execution_count": null,
   "metadata": {},
   "outputs": [],
   "source": []
  }
 ],
 "metadata": {
  "kernelspec": {
   "display_name": "Python 3",
   "language": "python",
   "name": "python3"
  },
  "language_info": {
   "codemirror_mode": {
    "name": "ipython",
    "version": 3
   },
   "file_extension": ".py",
   "mimetype": "text/x-python",
   "name": "python",
   "nbconvert_exporter": "python",
   "pygments_lexer": "ipython3",
   "version": "3.6.6"
  }
 },
 "nbformat": 4,
 "nbformat_minor": 2
}
